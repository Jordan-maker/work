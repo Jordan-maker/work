{
 "cells": [
  {
   "cell_type": "code",
   "execution_count": 1,
   "outputs": [],
   "source": [
    "from pyspark.sql import SparkSession\n",
    "from pyspark.ml.feature import VectorAssembler, StandardScaler, PCA\n",
    "from pyspark.ml.evaluation import BinaryClassificationEvaluator\n",
    "from pyspark.ml import Pipeline\n",
    "from xgboost.spark import SparkXGBClassifier\n",
    "from pyspark.ml.tuning import CrossValidator, ParamGridBuilder\n",
    "import warnings\n",
    "warnings.filterwarnings(\"ignore\")"
   ],
   "metadata": {
    "collapsed": false,
    "pycharm": {
     "name": "#%%\n"
    }
   }
  },
  {
   "cell_type": "code",
   "execution_count": 2,
   "outputs": [
    {
     "name": "stderr",
     "output_type": "stream",
     "text": [
      "23/11/14 08:38:48 WARN Utils: Your hostname, jordan-Lenovo-Y720-15IKB resolves to a loopback address: 127.0.1.1; using 192.168.50.141 instead (on interface enp3s0)\n",
      "23/11/14 08:38:48 WARN Utils: Set SPARK_LOCAL_IP if you need to bind to another address\n",
      "WARNING: An illegal reflective access operation has occurred\n",
      "WARNING: Illegal reflective access by org.apache.spark.unsafe.Platform (file:/home/jordan/Desktop/Python_examples/pySpark/venv/lib/python3.10/site-packages/pyspark/jars/spark-unsafe_2.12-3.1.1.jar) to constructor java.nio.DirectByteBuffer(long,int)\n",
      "WARNING: Please consider reporting this to the maintainers of org.apache.spark.unsafe.Platform\n",
      "WARNING: Use --illegal-access=warn to enable warnings of further illegal reflective access operations\n",
      "WARNING: All illegal access operations will be denied in a future release\n",
      "23/11/14 08:38:48 WARN NativeCodeLoader: Unable to load native-hadoop library for your platform... using builtin-java classes where applicable\n",
      "Using Spark's default log4j profile: org/apache/spark/log4j-defaults.properties\n",
      "Setting default log level to \"WARN\".\n",
      "To adjust logging level use sc.setLogLevel(newLevel). For SparkR, use setLogLevel(newLevel).\n",
      "23/11/14 08:38:49 WARN Utils: Service 'SparkUI' could not bind on port 4040. Attempting port 4041.\n",
      "23/11/14 08:38:49 WARN Utils: Service 'SparkUI' could not bind on port 4041. Attempting port 4042.\n"
     ]
    }
   ],
   "source": [
    "# Create a Spark session\n",
    "spark = SparkSession.builder.appName(\"PySparkMLExample\").getOrCreate()"
   ],
   "metadata": {
    "collapsed": false,
    "pycharm": {
     "name": "#%%\n"
    }
   }
  },
  {
   "cell_type": "code",
   "execution_count": 3,
   "outputs": [
    {
     "data": {
      "text/plain": "DataFrame[id: int, diagnosis: string, radius_mean: double, texture_mean: double, perimeter_mean: double, area_mean: double, smoothness_mean: double, compactness_mean: double, concavity_mean: double, concave points_mean: double, symmetry_mean: double, fractal_dimension_mean: double, radius_se: double, texture_se: double, perimeter_se: double, area_se: double, smoothness_se: double, compactness_se: double, concavity_se: double, concave points_se: double, symmetry_se: double, fractal_dimension_se: double, radius_worst: double, texture_worst: double, perimeter_worst: double, area_worst: double, smoothness_worst: double, compactness_worst: double, concavity_worst: double, concave points_worst: double, symmetry_worst: double, fractal_dimension_worst: double, _c32: string]"
     },
     "execution_count": 3,
     "metadata": {},
     "output_type": "execute_result"
    }
   ],
   "source": [
    "# Load data\n",
    "#data = spark.read.format(\"csv\").option(\"header\", \"true\").option(\"inferSchema\", \"true\").load(\"data.csv\")\n",
    "data = spark.read.csv(\"data.csv\", header=True, inferSchema=True)\n",
    "data"
   ],
   "metadata": {
    "collapsed": false,
    "pycharm": {
     "name": "#%%\n"
    }
   }
  },
  {
   "cell_type": "code",
   "execution_count": 4,
   "outputs": [],
   "source": [
    "# performing label encoding on the target variable \"diagnosis\" by creating a new named \"label\" (now double dtype)\n",
    "from pyspark.ml.feature import StringIndexer\n",
    "\n",
    "string_indexer = StringIndexer(inputCol=\"diagnosis\", outputCol=\"label\")\n",
    "model = string_indexer.fit(data)\n",
    "data = model.transform(data)"
   ],
   "metadata": {
    "collapsed": false,
    "pycharm": {
     "name": "#%%\n"
    }
   }
  },
  {
   "cell_type": "code",
   "execution_count": 5,
   "outputs": [
    {
     "data": {
      "text/plain": "['id',\n 'diagnosis',\n 'radius_mean',\n 'texture_mean',\n 'perimeter_mean',\n 'area_mean',\n 'smoothness_mean',\n 'compactness_mean',\n 'concavity_mean',\n 'concave points_mean',\n 'symmetry_mean',\n 'fractal_dimension_mean',\n 'radius_se',\n 'texture_se',\n 'perimeter_se',\n 'area_se',\n 'smoothness_se',\n 'compactness_se',\n 'concavity_se',\n 'concave points_se',\n 'symmetry_se',\n 'fractal_dimension_se',\n 'radius_worst',\n 'texture_worst',\n 'perimeter_worst',\n 'area_worst',\n 'smoothness_worst',\n 'compactness_worst',\n 'concavity_worst',\n 'concave points_worst',\n 'symmetry_worst',\n 'fractal_dimension_worst',\n '_c32',\n 'label']"
     },
     "execution_count": 5,
     "metadata": {},
     "output_type": "execute_result"
    }
   ],
   "source": [
    "data.columns"
   ],
   "metadata": {
    "collapsed": false,
    "pycharm": {
     "name": "#%%\n"
    }
   }
  },
  {
   "cell_type": "code",
   "execution_count": 6,
   "outputs": [],
   "source": [
    "# changing the dtype of \"label\" column from double to integer.\n",
    "data = data.withColumn(\"label\", data[\"label\"].cast(\"integer\"))"
   ],
   "metadata": {
    "collapsed": false,
    "pycharm": {
     "name": "#%%\n"
    }
   }
  },
  {
   "cell_type": "code",
   "execution_count": 7,
   "outputs": [],
   "source": [
    "# remove the columns \"diagnosis\", \"id\" and _c32\n",
    "data = data.drop(\"diagnosis\", \"id\", \"_c32\")"
   ],
   "metadata": {
    "collapsed": false,
    "pycharm": {
     "name": "#%%\n"
    }
   }
  },
  {
   "cell_type": "code",
   "execution_count": 8,
   "outputs": [
    {
     "name": "stdout",
     "output_type": "stream",
     "text": [
      "+-----+\n",
      "|label|\n",
      "+-----+\n",
      "|    1|\n",
      "|    1|\n",
      "|    1|\n",
      "|    1|\n",
      "|    1|\n",
      "|    1|\n",
      "|    1|\n",
      "|    1|\n",
      "|    1|\n",
      "|    1|\n",
      "|    1|\n",
      "|    1|\n",
      "|    1|\n",
      "|    1|\n",
      "|    1|\n",
      "|    1|\n",
      "|    1|\n",
      "|    1|\n",
      "|    1|\n",
      "|    0|\n",
      "|    0|\n",
      "|    0|\n",
      "|    1|\n",
      "|    1|\n",
      "|    1|\n",
      "|    1|\n",
      "|    1|\n",
      "|    1|\n",
      "|    1|\n",
      "|    1|\n",
      "+-----+\n",
      "only showing top 30 rows\n",
      "\n"
     ]
    }
   ],
   "source": [
    "# print the 30 first values for \"label\" column\n",
    "data.select(\"label\").show(30)"
   ],
   "metadata": {
    "collapsed": false,
    "pycharm": {
     "name": "#%%\n"
    }
   }
  },
  {
   "cell_type": "code",
   "execution_count": 23,
   "outputs": [
    {
     "name": "stdout",
     "output_type": "stream",
     "text": [
      "+-------------------------------------------------------------------------------------------------------------------------------------------------------------------------------------------------------------------------+-----+\n",
      "|features                                                                                                                                                                                                                 |label|\n",
      "+-------------------------------------------------------------------------------------------------------------------------------------------------------------------------------------------------------------------------+-----+\n",
      "|[17.99,10.38,122.8,1001.0,0.1184,0.2776,0.3001,0.1471,0.2419,0.07871,1.095,0.9053,8.589,153.4,0.006399,0.04904,0.05373,0.01587,0.03003,0.006193,25.38,17.33,184.6,2019.0,0.1622,0.6656,0.7119,0.2654,0.4601,0.1189]      |1    |\n",
      "|[20.57,17.77,132.9,1326.0,0.08474,0.07864,0.0869,0.07017,0.1812,0.05667,0.5435,0.7339,3.398,74.08,0.005225,0.01308,0.0186,0.0134,0.01389,0.003532,24.99,23.41,158.8,1956.0,0.1238,0.1866,0.2416,0.186,0.275,0.08902]     |1    |\n",
      "|[19.69,21.25,130.0,1203.0,0.1096,0.1599,0.1974,0.1279,0.2069,0.05999,0.7456,0.7869,4.585,94.03,0.00615,0.04006,0.03832,0.02058,0.0225,0.004571,23.57,25.53,152.5,1709.0,0.1444,0.4245,0.4504,0.243,0.3613,0.08758]       |1    |\n",
      "|[11.42,20.38,77.58,386.1,0.1425,0.2839,0.2414,0.1052,0.2597,0.09744,0.4956,1.156,3.445,27.23,0.00911,0.07458,0.05661,0.01867,0.05963,0.009208,14.91,26.5,98.87,567.7,0.2098,0.8663,0.6869,0.2575,0.6638,0.173]           |1    |\n",
      "|[20.29,14.34,135.1,1297.0,0.1003,0.1328,0.198,0.1043,0.1809,0.05883,0.7572,0.7813,5.438,94.44,0.01149,0.02461,0.05688,0.01885,0.01756,0.005115,22.54,16.67,152.2,1575.0,0.1374,0.205,0.4,0.1625,0.2364,0.07678]          |1    |\n",
      "|[12.45,15.7,82.57,477.1,0.1278,0.17,0.1578,0.08089,0.2087,0.07613,0.3345,0.8902,2.217,27.19,0.00751,0.03345,0.03672,0.01137,0.02165,0.005082,15.47,23.75,103.4,741.6,0.1791,0.5249,0.5355,0.1741,0.3985,0.1244]          |1    |\n",
      "|[18.25,19.98,119.6,1040.0,0.09463,0.109,0.1127,0.074,0.1794,0.05742,0.4467,0.7732,3.18,53.91,0.004314,0.01382,0.02254,0.01039,0.01369,0.002179,22.88,27.66,153.2,1606.0,0.1442,0.2576,0.3784,0.1932,0.3063,0.08368]      |1    |\n",
      "|[13.71,20.83,90.2,577.9,0.1189,0.1645,0.09366,0.05985,0.2196,0.07451,0.5835,1.377,3.856,50.96,0.008805,0.03029,0.02488,0.01448,0.01486,0.005412,17.06,28.14,110.6,897.0,0.1654,0.3682,0.2678,0.1556,0.3196,0.1151]       |1    |\n",
      "|[13.0,21.82,87.5,519.8,0.1273,0.1932,0.1859,0.09353,0.235,0.07389,0.3063,1.002,2.406,24.32,0.005731,0.03502,0.03553,0.01226,0.02143,0.003749,15.49,30.73,106.2,739.3,0.1703,0.5401,0.539,0.206,0.4378,0.1072]            |1    |\n",
      "|[12.46,24.04,83.97,475.9,0.1186,0.2396,0.2273,0.08543,0.203,0.08243,0.2976,1.599,2.039,23.94,0.007149,0.07217,0.07743,0.01432,0.01789,0.01008,15.09,40.68,97.65,711.4,0.1853,1.058,1.105,0.221,0.4366,0.2075]            |1    |\n",
      "|[16.02,23.24,102.7,797.8,0.08206,0.06669,0.03299,0.03323,0.1528,0.05697,0.3795,1.187,2.466,40.51,0.004029,0.009269,0.01101,0.007591,0.0146,0.003042,19.19,33.88,123.8,1150.0,0.1181,0.1551,0.1459,0.09975,0.2948,0.08452]|1    |\n",
      "|[15.78,17.89,103.6,781.0,0.0971,0.1292,0.09954,0.06606,0.1842,0.06082,0.5058,0.9849,3.564,54.16,0.005771,0.04061,0.02791,0.01282,0.02008,0.004144,20.42,27.28,136.5,1299.0,0.1396,0.5609,0.3965,0.181,0.3792,0.1048]     |1    |\n",
      "|[19.17,24.8,132.4,1123.0,0.0974,0.2458,0.2065,0.1118,0.2397,0.078,0.9555,3.568,11.07,116.2,0.003139,0.08297,0.0889,0.0409,0.04484,0.01284,20.96,29.94,151.7,1332.0,0.1037,0.3903,0.3639,0.1767,0.3176,0.1023]            |1    |\n",
      "|[15.85,23.95,103.7,782.7,0.08401,0.1002,0.09938,0.05364,0.1847,0.05338,0.4033,1.078,2.903,36.58,0.009769,0.03126,0.05051,0.01992,0.02981,0.003002,16.84,27.66,112.0,876.5,0.1131,0.1924,0.2322,0.1119,0.2809,0.06287]    |1    |\n",
      "|[13.73,22.61,93.6,578.3,0.1131,0.2293,0.2128,0.08025,0.2069,0.07682,0.2121,1.169,2.061,19.21,0.006429,0.05936,0.05501,0.01628,0.01961,0.008093,15.03,32.01,108.8,697.7,0.1651,0.7725,0.6943,0.2208,0.3596,0.1431]        |1    |\n",
      "|[14.54,27.54,96.73,658.8,0.1139,0.1595,0.1639,0.07364,0.2303,0.07077,0.37,1.033,2.879,32.55,0.005607,0.0424,0.04741,0.0109,0.01857,0.005466,17.46,37.13,124.1,943.2,0.1678,0.6577,0.7026,0.1712,0.4218,0.1341]           |1    |\n",
      "|[14.68,20.13,94.74,684.5,0.09867,0.072,0.07395,0.05259,0.1586,0.05922,0.4727,1.24,3.195,45.4,0.005718,0.01162,0.01998,0.01109,0.0141,0.002085,19.07,30.88,123.4,1138.0,0.1464,0.1871,0.2914,0.1609,0.3029,0.08216]       |1    |\n",
      "|[16.13,20.68,108.1,798.8,0.117,0.2022,0.1722,0.1028,0.2164,0.07356,0.5692,1.073,3.854,54.18,0.007026,0.02501,0.03188,0.01297,0.01689,0.004142,20.96,31.48,136.8,1315.0,0.1789,0.4233,0.4784,0.2073,0.3706,0.1142]        |1    |\n",
      "|[19.81,22.15,130.0,1260.0,0.09831,0.1027,0.1479,0.09498,0.1582,0.05395,0.7582,1.017,5.865,112.4,0.006494,0.01893,0.03391,0.01521,0.01356,0.001997,27.32,30.88,186.8,2398.0,0.1512,0.315,0.5372,0.2388,0.2768,0.07615]    |1    |\n",
      "|[13.54,14.36,87.46,566.3,0.09779,0.08129,0.06664,0.04781,0.1885,0.05766,0.2699,0.7886,2.058,23.56,0.008462,0.0146,0.02387,0.01315,0.0198,0.0023,15.11,19.26,99.7,711.2,0.144,0.1773,0.239,0.1288,0.2977,0.07259]         |0    |\n",
      "+-------------------------------------------------------------------------------------------------------------------------------------------------------------------------------------------------------------------------+-----+\n",
      "only showing top 20 rows\n",
      "\n"
     ]
    }
   ],
   "source": [
    "data.show(20, truncate=False)"
   ],
   "metadata": {
    "collapsed": false,
    "pycharm": {
     "name": "#%%\n"
    }
   }
  },
  {
   "cell_type": "code",
   "execution_count": 10,
   "outputs": [
    {
     "name": "stdout",
     "output_type": "stream",
     "text": [
      "root\n",
      " |-- radius_mean: double (nullable = true)\n",
      " |-- texture_mean: double (nullable = true)\n",
      " |-- perimeter_mean: double (nullable = true)\n",
      " |-- area_mean: double (nullable = true)\n",
      " |-- smoothness_mean: double (nullable = true)\n",
      " |-- compactness_mean: double (nullable = true)\n",
      " |-- concavity_mean: double (nullable = true)\n",
      " |-- concave points_mean: double (nullable = true)\n",
      " |-- symmetry_mean: double (nullable = true)\n",
      " |-- fractal_dimension_mean: double (nullable = true)\n",
      " |-- radius_se: double (nullable = true)\n",
      " |-- texture_se: double (nullable = true)\n",
      " |-- perimeter_se: double (nullable = true)\n",
      " |-- area_se: double (nullable = true)\n",
      " |-- smoothness_se: double (nullable = true)\n",
      " |-- compactness_se: double (nullable = true)\n",
      " |-- concavity_se: double (nullable = true)\n",
      " |-- concave points_se: double (nullable = true)\n",
      " |-- symmetry_se: double (nullable = true)\n",
      " |-- fractal_dimension_se: double (nullable = true)\n",
      " |-- radius_worst: double (nullable = true)\n",
      " |-- texture_worst: double (nullable = true)\n",
      " |-- perimeter_worst: double (nullable = true)\n",
      " |-- area_worst: double (nullable = true)\n",
      " |-- smoothness_worst: double (nullable = true)\n",
      " |-- compactness_worst: double (nullable = true)\n",
      " |-- concavity_worst: double (nullable = true)\n",
      " |-- concave points_worst: double (nullable = true)\n",
      " |-- symmetry_worst: double (nullable = true)\n",
      " |-- fractal_dimension_worst: double (nullable = true)\n",
      " |-- label: integer (nullable = true)\n",
      "\n"
     ]
    }
   ],
   "source": [
    "data.printSchema()"
   ],
   "metadata": {
    "collapsed": false,
    "pycharm": {
     "name": "#%%\n"
    }
   }
  },
  {
   "cell_type": "code",
   "execution_count": 11,
   "outputs": [],
   "source": [
    "# Prepare data\n",
    "assembler = VectorAssembler(inputCols=data.columns[:-1], outputCol=\"features\")\n",
    "data = assembler.transform(data).select(\"features\", \"label\")"
   ],
   "metadata": {
    "collapsed": false,
    "pycharm": {
     "name": "#%%\n"
    }
   }
  },
  {
   "cell_type": "code",
   "execution_count": 12,
   "outputs": [
    {
     "name": "stdout",
     "output_type": "stream",
     "text": [
      "+--------------------+\n",
      "|            features|\n",
      "+--------------------+\n",
      "|[17.99,10.38,122....|\n",
      "|[20.57,17.77,132....|\n",
      "|[19.69,21.25,130....|\n",
      "|[11.42,20.38,77.5...|\n",
      "|[20.29,14.34,135....|\n",
      "|[12.45,15.7,82.57...|\n",
      "|[18.25,19.98,119....|\n",
      "|[13.71,20.83,90.2...|\n",
      "|[13.0,21.82,87.5,...|\n",
      "|[12.46,24.04,83.9...|\n",
      "|[16.02,23.24,102....|\n",
      "|[15.78,17.89,103....|\n",
      "|[19.17,24.8,132.4...|\n",
      "|[15.85,23.95,103....|\n",
      "|[13.73,22.61,93.6...|\n",
      "|[14.54,27.54,96.7...|\n",
      "|[14.68,20.13,94.7...|\n",
      "|[16.13,20.68,108....|\n",
      "|[19.81,22.15,130....|\n",
      "|[13.54,14.36,87.4...|\n",
      "+--------------------+\n",
      "only showing top 20 rows\n",
      "\n"
     ]
    }
   ],
   "source": [
    "data.select(\"features\").show()"
   ],
   "metadata": {
    "collapsed": false,
    "pycharm": {
     "name": "#%%\n"
    }
   }
  },
  {
   "cell_type": "code",
   "execution_count": 13,
   "outputs": [
    {
     "name": "stdout",
     "output_type": "stream",
     "text": [
      "+-----+\n",
      "|label|\n",
      "+-----+\n",
      "|    1|\n",
      "|    1|\n",
      "|    1|\n",
      "|    1|\n",
      "|    1|\n",
      "|    1|\n",
      "|    1|\n",
      "|    1|\n",
      "|    1|\n",
      "|    1|\n",
      "|    1|\n",
      "|    1|\n",
      "|    1|\n",
      "|    1|\n",
      "|    1|\n",
      "|    1|\n",
      "|    1|\n",
      "|    1|\n",
      "|    1|\n",
      "|    0|\n",
      "+-----+\n",
      "only showing top 20 rows\n",
      "\n"
     ]
    }
   ],
   "source": [
    "data.select(\"label\").show()"
   ],
   "metadata": {
    "collapsed": false,
    "pycharm": {
     "name": "#%%\n"
    }
   }
  },
  {
   "cell_type": "code",
   "execution_count": 14,
   "outputs": [],
   "source": [
    "std_scaler = StandardScaler(inputCol=\"features\", outputCol=\"scaled_features\", withStd=True, withMean=True)\n",
    "pca = PCA(k=5, inputCol=\"scaled_features\", outputCol=\"pca_features\")\n",
    "\n",
    "clf = SparkXGBClassifier(tree_method=\"hist\",\n",
    "                         device=\"gpu\",  # \"cuda\" or \"gpu\"\n",
    "                         features_col=\"pca_features\",\n",
    "                         label_col=\"label\")\n",
    "\n",
    "stages = [std_scaler, pca, clf]"
   ],
   "metadata": {
    "collapsed": false,
    "pycharm": {
     "name": "#%%\n"
    }
   }
  },
  {
   "cell_type": "code",
   "execution_count": 15,
   "outputs": [],
   "source": [
    "# Create the pipeline\n",
    "pipeline = Pipeline(stages=stages)"
   ],
   "metadata": {
    "collapsed": false,
    "pycharm": {
     "name": "#%%\n"
    }
   }
  },
  {
   "cell_type": "code",
   "execution_count": 16,
   "outputs": [],
   "source": [
    "# Define parameter grid for hyperparameter tuning\n",
    "param_grid = ParamGridBuilder() \\\n",
    "    .addGrid(clf.max_depth, [3, 5]) \\\n",
    "    .addGrid(clf.min_child_weight, [1, 3]) \\\n",
    "    .addGrid(clf.subsample, [0.6, 0.8]) \\\n",
    "    .build()"
   ],
   "metadata": {
    "collapsed": false,
    "pycharm": {
     "name": "#%%\n"
    }
   }
  },
  {
   "cell_type": "code",
   "execution_count": 17,
   "outputs": [],
   "source": [
    "# Evaluate model\n",
    "evaluator = BinaryClassificationEvaluator(labelCol=\"label\", metricName=\"areaUnderROC\")"
   ],
   "metadata": {
    "collapsed": false,
    "pycharm": {
     "name": "#%%\n"
    }
   }
  },
  {
   "cell_type": "code",
   "execution_count": 18,
   "outputs": [],
   "source": [
    "# Define cross-validator\n",
    "cv = CrossValidator(estimator=pipeline,\n",
    "                    estimatorParamMaps=param_grid,\n",
    "                    evaluator=evaluator,\n",
    "                    numFolds=5)"
   ],
   "metadata": {
    "collapsed": false,
    "pycharm": {
     "name": "#%%\n"
    }
   }
  },
  {
   "cell_type": "code",
   "execution_count": 19,
   "outputs": [],
   "source": [
    "# Split data into training and test sets\n",
    "train_data, test_data = data.randomSplit([0.7, 0.3], seed=42)"
   ],
   "metadata": {
    "collapsed": false,
    "pycharm": {
     "name": "#%%\n"
    }
   }
  },
  {
   "cell_type": "code",
   "execution_count": 20,
   "outputs": [
    {
     "name": "stderr",
     "output_type": "stream",
     "text": [
      "23/11/14 08:40:27 WARN BLAS: Failed to load implementation from: com.github.fommil.netlib.NativeSystemBLAS\n",
      "23/11/14 08:40:27 WARN BLAS: Failed to load implementation from: com.github.fommil.netlib.NativeRefBLAS\n",
      "23/11/14 08:40:27 WARN LAPACK: Failed to load implementation from: com.github.fommil.netlib.NativeSystemLAPACK\n",
      "23/11/14 08:40:27 WARN LAPACK: Failed to load implementation from: com.github.fommil.netlib.NativeRefLAPACK\n",
      "2023-11-14 08:40:27,782 WARNING SparkXGBClassifier: _validate_gpu_params You have enabled GPU in spark local mode. Please make sure your local node has at least 1 GPUs\n",
      "2023-11-14 08:40:29,285 INFO XGBoost-PySpark: _fit Running xgboost-2.0.2 on 1 workers with\n",
      "\tbooster params: {'device': 'gpu', 'max_depth': 3, 'min_child_weight': 1, 'objective': 'binary:logistic', 'subsample': 0.6, 'tree_method': 'hist', 'nthread': 1}\n",
      "\ttrain_call_kwargs_params: {'verbose_eval': True, 'num_boost_round': 100}\n",
      "\tdmatrix_kwargs: {'nthread': 1, 'missing': nan}\n",
      "2023-11-14 08:40:29,376 INFO SparkXGBClassifier: _skip_stage_level_scheduling Stage-level scheduling in xgboost requires spark version 3.4.0+\n",
      "2023-11-14 08:40:31,233 INFO XGBoost-PySpark: _train_booster Leveraging cuda:0 to train with QDM: off\n",
      "[08:40:32] task 0 got new rank 0\n",
      "/home/jordan/Desktop/Python_examples/pySpark/venv/lib/python3.10/site-packages/xgboost/core.py:160: UserWarning: [08:40:32] WARNING: /workspace/src/context.cc:44: No visible GPU is found, setting device to CPU.\n",
      "  warnings.warn(smsg, UserWarning)\n",
      "/home/jordan/Desktop/Python_examples/pySpark/venv/lib/python3.10/site-packages/pyspark/python/lib/pyspark.zip/pyspark/sql/pandas/serializers.py:169: FutureWarning: is_categorical_dtype is deprecated and will be removed in a future version. Use isinstance(dtype, CategoricalDtype) instead\n",
      "2023-11-14 08:40:33,538 INFO XGBoost-PySpark: _fit Finished xgboost training!   \n",
      "2023-11-14 08:40:34,257 INFO XGBoost-PySpark: predict_udf CUDF is unavailable, fallback the inference on the CPUs\n",
      "INFO:XGBoost-PySpark:CUDF is unavailable, fallback the inference on the CPUs\n",
      "2023-11-14 08:40:34,935 WARNING SparkXGBClassifier: _validate_gpu_params You have enabled GPU in spark local mode. Please make sure your local node has at least 1 GPUs\n",
      "2023-11-14 08:40:35,835 INFO XGBoost-PySpark: _fit Running xgboost-2.0.2 on 1 workers with\n",
      "\tbooster params: {'device': 'gpu', 'max_depth': 3, 'min_child_weight': 1, 'objective': 'binary:logistic', 'subsample': 0.8, 'tree_method': 'hist', 'nthread': 1}\n",
      "\ttrain_call_kwargs_params: {'verbose_eval': True, 'num_boost_round': 100}\n",
      "\tdmatrix_kwargs: {'nthread': 1, 'missing': nan}\n",
      "2023-11-14 08:40:35,890 INFO SparkXGBClassifier: _skip_stage_level_scheduling Stage-level scheduling in xgboost requires spark version 3.4.0+\n",
      "2023-11-14 08:40:37,019 INFO XGBoost-PySpark: _train_booster Leveraging cuda:0 to train with QDM: off\n",
      "[08:40:38] task 0 got new rank 0\n",
      "/home/jordan/Desktop/Python_examples/pySpark/venv/lib/python3.10/site-packages/xgboost/core.py:160: UserWarning: [08:40:38] WARNING: /workspace/src/context.cc:44: No visible GPU is found, setting device to CPU.\n",
      "  warnings.warn(smsg, UserWarning)\n",
      "/home/jordan/Desktop/Python_examples/pySpark/venv/lib/python3.10/site-packages/pyspark/python/lib/pyspark.zip/pyspark/sql/pandas/serializers.py:169: FutureWarning: is_categorical_dtype is deprecated and will be removed in a future version. Use isinstance(dtype, CategoricalDtype) instead\n",
      "2023-11-14 08:40:39,382 INFO XGBoost-PySpark: _fit Finished xgboost training!   \n",
      "2023-11-14 08:40:39,672 INFO XGBoost-PySpark: predict_udf CUDF is unavailable, fallback the inference on the CPUs\n",
      "INFO:XGBoost-PySpark:CUDF is unavailable, fallback the inference on the CPUs\n",
      "2023-11-14 08:40:40,078 WARNING SparkXGBClassifier: _validate_gpu_params You have enabled GPU in spark local mode. Please make sure your local node has at least 1 GPUs\n",
      "2023-11-14 08:40:40,668 INFO XGBoost-PySpark: _fit Running xgboost-2.0.2 on 1 workers with\n",
      "\tbooster params: {'device': 'gpu', 'max_depth': 3, 'min_child_weight': 3, 'objective': 'binary:logistic', 'subsample': 0.6, 'tree_method': 'hist', 'nthread': 1}\n",
      "\ttrain_call_kwargs_params: {'verbose_eval': True, 'num_boost_round': 100}\n",
      "\tdmatrix_kwargs: {'nthread': 1, 'missing': nan}\n",
      "2023-11-14 08:40:40,716 INFO SparkXGBClassifier: _skip_stage_level_scheduling Stage-level scheduling in xgboost requires spark version 3.4.0+\n",
      "2023-11-14 08:40:40,845 INFO XGBoost-PySpark: _train_booster Leveraging cuda:0 to train with QDM: off\n",
      "INFO:XGBoost-PySpark:Leveraging cuda:0 to train with QDM: off\n",
      "[08:40:41] task 0 got new rank 0                                    (0 + 1) / 1]\n",
      "/home/jordan/Desktop/Python_examples/pySpark/venv/lib/python3.10/site-packages/xgboost/core.py:160: UserWarning: [08:40:41] WARNING: /workspace/src/context.cc:44: No visible GPU is found, setting device to CPU.\n",
      "  warnings.warn(smsg, UserWarning)\n",
      "2023-11-14 08:40:43,042 INFO XGBoost-PySpark: _fit Finished xgboost training!   \n",
      "2023-11-14 08:40:43,408 INFO XGBoost-PySpark: predict_udf CUDF is unavailable, fallback the inference on the CPUs\n",
      "INFO:XGBoost-PySpark:CUDF is unavailable, fallback the inference on the CPUs\n",
      "2023-11-14 08:40:43,793 WARNING SparkXGBClassifier: _validate_gpu_params You have enabled GPU in spark local mode. Please make sure your local node has at least 1 GPUs\n",
      "2023-11-14 08:40:44,371 INFO XGBoost-PySpark: _fit Running xgboost-2.0.2 on 1 workers with\n",
      "\tbooster params: {'device': 'gpu', 'max_depth': 3, 'min_child_weight': 3, 'objective': 'binary:logistic', 'subsample': 0.8, 'tree_method': 'hist', 'nthread': 1}\n",
      "\ttrain_call_kwargs_params: {'verbose_eval': True, 'num_boost_round': 100}\n",
      "\tdmatrix_kwargs: {'nthread': 1, 'missing': nan}\n",
      "2023-11-14 08:40:44,406 INFO SparkXGBClassifier: _skip_stage_level_scheduling Stage-level scheduling in xgboost requires spark version 3.4.0+\n",
      "2023-11-14 08:40:44,516 INFO XGBoost-PySpark: _train_booster Leveraging cuda:0 to train with QDM: off\n",
      "INFO:XGBoost-PySpark:Leveraging cuda:0 to train with QDM: off\n",
      "[08:40:45] task 0 got new rank 0                                    (0 + 1) / 1]\n",
      "/home/jordan/Desktop/Python_examples/pySpark/venv/lib/python3.10/site-packages/xgboost/core.py:160: UserWarning: [08:40:45] WARNING: /workspace/src/context.cc:44: No visible GPU is found, setting device to CPU.\n",
      "  warnings.warn(smsg, UserWarning)\n",
      "2023-11-14 08:40:46,748 INFO XGBoost-PySpark: _fit Finished xgboost training!   \n",
      "2023-11-14 08:40:47,033 INFO XGBoost-PySpark: predict_udf CUDF is unavailable, fallback the inference on the CPUs\n",
      "INFO:XGBoost-PySpark:CUDF is unavailable, fallback the inference on the CPUs\n",
      "2023-11-14 08:40:47,413 WARNING SparkXGBClassifier: _validate_gpu_params You have enabled GPU in spark local mode. Please make sure your local node has at least 1 GPUs\n",
      "2023-11-14 08:40:47,971 INFO XGBoost-PySpark: _fit Running xgboost-2.0.2 on 1 workers with\n",
      "\tbooster params: {'device': 'gpu', 'max_depth': 5, 'min_child_weight': 1, 'objective': 'binary:logistic', 'subsample': 0.6, 'tree_method': 'hist', 'nthread': 1}\n",
      "\ttrain_call_kwargs_params: {'verbose_eval': True, 'num_boost_round': 100}\n",
      "\tdmatrix_kwargs: {'nthread': 1, 'missing': nan}\n",
      "2023-11-14 08:40:48,006 INFO SparkXGBClassifier: _skip_stage_level_scheduling Stage-level scheduling in xgboost requires spark version 3.4.0+\n",
      "2023-11-14 08:40:48,112 INFO XGBoost-PySpark: _train_booster Leveraging cuda:0 to train with QDM: off\n",
      "INFO:XGBoost-PySpark:Leveraging cuda:0 to train with QDM: off\n",
      "[08:40:49] task 0 got new rank 0                                    (0 + 1) / 1]\n",
      "/home/jordan/Desktop/Python_examples/pySpark/venv/lib/python3.10/site-packages/xgboost/core.py:160: UserWarning: [08:40:49] WARNING: /workspace/src/context.cc:44: No visible GPU is found, setting device to CPU.\n",
      "  warnings.warn(smsg, UserWarning)\n",
      "2023-11-14 08:40:50,329 INFO XGBoost-PySpark: _fit Finished xgboost training!   \n",
      "2023-11-14 08:40:50,592 INFO XGBoost-PySpark: predict_udf CUDF is unavailable, fallback the inference on the CPUs\n",
      "INFO:XGBoost-PySpark:CUDF is unavailable, fallback the inference on the CPUs\n",
      "2023-11-14 08:40:50,940 WARNING SparkXGBClassifier: _validate_gpu_params You have enabled GPU in spark local mode. Please make sure your local node has at least 1 GPUs\n",
      "2023-11-14 08:40:51,440 INFO XGBoost-PySpark: _fit Running xgboost-2.0.2 on 1 workers with\n",
      "\tbooster params: {'device': 'gpu', 'max_depth': 5, 'min_child_weight': 1, 'objective': 'binary:logistic', 'subsample': 0.8, 'tree_method': 'hist', 'nthread': 1}\n",
      "\ttrain_call_kwargs_params: {'verbose_eval': True, 'num_boost_round': 100}\n",
      "\tdmatrix_kwargs: {'nthread': 1, 'missing': nan}\n",
      "2023-11-14 08:40:51,478 INFO SparkXGBClassifier: _skip_stage_level_scheduling Stage-level scheduling in xgboost requires spark version 3.4.0+\n",
      "2023-11-14 08:40:51,575 INFO XGBoost-PySpark: _train_booster Leveraging cuda:0 to train with QDM: off\n",
      "INFO:XGBoost-PySpark:Leveraging cuda:0 to train with QDM: off\n",
      "[08:40:52] task 0 got new rank 0                                    (0 + 1) / 1]\n",
      "/home/jordan/Desktop/Python_examples/pySpark/venv/lib/python3.10/site-packages/xgboost/core.py:160: UserWarning: [08:40:52] WARNING: /workspace/src/context.cc:44: No visible GPU is found, setting device to CPU.\n",
      "  warnings.warn(smsg, UserWarning)\n",
      "2023-11-14 08:40:53,769 INFO XGBoost-PySpark: _fit Finished xgboost training!   \n",
      "2023-11-14 08:40:54,020 INFO XGBoost-PySpark: predict_udf CUDF is unavailable, fallback the inference on the CPUs\n",
      "INFO:XGBoost-PySpark:CUDF is unavailable, fallback the inference on the CPUs\n",
      "2023-11-14 08:40:54,332 WARNING SparkXGBClassifier: _validate_gpu_params You have enabled GPU in spark local mode. Please make sure your local node has at least 1 GPUs\n",
      "2023-11-14 08:40:54,841 INFO XGBoost-PySpark: _fit Running xgboost-2.0.2 on 1 workers with\n",
      "\tbooster params: {'device': 'gpu', 'max_depth': 5, 'min_child_weight': 3, 'objective': 'binary:logistic', 'subsample': 0.6, 'tree_method': 'hist', 'nthread': 1}\n",
      "\ttrain_call_kwargs_params: {'verbose_eval': True, 'num_boost_round': 100}\n",
      "\tdmatrix_kwargs: {'nthread': 1, 'missing': nan}\n",
      "2023-11-14 08:40:54,868 INFO SparkXGBClassifier: _skip_stage_level_scheduling Stage-level scheduling in xgboost requires spark version 3.4.0+\n",
      "2023-11-14 08:40:54,973 INFO XGBoost-PySpark: _train_booster Leveraging cuda:0 to train with QDM: off\n",
      "INFO:XGBoost-PySpark:Leveraging cuda:0 to train with QDM: off\n",
      "[08:40:56] task 0 got new rank 0                                    (0 + 1) / 1]\n",
      "/home/jordan/Desktop/Python_examples/pySpark/venv/lib/python3.10/site-packages/xgboost/core.py:160: UserWarning: [08:40:56] WARNING: /workspace/src/context.cc:44: No visible GPU is found, setting device to CPU.\n",
      "  warnings.warn(smsg, UserWarning)\n",
      "2023-11-14 08:40:57,179 INFO XGBoost-PySpark: _fit Finished xgboost training!   \n",
      "2023-11-14 08:40:57,457 INFO XGBoost-PySpark: predict_udf CUDF is unavailable, fallback the inference on the CPUs\n",
      "INFO:XGBoost-PySpark:CUDF is unavailable, fallback the inference on the CPUs\n",
      "2023-11-14 08:40:57,749 WARNING SparkXGBClassifier: _validate_gpu_params You have enabled GPU in spark local mode. Please make sure your local node has at least 1 GPUs\n",
      "2023-11-14 08:40:58,203 INFO XGBoost-PySpark: _fit Running xgboost-2.0.2 on 1 workers with\n",
      "\tbooster params: {'device': 'gpu', 'max_depth': 5, 'min_child_weight': 3, 'objective': 'binary:logistic', 'subsample': 0.8, 'tree_method': 'hist', 'nthread': 1}\n",
      "\ttrain_call_kwargs_params: {'verbose_eval': True, 'num_boost_round': 100}\n",
      "\tdmatrix_kwargs: {'nthread': 1, 'missing': nan}\n",
      "2023-11-14 08:40:58,235 INFO SparkXGBClassifier: _skip_stage_level_scheduling Stage-level scheduling in xgboost requires spark version 3.4.0+\n",
      "2023-11-14 08:40:58,338 INFO XGBoost-PySpark: _train_booster Leveraging cuda:0 to train with QDM: off\n",
      "INFO:XGBoost-PySpark:Leveraging cuda:0 to train with QDM: off\n",
      "[08:40:59] task 0 got new rank 0                                    (0 + 1) / 1]\n",
      "/home/jordan/Desktop/Python_examples/pySpark/venv/lib/python3.10/site-packages/xgboost/core.py:160: UserWarning: [08:40:59] WARNING: /workspace/src/context.cc:44: No visible GPU is found, setting device to CPU.\n",
      "  warnings.warn(smsg, UserWarning)\n",
      "2023-11-14 08:41:00,566 INFO XGBoost-PySpark: _fit Finished xgboost training!   \n",
      "2023-11-14 08:41:00,804 INFO XGBoost-PySpark: predict_udf CUDF is unavailable, fallback the inference on the CPUs\n",
      "INFO:XGBoost-PySpark:CUDF is unavailable, fallback the inference on the CPUs\n",
      "2023-11-14 08:41:01,257 WARNING SparkXGBClassifier: _validate_gpu_params You have enabled GPU in spark local mode. Please make sure your local node has at least 1 GPUs\n",
      "2023-11-14 08:41:01,756 INFO XGBoost-PySpark: _fit Running xgboost-2.0.2 on 1 workers with\n",
      "\tbooster params: {'device': 'gpu', 'max_depth': 3, 'min_child_weight': 1, 'objective': 'binary:logistic', 'subsample': 0.6, 'tree_method': 'hist', 'nthread': 1}\n",
      "\ttrain_call_kwargs_params: {'verbose_eval': True, 'num_boost_round': 100}\n",
      "\tdmatrix_kwargs: {'nthread': 1, 'missing': nan}\n",
      "2023-11-14 08:41:01,789 INFO SparkXGBClassifier: _skip_stage_level_scheduling Stage-level scheduling in xgboost requires spark version 3.4.0+\n",
      "2023-11-14 08:41:01,893 INFO XGBoost-PySpark: _train_booster Leveraging cuda:0 to train with QDM: off\n",
      "INFO:XGBoost-PySpark:Leveraging cuda:0 to train with QDM: off\n",
      "[08:41:02] task 0 got new rank 0                                    (0 + 1) / 1]\n",
      "/home/jordan/Desktop/Python_examples/pySpark/venv/lib/python3.10/site-packages/xgboost/core.py:160: UserWarning: [08:41:03] WARNING: /workspace/src/context.cc:44: No visible GPU is found, setting device to CPU.\n",
      "  warnings.warn(smsg, UserWarning)\n",
      "2023-11-14 08:41:04,118 INFO XGBoost-PySpark: _fit Finished xgboost training!   \n",
      "2023-11-14 08:41:04,420 INFO XGBoost-PySpark: predict_udf CUDF is unavailable, fallback the inference on the CPUs\n",
      "INFO:XGBoost-PySpark:CUDF is unavailable, fallback the inference on the CPUs\n",
      "2023-11-14 08:41:04,719 WARNING SparkXGBClassifier: _validate_gpu_params You have enabled GPU in spark local mode. Please make sure your local node has at least 1 GPUs\n",
      "2023-11-14 08:41:05,371 INFO XGBoost-PySpark: _fit Running xgboost-2.0.2 on 1 workers with\n",
      "\tbooster params: {'device': 'gpu', 'max_depth': 3, 'min_child_weight': 1, 'objective': 'binary:logistic', 'subsample': 0.8, 'tree_method': 'hist', 'nthread': 1}\n",
      "\ttrain_call_kwargs_params: {'verbose_eval': True, 'num_boost_round': 100}\n",
      "\tdmatrix_kwargs: {'nthread': 1, 'missing': nan}\n",
      "2023-11-14 08:41:05,410 INFO SparkXGBClassifier: _skip_stage_level_scheduling Stage-level scheduling in xgboost requires spark version 3.4.0+\n",
      "2023-11-14 08:41:05,509 INFO XGBoost-PySpark: _train_booster Leveraging cuda:0 to train with QDM: off\n",
      "INFO:XGBoost-PySpark:Leveraging cuda:0 to train with QDM: off\n",
      "[08:41:06] task 0 got new rank 0                                    (0 + 1) / 1]\n",
      "/home/jordan/Desktop/Python_examples/pySpark/venv/lib/python3.10/site-packages/xgboost/core.py:160: UserWarning: [08:41:06] WARNING: /workspace/src/context.cc:44: No visible GPU is found, setting device to CPU.\n",
      "  warnings.warn(smsg, UserWarning)\n",
      "2023-11-14 08:41:07,728 INFO XGBoost-PySpark: _fit Finished xgboost training!   \n",
      "2023-11-14 08:41:07,997 INFO XGBoost-PySpark: predict_udf CUDF is unavailable, fallback the inference on the CPUs\n",
      "INFO:XGBoost-PySpark:CUDF is unavailable, fallback the inference on the CPUs\n",
      "2023-11-14 08:41:08,294 WARNING SparkXGBClassifier: _validate_gpu_params You have enabled GPU in spark local mode. Please make sure your local node has at least 1 GPUs\n",
      "2023-11-14 08:41:08,747 INFO XGBoost-PySpark: _fit Running xgboost-2.0.2 on 1 workers with\n",
      "\tbooster params: {'device': 'gpu', 'max_depth': 3, 'min_child_weight': 3, 'objective': 'binary:logistic', 'subsample': 0.6, 'tree_method': 'hist', 'nthread': 1}\n",
      "\ttrain_call_kwargs_params: {'verbose_eval': True, 'num_boost_round': 100}\n",
      "\tdmatrix_kwargs: {'nthread': 1, 'missing': nan}\n",
      "2023-11-14 08:41:08,780 INFO SparkXGBClassifier: _skip_stage_level_scheduling Stage-level scheduling in xgboost requires spark version 3.4.0+\n",
      "2023-11-14 08:41:08,878 INFO XGBoost-PySpark: _train_booster Leveraging cuda:0 to train with QDM: off\n",
      "INFO:XGBoost-PySpark:Leveraging cuda:0 to train with QDM: off\n",
      "[08:41:09] task 0 got new rank 0                                    (0 + 1) / 1]\n",
      "/home/jordan/Desktop/Python_examples/pySpark/venv/lib/python3.10/site-packages/xgboost/core.py:160: UserWarning: [08:41:10] WARNING: /workspace/src/context.cc:44: No visible GPU is found, setting device to CPU.\n",
      "  warnings.warn(smsg, UserWarning)\n",
      "2023-11-14 08:41:11,079 INFO XGBoost-PySpark: _fit Finished xgboost training!   \n",
      "2023-11-14 08:41:11,348 INFO XGBoost-PySpark: predict_udf CUDF is unavailable, fallback the inference on the CPUs\n",
      "INFO:XGBoost-PySpark:CUDF is unavailable, fallback the inference on the CPUs\n",
      "2023-11-14 08:41:11,642 WARNING SparkXGBClassifier: _validate_gpu_params You have enabled GPU in spark local mode. Please make sure your local node has at least 1 GPUs\n",
      "2023-11-14 08:41:12,077 INFO XGBoost-PySpark: _fit Running xgboost-2.0.2 on 1 workers with\n",
      "\tbooster params: {'device': 'gpu', 'max_depth': 3, 'min_child_weight': 3, 'objective': 'binary:logistic', 'subsample': 0.8, 'tree_method': 'hist', 'nthread': 1}\n",
      "\ttrain_call_kwargs_params: {'verbose_eval': True, 'num_boost_round': 100}\n",
      "\tdmatrix_kwargs: {'nthread': 1, 'missing': nan}\n",
      "2023-11-14 08:41:12,108 INFO SparkXGBClassifier: _skip_stage_level_scheduling Stage-level scheduling in xgboost requires spark version 3.4.0+\n",
      "2023-11-14 08:41:12,199 INFO XGBoost-PySpark: _train_booster Leveraging cuda:0 to train with QDM: off\n",
      "INFO:XGBoost-PySpark:Leveraging cuda:0 to train with QDM: off\n",
      "[08:41:13] task 0 got new rank 0                                    (0 + 1) / 1]\n",
      "/home/jordan/Desktop/Python_examples/pySpark/venv/lib/python3.10/site-packages/xgboost/core.py:160: UserWarning: [08:41:13] WARNING: /workspace/src/context.cc:44: No visible GPU is found, setting device to CPU.\n",
      "  warnings.warn(smsg, UserWarning)\n",
      "2023-11-14 08:41:14,407 INFO XGBoost-PySpark: _fit Finished xgboost training!   \n",
      "2023-11-14 08:41:14,680 INFO XGBoost-PySpark: predict_udf CUDF is unavailable, fallback the inference on the CPUs\n",
      "INFO:XGBoost-PySpark:CUDF is unavailable, fallback the inference on the CPUs\n",
      "2023-11-14 08:41:14,962 WARNING SparkXGBClassifier: _validate_gpu_params You have enabled GPU in spark local mode. Please make sure your local node has at least 1 GPUs\n",
      "2023-11-14 08:41:15,417 INFO XGBoost-PySpark: _fit Running xgboost-2.0.2 on 1 workers with\n",
      "\tbooster params: {'device': 'gpu', 'max_depth': 5, 'min_child_weight': 1, 'objective': 'binary:logistic', 'subsample': 0.6, 'tree_method': 'hist', 'nthread': 1}\n",
      "\ttrain_call_kwargs_params: {'verbose_eval': True, 'num_boost_round': 100}\n",
      "\tdmatrix_kwargs: {'nthread': 1, 'missing': nan}\n",
      "2023-11-14 08:41:15,447 INFO SparkXGBClassifier: _skip_stage_level_scheduling Stage-level scheduling in xgboost requires spark version 3.4.0+\n",
      "2023-11-14 08:41:15,551 INFO XGBoost-PySpark: _train_booster Leveraging cuda:0 to train with QDM: off\n",
      "INFO:XGBoost-PySpark:Leveraging cuda:0 to train with QDM: off\n",
      "[08:41:16] task 0 got new rank 0                                    (0 + 1) / 1]\n",
      "/home/jordan/Desktop/Python_examples/pySpark/venv/lib/python3.10/site-packages/xgboost/core.py:160: UserWarning: [08:41:16] WARNING: /workspace/src/context.cc:44: No visible GPU is found, setting device to CPU.\n",
      "  warnings.warn(smsg, UserWarning)\n",
      "2023-11-14 08:41:17,765 INFO XGBoost-PySpark: _fit Finished xgboost training!   \n",
      "2023-11-14 08:41:18,011 INFO XGBoost-PySpark: predict_udf CUDF is unavailable, fallback the inference on the CPUs\n",
      "INFO:XGBoost-PySpark:CUDF is unavailable, fallback the inference on the CPUs\n",
      "2023-11-14 08:41:18,286 WARNING SparkXGBClassifier: _validate_gpu_params You have enabled GPU in spark local mode. Please make sure your local node has at least 1 GPUs\n",
      "2023-11-14 08:41:18,704 INFO XGBoost-PySpark: _fit Running xgboost-2.0.2 on 1 workers with\n",
      "\tbooster params: {'device': 'gpu', 'max_depth': 5, 'min_child_weight': 1, 'objective': 'binary:logistic', 'subsample': 0.8, 'tree_method': 'hist', 'nthread': 1}\n",
      "\ttrain_call_kwargs_params: {'verbose_eval': True, 'num_boost_round': 100}\n",
      "\tdmatrix_kwargs: {'nthread': 1, 'missing': nan}\n",
      "2023-11-14 08:41:18,732 INFO SparkXGBClassifier: _skip_stage_level_scheduling Stage-level scheduling in xgboost requires spark version 3.4.0+\n",
      "2023-11-14 08:41:18,826 INFO XGBoost-PySpark: _train_booster Leveraging cuda:0 to train with QDM: off\n",
      "INFO:XGBoost-PySpark:Leveraging cuda:0 to train with QDM: off\n",
      "[08:41:19] task 0 got new rank 0                                    (0 + 1) / 1]\n",
      "/home/jordan/Desktop/Python_examples/pySpark/venv/lib/python3.10/site-packages/xgboost/core.py:160: UserWarning: [08:41:19] WARNING: /workspace/src/context.cc:44: No visible GPU is found, setting device to CPU.\n",
      "  warnings.warn(smsg, UserWarning)\n",
      "2023-11-14 08:41:21,032 INFO XGBoost-PySpark: _fit Finished xgboost training!   \n",
      "2023-11-14 08:41:21,276 INFO XGBoost-PySpark: predict_udf CUDF is unavailable, fallback the inference on the CPUs\n",
      "INFO:XGBoost-PySpark:CUDF is unavailable, fallback the inference on the CPUs\n",
      "2023-11-14 08:41:21,568 WARNING SparkXGBClassifier: _validate_gpu_params You have enabled GPU in spark local mode. Please make sure your local node has at least 1 GPUs\n",
      "2023-11-14 08:41:22,009 INFO XGBoost-PySpark: _fit Running xgboost-2.0.2 on 1 workers with\n",
      "\tbooster params: {'device': 'gpu', 'max_depth': 5, 'min_child_weight': 3, 'objective': 'binary:logistic', 'subsample': 0.6, 'tree_method': 'hist', 'nthread': 1}\n",
      "\ttrain_call_kwargs_params: {'verbose_eval': True, 'num_boost_round': 100}\n",
      "\tdmatrix_kwargs: {'nthread': 1, 'missing': nan}\n",
      "2023-11-14 08:41:22,047 INFO SparkXGBClassifier: _skip_stage_level_scheduling Stage-level scheduling in xgboost requires spark version 3.4.0+\n",
      "2023-11-14 08:41:22,152 INFO XGBoost-PySpark: _train_booster Leveraging cuda:0 to train with QDM: off\n",
      "INFO:XGBoost-PySpark:Leveraging cuda:0 to train with QDM: off\n",
      "[08:41:23] task 0 got new rank 0                                    (0 + 1) / 1]\n",
      "/home/jordan/Desktop/Python_examples/pySpark/venv/lib/python3.10/site-packages/xgboost/core.py:160: UserWarning: [08:41:23] WARNING: /workspace/src/context.cc:44: No visible GPU is found, setting device to CPU.\n",
      "  warnings.warn(smsg, UserWarning)\n",
      "2023-11-14 08:41:24,367 INFO XGBoost-PySpark: _fit Finished xgboost training!   \n",
      "2023-11-14 08:41:24,594 INFO XGBoost-PySpark: predict_udf CUDF is unavailable, fallback the inference on the CPUs\n",
      "INFO:XGBoost-PySpark:CUDF is unavailable, fallback the inference on the CPUs\n",
      "2023-11-14 08:41:24,927 WARNING SparkXGBClassifier: _validate_gpu_params You have enabled GPU in spark local mode. Please make sure your local node has at least 1 GPUs\n",
      "2023-11-14 08:41:25,593 INFO XGBoost-PySpark: _fit Running xgboost-2.0.2 on 1 workers with\n",
      "\tbooster params: {'device': 'gpu', 'max_depth': 5, 'min_child_weight': 3, 'objective': 'binary:logistic', 'subsample': 0.8, 'tree_method': 'hist', 'nthread': 1}\n",
      "\ttrain_call_kwargs_params: {'verbose_eval': True, 'num_boost_round': 100}\n",
      "\tdmatrix_kwargs: {'nthread': 1, 'missing': nan}\n",
      "2023-11-14 08:41:25,619 INFO SparkXGBClassifier: _skip_stage_level_scheduling Stage-level scheduling in xgboost requires spark version 3.4.0+\n",
      "2023-11-14 08:41:25,712 INFO XGBoost-PySpark: _train_booster Leveraging cuda:0 to train with QDM: off\n",
      "INFO:XGBoost-PySpark:Leveraging cuda:0 to train with QDM: off\n",
      "[08:41:26] task 0 got new rank 0                                    (0 + 1) / 1]\n",
      "/home/jordan/Desktop/Python_examples/pySpark/venv/lib/python3.10/site-packages/xgboost/core.py:160: UserWarning: [08:41:26] WARNING: /workspace/src/context.cc:44: No visible GPU is found, setting device to CPU.\n",
      "  warnings.warn(smsg, UserWarning)\n",
      "2023-11-14 08:41:27,922 INFO XGBoost-PySpark: _fit Finished xgboost training!   \n",
      "2023-11-14 08:41:28,139 INFO XGBoost-PySpark: predict_udf CUDF is unavailable, fallback the inference on the CPUs\n",
      "INFO:XGBoost-PySpark:CUDF is unavailable, fallback the inference on the CPUs\n",
      "2023-11-14 08:41:28,561 WARNING SparkXGBClassifier: _validate_gpu_params You have enabled GPU in spark local mode. Please make sure your local node has at least 1 GPUs\n",
      "2023-11-14 08:41:29,056 INFO XGBoost-PySpark: _fit Running xgboost-2.0.2 on 1 workers with\n",
      "\tbooster params: {'device': 'gpu', 'max_depth': 3, 'min_child_weight': 1, 'objective': 'binary:logistic', 'subsample': 0.6, 'tree_method': 'hist', 'nthread': 1}\n",
      "\ttrain_call_kwargs_params: {'verbose_eval': True, 'num_boost_round': 100}\n",
      "\tdmatrix_kwargs: {'nthread': 1, 'missing': nan}\n",
      "2023-11-14 08:41:29,089 INFO SparkXGBClassifier: _skip_stage_level_scheduling Stage-level scheduling in xgboost requires spark version 3.4.0+\n",
      "2023-11-14 08:41:29,202 INFO XGBoost-PySpark: _train_booster Leveraging cuda:0 to train with QDM: off\n",
      "INFO:XGBoost-PySpark:Leveraging cuda:0 to train with QDM: off\n",
      "[08:41:30] task 0 got new rank 0                                    (0 + 1) / 1]\n",
      "/home/jordan/Desktop/Python_examples/pySpark/venv/lib/python3.10/site-packages/xgboost/core.py:160: UserWarning: [08:41:30] WARNING: /workspace/src/context.cc:44: No visible GPU is found, setting device to CPU.\n",
      "  warnings.warn(smsg, UserWarning)\n",
      "2023-11-14 08:41:31,406 INFO XGBoost-PySpark: _fit Finished xgboost training!   \n",
      "2023-11-14 08:41:31,740 INFO XGBoost-PySpark: predict_udf CUDF is unavailable, fallback the inference on the CPUs\n",
      "INFO:XGBoost-PySpark:CUDF is unavailable, fallback the inference on the CPUs\n",
      "2023-11-14 08:41:32,023 WARNING SparkXGBClassifier: _validate_gpu_params You have enabled GPU in spark local mode. Please make sure your local node has at least 1 GPUs\n",
      "2023-11-14 08:41:32,497 INFO XGBoost-PySpark: _fit Running xgboost-2.0.2 on 1 workers with\n",
      "\tbooster params: {'device': 'gpu', 'max_depth': 3, 'min_child_weight': 1, 'objective': 'binary:logistic', 'subsample': 0.8, 'tree_method': 'hist', 'nthread': 1}\n",
      "\ttrain_call_kwargs_params: {'verbose_eval': True, 'num_boost_round': 100}\n",
      "\tdmatrix_kwargs: {'nthread': 1, 'missing': nan}\n",
      "2023-11-14 08:41:32,534 INFO SparkXGBClassifier: _skip_stage_level_scheduling Stage-level scheduling in xgboost requires spark version 3.4.0+\n",
      "2023-11-14 08:41:32,641 INFO XGBoost-PySpark: _train_booster Leveraging cuda:0 to train with QDM: off\n",
      "INFO:XGBoost-PySpark:Leveraging cuda:0 to train with QDM: off\n",
      "[08:41:33] task 0 got new rank 0                                    (0 + 1) / 1]\n",
      "/home/jordan/Desktop/Python_examples/pySpark/venv/lib/python3.10/site-packages/xgboost/core.py:160: UserWarning: [08:41:33] WARNING: /workspace/src/context.cc:44: No visible GPU is found, setting device to CPU.\n",
      "  warnings.warn(smsg, UserWarning)\n",
      "2023-11-14 08:41:34,845 INFO XGBoost-PySpark: _fit Finished xgboost training!   \n",
      "2023-11-14 08:41:35,046 INFO XGBoost-PySpark: predict_udf CUDF is unavailable, fallback the inference on the CPUs\n",
      "INFO:XGBoost-PySpark:CUDF is unavailable, fallback the inference on the CPUs\n",
      "2023-11-14 08:41:35,327 WARNING SparkXGBClassifier: _validate_gpu_params You have enabled GPU in spark local mode. Please make sure your local node has at least 1 GPUs\n",
      "2023-11-14 08:41:35,816 INFO XGBoost-PySpark: _fit Running xgboost-2.0.2 on 1 workers with\n",
      "\tbooster params: {'device': 'gpu', 'max_depth': 3, 'min_child_weight': 3, 'objective': 'binary:logistic', 'subsample': 0.6, 'tree_method': 'hist', 'nthread': 1}\n",
      "\ttrain_call_kwargs_params: {'verbose_eval': True, 'num_boost_round': 100}\n",
      "\tdmatrix_kwargs: {'nthread': 1, 'missing': nan}\n",
      "2023-11-14 08:41:35,851 INFO SparkXGBClassifier: _skip_stage_level_scheduling Stage-level scheduling in xgboost requires spark version 3.4.0+\n",
      "2023-11-14 08:41:35,982 INFO XGBoost-PySpark: _train_booster Leveraging cuda:0 to train with QDM: off\n",
      "INFO:XGBoost-PySpark:Leveraging cuda:0 to train with QDM: off\n",
      "[08:41:37] task 0 got new rank 0                                    (0 + 1) / 1]\n",
      "/home/jordan/Desktop/Python_examples/pySpark/venv/lib/python3.10/site-packages/xgboost/core.py:160: UserWarning: [08:41:37] WARNING: /workspace/src/context.cc:44: No visible GPU is found, setting device to CPU.\n",
      "  warnings.warn(smsg, UserWarning)\n",
      "2023-11-14 08:41:38,190 INFO XGBoost-PySpark: _fit Finished xgboost training!   \n",
      "2023-11-14 08:41:38,398 INFO XGBoost-PySpark: predict_udf CUDF is unavailable, fallback the inference on the CPUs\n",
      "INFO:XGBoost-PySpark:CUDF is unavailable, fallback the inference on the CPUs\n",
      "2023-11-14 08:41:38,645 WARNING SparkXGBClassifier: _validate_gpu_params You have enabled GPU in spark local mode. Please make sure your local node has at least 1 GPUs\n",
      "2023-11-14 08:41:39,045 INFO XGBoost-PySpark: _fit Running xgboost-2.0.2 on 1 workers with\n",
      "\tbooster params: {'device': 'gpu', 'max_depth': 3, 'min_child_weight': 3, 'objective': 'binary:logistic', 'subsample': 0.8, 'tree_method': 'hist', 'nthread': 1}\n",
      "\ttrain_call_kwargs_params: {'verbose_eval': True, 'num_boost_round': 100}\n",
      "\tdmatrix_kwargs: {'nthread': 1, 'missing': nan}\n",
      "2023-11-14 08:41:39,073 INFO SparkXGBClassifier: _skip_stage_level_scheduling Stage-level scheduling in xgboost requires spark version 3.4.0+\n",
      "2023-11-14 08:41:39,205 INFO XGBoost-PySpark: _train_booster Leveraging cuda:0 to train with QDM: off\n",
      "INFO:XGBoost-PySpark:Leveraging cuda:0 to train with QDM: off\n",
      "[08:41:40] task 0 got new rank 0                                    (0 + 1) / 1]\n",
      "/home/jordan/Desktop/Python_examples/pySpark/venv/lib/python3.10/site-packages/xgboost/core.py:160: UserWarning: [08:41:40] WARNING: /workspace/src/context.cc:44: No visible GPU is found, setting device to CPU.\n",
      "  warnings.warn(smsg, UserWarning)\n",
      "2023-11-14 08:41:41,407 INFO XGBoost-PySpark: _fit Finished xgboost training!   \n",
      "2023-11-14 08:41:41,604 INFO XGBoost-PySpark: predict_udf CUDF is unavailable, fallback the inference on the CPUs\n",
      "INFO:XGBoost-PySpark:CUDF is unavailable, fallback the inference on the CPUs\n",
      "2023-11-14 08:41:41,854 WARNING SparkXGBClassifier: _validate_gpu_params You have enabled GPU in spark local mode. Please make sure your local node has at least 1 GPUs\n",
      "2023-11-14 08:41:42,321 INFO XGBoost-PySpark: _fit Running xgboost-2.0.2 on 1 workers with\n",
      "\tbooster params: {'device': 'gpu', 'max_depth': 5, 'min_child_weight': 1, 'objective': 'binary:logistic', 'subsample': 0.6, 'tree_method': 'hist', 'nthread': 1}\n",
      "\ttrain_call_kwargs_params: {'verbose_eval': True, 'num_boost_round': 100}\n",
      "\tdmatrix_kwargs: {'nthread': 1, 'missing': nan}\n",
      "2023-11-14 08:41:42,354 INFO SparkXGBClassifier: _skip_stage_level_scheduling Stage-level scheduling in xgboost requires spark version 3.4.0+\n",
      "2023-11-14 08:41:42,454 INFO XGBoost-PySpark: _train_booster Leveraging cuda:0 to train with QDM: off\n",
      "INFO:XGBoost-PySpark:Leveraging cuda:0 to train with QDM: off\n",
      "[08:41:43] task 0 got new rank 0                                    (0 + 1) / 1]\n",
      "/home/jordan/Desktop/Python_examples/pySpark/venv/lib/python3.10/site-packages/xgboost/core.py:160: UserWarning: [08:41:43] WARNING: /workspace/src/context.cc:44: No visible GPU is found, setting device to CPU.\n",
      "  warnings.warn(smsg, UserWarning)\n",
      "2023-11-14 08:41:44,670 INFO XGBoost-PySpark: _fit Finished xgboost training!   \n",
      "2023-11-14 08:41:44,897 INFO XGBoost-PySpark: predict_udf CUDF is unavailable, fallback the inference on the CPUs\n",
      "INFO:XGBoost-PySpark:CUDF is unavailable, fallback the inference on the CPUs\n",
      "2023-11-14 08:41:45,150 WARNING SparkXGBClassifier: _validate_gpu_params You have enabled GPU in spark local mode. Please make sure your local node has at least 1 GPUs\n",
      "2023-11-14 08:41:45,576 INFO XGBoost-PySpark: _fit Running xgboost-2.0.2 on 1 workers with\n",
      "\tbooster params: {'device': 'gpu', 'max_depth': 5, 'min_child_weight': 1, 'objective': 'binary:logistic', 'subsample': 0.8, 'tree_method': 'hist', 'nthread': 1}\n",
      "\ttrain_call_kwargs_params: {'verbose_eval': True, 'num_boost_round': 100}\n",
      "\tdmatrix_kwargs: {'nthread': 1, 'missing': nan}\n",
      "2023-11-14 08:41:45,605 INFO SparkXGBClassifier: _skip_stage_level_scheduling Stage-level scheduling in xgboost requires spark version 3.4.0+\n",
      "2023-11-14 08:41:45,698 INFO XGBoost-PySpark: _train_booster Leveraging cuda:0 to train with QDM: off\n",
      "INFO:XGBoost-PySpark:Leveraging cuda:0 to train with QDM: off\n",
      "[08:41:46] task 0 got new rank 0                                    (0 + 1) / 1]\n",
      "/home/jordan/Desktop/Python_examples/pySpark/venv/lib/python3.10/site-packages/xgboost/core.py:160: UserWarning: [08:41:46] WARNING: /workspace/src/context.cc:44: No visible GPU is found, setting device to CPU.\n",
      "  warnings.warn(smsg, UserWarning)\n",
      "2023-11-14 08:41:47,909 INFO XGBoost-PySpark: _fit Finished xgboost training!   \n",
      "2023-11-14 08:41:48,113 INFO XGBoost-PySpark: predict_udf CUDF is unavailable, fallback the inference on the CPUs\n",
      "INFO:XGBoost-PySpark:CUDF is unavailable, fallback the inference on the CPUs\n",
      "2023-11-14 08:41:48,353 WARNING SparkXGBClassifier: _validate_gpu_params You have enabled GPU in spark local mode. Please make sure your local node has at least 1 GPUs\n",
      "2023-11-14 08:41:48,779 INFO XGBoost-PySpark: _fit Running xgboost-2.0.2 on 1 workers with\n",
      "\tbooster params: {'device': 'gpu', 'max_depth': 5, 'min_child_weight': 3, 'objective': 'binary:logistic', 'subsample': 0.6, 'tree_method': 'hist', 'nthread': 1}\n",
      "\ttrain_call_kwargs_params: {'verbose_eval': True, 'num_boost_round': 100}\n",
      "\tdmatrix_kwargs: {'nthread': 1, 'missing': nan}\n",
      "2023-11-14 08:41:48,807 INFO SparkXGBClassifier: _skip_stage_level_scheduling Stage-level scheduling in xgboost requires spark version 3.4.0+\n",
      "2023-11-14 08:41:48,913 INFO XGBoost-PySpark: _train_booster Leveraging cuda:0 to train with QDM: off\n",
      "INFO:XGBoost-PySpark:Leveraging cuda:0 to train with QDM: off\n",
      "[08:41:50] task 0 got new rank 0                                    (0 + 1) / 1]\n",
      "/home/jordan/Desktop/Python_examples/pySpark/venv/lib/python3.10/site-packages/xgboost/core.py:160: UserWarning: [08:41:50] WARNING: /workspace/src/context.cc:44: No visible GPU is found, setting device to CPU.\n",
      "  warnings.warn(smsg, UserWarning)\n",
      "2023-11-14 08:41:51,122 INFO XGBoost-PySpark: _fit Finished xgboost training!   \n",
      "2023-11-14 08:41:51,339 INFO XGBoost-PySpark: predict_udf CUDF is unavailable, fallback the inference on the CPUs\n",
      "INFO:XGBoost-PySpark:CUDF is unavailable, fallback the inference on the CPUs\n",
      "2023-11-14 08:41:51,583 WARNING SparkXGBClassifier: _validate_gpu_params You have enabled GPU in spark local mode. Please make sure your local node has at least 1 GPUs\n",
      "2023-11-14 08:41:51,968 INFO XGBoost-PySpark: _fit Running xgboost-2.0.2 on 1 workers with\n",
      "\tbooster params: {'device': 'gpu', 'max_depth': 5, 'min_child_weight': 3, 'objective': 'binary:logistic', 'subsample': 0.8, 'tree_method': 'hist', 'nthread': 1}\n",
      "\ttrain_call_kwargs_params: {'verbose_eval': True, 'num_boost_round': 100}\n",
      "\tdmatrix_kwargs: {'nthread': 1, 'missing': nan}\n",
      "2023-11-14 08:41:51,991 INFO SparkXGBClassifier: _skip_stage_level_scheduling Stage-level scheduling in xgboost requires spark version 3.4.0+\n",
      "2023-11-14 08:41:52,089 INFO XGBoost-PySpark: _train_booster Leveraging cuda:0 to train with QDM: off\n",
      "INFO:XGBoost-PySpark:Leveraging cuda:0 to train with QDM: off\n",
      "[08:41:53] task 0 got new rank 0                                    (0 + 1) / 1]\n",
      "/home/jordan/Desktop/Python_examples/pySpark/venv/lib/python3.10/site-packages/xgboost/core.py:160: UserWarning: [08:41:53] WARNING: /workspace/src/context.cc:44: No visible GPU is found, setting device to CPU.\n",
      "  warnings.warn(smsg, UserWarning)\n",
      "2023-11-14 08:41:54,300 INFO XGBoost-PySpark: _fit Finished xgboost training!   \n",
      "2023-11-14 08:41:54,512 INFO XGBoost-PySpark: predict_udf CUDF is unavailable, fallback the inference on the CPUs\n",
      "INFO:XGBoost-PySpark:CUDF is unavailable, fallback the inference on the CPUs\n",
      "2023-11-14 08:41:54,898 WARNING SparkXGBClassifier: _validate_gpu_params You have enabled GPU in spark local mode. Please make sure your local node has at least 1 GPUs\n",
      "2023-11-14 08:41:55,272 INFO XGBoost-PySpark: _fit Running xgboost-2.0.2 on 1 workers with\n",
      "\tbooster params: {'device': 'gpu', 'max_depth': 3, 'min_child_weight': 1, 'objective': 'binary:logistic', 'subsample': 0.6, 'tree_method': 'hist', 'nthread': 1}\n",
      "\ttrain_call_kwargs_params: {'verbose_eval': True, 'num_boost_round': 100}\n",
      "\tdmatrix_kwargs: {'nthread': 1, 'missing': nan}\n",
      "2023-11-14 08:41:55,300 INFO SparkXGBClassifier: _skip_stage_level_scheduling Stage-level scheduling in xgboost requires spark version 3.4.0+\n",
      "2023-11-14 08:41:55,398 INFO XGBoost-PySpark: _train_booster Leveraging cuda:0 to train with QDM: off\n",
      "INFO:XGBoost-PySpark:Leveraging cuda:0 to train with QDM: off\n",
      "[08:41:56] task 0 got new rank 0                                    (0 + 1) / 1]\n",
      "/home/jordan/Desktop/Python_examples/pySpark/venv/lib/python3.10/site-packages/xgboost/core.py:160: UserWarning: [08:41:56] WARNING: /workspace/src/context.cc:44: No visible GPU is found, setting device to CPU.\n",
      "  warnings.warn(smsg, UserWarning)\n",
      "2023-11-14 08:41:57,598 INFO XGBoost-PySpark: _fit Finished xgboost training!   \n",
      "2023-11-14 08:41:57,909 INFO XGBoost-PySpark: predict_udf CUDF is unavailable, fallback the inference on the CPUs\n",
      "INFO:XGBoost-PySpark:CUDF is unavailable, fallback the inference on the CPUs\n",
      "2023-11-14 08:41:58,155 WARNING SparkXGBClassifier: _validate_gpu_params You have enabled GPU in spark local mode. Please make sure your local node has at least 1 GPUs\n",
      "2023-11-14 08:41:58,581 INFO XGBoost-PySpark: _fit Running xgboost-2.0.2 on 1 workers with\n",
      "\tbooster params: {'device': 'gpu', 'max_depth': 3, 'min_child_weight': 1, 'objective': 'binary:logistic', 'subsample': 0.8, 'tree_method': 'hist', 'nthread': 1}\n",
      "\ttrain_call_kwargs_params: {'verbose_eval': True, 'num_boost_round': 100}\n",
      "\tdmatrix_kwargs: {'nthread': 1, 'missing': nan}\n",
      "2023-11-14 08:41:58,609 INFO SparkXGBClassifier: _skip_stage_level_scheduling Stage-level scheduling in xgboost requires spark version 3.4.0+\n",
      "2023-11-14 08:41:58,718 INFO XGBoost-PySpark: _train_booster Leveraging cuda:0 to train with QDM: off\n",
      "INFO:XGBoost-PySpark:Leveraging cuda:0 to train with QDM: off\n",
      "[08:41:59] task 0 got new rank 0                                    (0 + 1) / 1]\n",
      "/home/jordan/Desktop/Python_examples/pySpark/venv/lib/python3.10/site-packages/xgboost/core.py:160: UserWarning: [08:41:59] WARNING: /workspace/src/context.cc:44: No visible GPU is found, setting device to CPU.\n",
      "  warnings.warn(smsg, UserWarning)\n",
      "2023-11-14 08:42:00,909 INFO XGBoost-PySpark: _fit Finished xgboost training!   \n",
      "2023-11-14 08:42:01,103 INFO XGBoost-PySpark: predict_udf CUDF is unavailable, fallback the inference on the CPUs\n",
      "INFO:XGBoost-PySpark:CUDF is unavailable, fallback the inference on the CPUs\n",
      "2023-11-14 08:42:01,364 WARNING SparkXGBClassifier: _validate_gpu_params You have enabled GPU in spark local mode. Please make sure your local node has at least 1 GPUs\n",
      "2023-11-14 08:42:01,823 INFO XGBoost-PySpark: _fit Running xgboost-2.0.2 on 1 workers with\n",
      "\tbooster params: {'device': 'gpu', 'max_depth': 3, 'min_child_weight': 3, 'objective': 'binary:logistic', 'subsample': 0.6, 'tree_method': 'hist', 'nthread': 1}\n",
      "\ttrain_call_kwargs_params: {'verbose_eval': True, 'num_boost_round': 100}\n",
      "\tdmatrix_kwargs: {'nthread': 1, 'missing': nan}\n",
      "2023-11-14 08:42:01,855 INFO SparkXGBClassifier: _skip_stage_level_scheduling Stage-level scheduling in xgboost requires spark version 3.4.0+\n",
      "2023-11-14 08:42:01,948 INFO XGBoost-PySpark: _train_booster Leveraging cuda:0 to train with QDM: off\n",
      "INFO:XGBoost-PySpark:Leveraging cuda:0 to train with QDM: off\n",
      "[08:42:03] task 0 got new rank 0                                    (0 + 1) / 1]\n",
      "/home/jordan/Desktop/Python_examples/pySpark/venv/lib/python3.10/site-packages/xgboost/core.py:160: UserWarning: [08:42:03] WARNING: /workspace/src/context.cc:44: No visible GPU is found, setting device to CPU.\n",
      "  warnings.warn(smsg, UserWarning)\n",
      "2023-11-14 08:42:04,162 INFO XGBoost-PySpark: _fit Finished xgboost training!   \n",
      "2023-11-14 08:42:04,361 INFO XGBoost-PySpark: predict_udf CUDF is unavailable, fallback the inference on the CPUs\n",
      "INFO:XGBoost-PySpark:CUDF is unavailable, fallback the inference on the CPUs\n",
      "2023-11-14 08:42:04,598 WARNING SparkXGBClassifier: _validate_gpu_params You have enabled GPU in spark local mode. Please make sure your local node has at least 1 GPUs\n",
      "2023-11-14 08:42:05,061 INFO XGBoost-PySpark: _fit Running xgboost-2.0.2 on 1 workers with\n",
      "\tbooster params: {'device': 'gpu', 'max_depth': 3, 'min_child_weight': 3, 'objective': 'binary:logistic', 'subsample': 0.8, 'tree_method': 'hist', 'nthread': 1}\n",
      "\ttrain_call_kwargs_params: {'verbose_eval': True, 'num_boost_round': 100}\n",
      "\tdmatrix_kwargs: {'nthread': 1, 'missing': nan}\n",
      "2023-11-14 08:42:05,086 INFO SparkXGBClassifier: _skip_stage_level_scheduling Stage-level scheduling in xgboost requires spark version 3.4.0+\n",
      "2023-11-14 08:42:05,175 INFO XGBoost-PySpark: _train_booster Leveraging cuda:0 to train with QDM: off\n",
      "INFO:XGBoost-PySpark:Leveraging cuda:0 to train with QDM: off\n",
      "[08:42:06] task 0 got new rank 0                                    (0 + 1) / 1]\n",
      "/home/jordan/Desktop/Python_examples/pySpark/venv/lib/python3.10/site-packages/xgboost/core.py:160: UserWarning: [08:42:06] WARNING: /workspace/src/context.cc:44: No visible GPU is found, setting device to CPU.\n",
      "  warnings.warn(smsg, UserWarning)\n",
      "2023-11-14 08:42:07,374 INFO XGBoost-PySpark: _fit Finished xgboost training!   \n",
      "2023-11-14 08:42:07,574 INFO XGBoost-PySpark: predict_udf CUDF is unavailable, fallback the inference on the CPUs\n",
      "INFO:XGBoost-PySpark:CUDF is unavailable, fallback the inference on the CPUs\n",
      "2023-11-14 08:42:07,814 WARNING SparkXGBClassifier: _validate_gpu_params You have enabled GPU in spark local mode. Please make sure your local node has at least 1 GPUs\n",
      "2023-11-14 08:42:08,233 INFO XGBoost-PySpark: _fit Running xgboost-2.0.2 on 1 workers with\n",
      "\tbooster params: {'device': 'gpu', 'max_depth': 5, 'min_child_weight': 1, 'objective': 'binary:logistic', 'subsample': 0.6, 'tree_method': 'hist', 'nthread': 1}\n",
      "\ttrain_call_kwargs_params: {'verbose_eval': True, 'num_boost_round': 100}\n",
      "\tdmatrix_kwargs: {'nthread': 1, 'missing': nan}\n",
      "2023-11-14 08:42:08,264 INFO SparkXGBClassifier: _skip_stage_level_scheduling Stage-level scheduling in xgboost requires spark version 3.4.0+\n",
      "2023-11-14 08:42:08,361 INFO XGBoost-PySpark: _train_booster Leveraging cuda:0 to train with QDM: off\n",
      "INFO:XGBoost-PySpark:Leveraging cuda:0 to train with QDM: off\n",
      "[08:42:09] task 0 got new rank 0                                    (0 + 1) / 1]\n",
      "/home/jordan/Desktop/Python_examples/pySpark/venv/lib/python3.10/site-packages/xgboost/core.py:160: UserWarning: [08:42:09] WARNING: /workspace/src/context.cc:44: No visible GPU is found, setting device to CPU.\n",
      "  warnings.warn(smsg, UserWarning)\n",
      "2023-11-14 08:42:10,575 INFO XGBoost-PySpark: _fit Finished xgboost training!   \n",
      "2023-11-14 08:42:10,795 INFO XGBoost-PySpark: predict_udf CUDF is unavailable, fallback the inference on the CPUs\n",
      "INFO:XGBoost-PySpark:CUDF is unavailable, fallback the inference on the CPUs\n",
      "2023-11-14 08:42:11,020 WARNING SparkXGBClassifier: _validate_gpu_params You have enabled GPU in spark local mode. Please make sure your local node has at least 1 GPUs\n",
      "2023-11-14 08:42:11,442 INFO XGBoost-PySpark: _fit Running xgboost-2.0.2 on 1 workers with\n",
      "\tbooster params: {'device': 'gpu', 'max_depth': 5, 'min_child_weight': 1, 'objective': 'binary:logistic', 'subsample': 0.8, 'tree_method': 'hist', 'nthread': 1}\n",
      "\ttrain_call_kwargs_params: {'verbose_eval': True, 'num_boost_round': 100}\n",
      "\tdmatrix_kwargs: {'nthread': 1, 'missing': nan}\n",
      "2023-11-14 08:42:11,472 INFO SparkXGBClassifier: _skip_stage_level_scheduling Stage-level scheduling in xgboost requires spark version 3.4.0+\n",
      "2023-11-14 08:42:11,571 INFO XGBoost-PySpark: _train_booster Leveraging cuda:0 to train with QDM: off\n",
      "INFO:XGBoost-PySpark:Leveraging cuda:0 to train with QDM: off\n",
      "[08:42:12] task 0 got new rank 0                                    (0 + 1) / 1]\n",
      "/home/jordan/Desktop/Python_examples/pySpark/venv/lib/python3.10/site-packages/xgboost/core.py:160: UserWarning: [08:42:12] WARNING: /workspace/src/context.cc:44: No visible GPU is found, setting device to CPU.\n",
      "  warnings.warn(smsg, UserWarning)\n",
      "2023-11-14 08:42:13,775 INFO XGBoost-PySpark: _fit Finished xgboost training!   \n",
      "2023-11-14 08:42:13,990 INFO XGBoost-PySpark: predict_udf CUDF is unavailable, fallback the inference on the CPUs\n",
      "INFO:XGBoost-PySpark:CUDF is unavailable, fallback the inference on the CPUs\n",
      "2023-11-14 08:42:14,210 WARNING SparkXGBClassifier: _validate_gpu_params You have enabled GPU in spark local mode. Please make sure your local node has at least 1 GPUs\n",
      "2023-11-14 08:42:14,665 INFO XGBoost-PySpark: _fit Running xgboost-2.0.2 on 1 workers with\n",
      "\tbooster params: {'device': 'gpu', 'max_depth': 5, 'min_child_weight': 3, 'objective': 'binary:logistic', 'subsample': 0.6, 'tree_method': 'hist', 'nthread': 1}\n",
      "\ttrain_call_kwargs_params: {'verbose_eval': True, 'num_boost_round': 100}\n",
      "\tdmatrix_kwargs: {'nthread': 1, 'missing': nan}\n",
      "2023-11-14 08:42:14,690 INFO SparkXGBClassifier: _skip_stage_level_scheduling Stage-level scheduling in xgboost requires spark version 3.4.0+\n",
      "2023-11-14 08:42:14,775 INFO XGBoost-PySpark: _train_booster Leveraging cuda:0 to train with QDM: off\n",
      "INFO:XGBoost-PySpark:Leveraging cuda:0 to train with QDM: off\n",
      "[08:42:15] task 0 got new rank 0                                    (0 + 1) / 1]\n",
      "/home/jordan/Desktop/Python_examples/pySpark/venv/lib/python3.10/site-packages/xgboost/core.py:160: UserWarning: [08:42:15] WARNING: /workspace/src/context.cc:44: No visible GPU is found, setting device to CPU.\n",
      "  warnings.warn(smsg, UserWarning)\n",
      "2023-11-14 08:42:16,984 INFO XGBoost-PySpark: _fit Finished xgboost training!   \n",
      "2023-11-14 08:42:17,185 INFO XGBoost-PySpark: predict_udf CUDF is unavailable, fallback the inference on the CPUs\n",
      "INFO:XGBoost-PySpark:CUDF is unavailable, fallback the inference on the CPUs\n",
      "2023-11-14 08:42:17,417 WARNING SparkXGBClassifier: _validate_gpu_params You have enabled GPU in spark local mode. Please make sure your local node has at least 1 GPUs\n",
      "2023-11-14 08:42:17,855 INFO XGBoost-PySpark: _fit Running xgboost-2.0.2 on 1 workers with\n",
      "\tbooster params: {'device': 'gpu', 'max_depth': 5, 'min_child_weight': 3, 'objective': 'binary:logistic', 'subsample': 0.8, 'tree_method': 'hist', 'nthread': 1}\n",
      "\ttrain_call_kwargs_params: {'verbose_eval': True, 'num_boost_round': 100}\n",
      "\tdmatrix_kwargs: {'nthread': 1, 'missing': nan}\n",
      "2023-11-14 08:42:17,881 INFO SparkXGBClassifier: _skip_stage_level_scheduling Stage-level scheduling in xgboost requires spark version 3.4.0+\n",
      "2023-11-14 08:42:17,973 INFO XGBoost-PySpark: _train_booster Leveraging cuda:0 to train with QDM: off\n",
      "INFO:XGBoost-PySpark:Leveraging cuda:0 to train with QDM: off\n",
      "[08:42:19] task 0 got new rank 0                                    (0 + 1) / 1]\n",
      "/home/jordan/Desktop/Python_examples/pySpark/venv/lib/python3.10/site-packages/xgboost/core.py:160: UserWarning: [08:42:19] WARNING: /workspace/src/context.cc:44: No visible GPU is found, setting device to CPU.\n",
      "  warnings.warn(smsg, UserWarning)\n",
      "2023-11-14 08:42:20,165 INFO XGBoost-PySpark: _fit Finished xgboost training!   \n",
      "2023-11-14 08:42:20,380 INFO XGBoost-PySpark: predict_udf CUDF is unavailable, fallback the inference on the CPUs\n",
      "INFO:XGBoost-PySpark:CUDF is unavailable, fallback the inference on the CPUs\n",
      "2023-11-14 08:42:20,716 WARNING SparkXGBClassifier: _validate_gpu_params You have enabled GPU in spark local mode. Please make sure your local node has at least 1 GPUs\n",
      "2023-11-14 08:42:21,139 INFO XGBoost-PySpark: _fit Running xgboost-2.0.2 on 1 workers with\n",
      "\tbooster params: {'device': 'gpu', 'max_depth': 3, 'min_child_weight': 1, 'objective': 'binary:logistic', 'subsample': 0.6, 'tree_method': 'hist', 'nthread': 1}\n",
      "\ttrain_call_kwargs_params: {'verbose_eval': True, 'num_boost_round': 100}\n",
      "\tdmatrix_kwargs: {'nthread': 1, 'missing': nan}\n",
      "2023-11-14 08:42:21,164 INFO SparkXGBClassifier: _skip_stage_level_scheduling Stage-level scheduling in xgboost requires spark version 3.4.0+\n",
      "2023-11-14 08:42:21,257 INFO XGBoost-PySpark: _train_booster Leveraging cuda:0 to train with QDM: off\n",
      "INFO:XGBoost-PySpark:Leveraging cuda:0 to train with QDM: off\n",
      "[08:42:22] task 0 got new rank 0                                    (0 + 1) / 1]\n",
      "/home/jordan/Desktop/Python_examples/pySpark/venv/lib/python3.10/site-packages/xgboost/core.py:160: UserWarning: [08:42:22] WARNING: /workspace/src/context.cc:44: No visible GPU is found, setting device to CPU.\n",
      "  warnings.warn(smsg, UserWarning)\n",
      "2023-11-14 08:42:23,467 INFO XGBoost-PySpark: _fit Finished xgboost training!   \n",
      "2023-11-14 08:42:23,747 INFO XGBoost-PySpark: predict_udf CUDF is unavailable, fallback the inference on the CPUs\n",
      "INFO:XGBoost-PySpark:CUDF is unavailable, fallback the inference on the CPUs\n",
      "2023-11-14 08:42:23,973 WARNING SparkXGBClassifier: _validate_gpu_params You have enabled GPU in spark local mode. Please make sure your local node has at least 1 GPUs\n",
      "2023-11-14 08:42:24,401 INFO XGBoost-PySpark: _fit Running xgboost-2.0.2 on 1 workers with\n",
      "\tbooster params: {'device': 'gpu', 'max_depth': 3, 'min_child_weight': 1, 'objective': 'binary:logistic', 'subsample': 0.8, 'tree_method': 'hist', 'nthread': 1}\n",
      "\ttrain_call_kwargs_params: {'verbose_eval': True, 'num_boost_round': 100}\n",
      "\tdmatrix_kwargs: {'nthread': 1, 'missing': nan}\n",
      "2023-11-14 08:42:24,427 INFO SparkXGBClassifier: _skip_stage_level_scheduling Stage-level scheduling in xgboost requires spark version 3.4.0+\n",
      "2023-11-14 08:42:24,518 INFO XGBoost-PySpark: _train_booster Leveraging cuda:0 to train with QDM: off\n",
      "INFO:XGBoost-PySpark:Leveraging cuda:0 to train with QDM: off\n",
      "[08:42:25] task 0 got new rank 0                                    (0 + 1) / 1]\n",
      "/home/jordan/Desktop/Python_examples/pySpark/venv/lib/python3.10/site-packages/xgboost/core.py:160: UserWarning: [08:42:25] WARNING: /workspace/src/context.cc:44: No visible GPU is found, setting device to CPU.\n",
      "  warnings.warn(smsg, UserWarning)\n",
      "2023-11-14 08:42:26,733 INFO XGBoost-PySpark: _fit Finished xgboost training!   \n",
      "2023-11-14 08:42:26,954 INFO XGBoost-PySpark: predict_udf CUDF is unavailable, fallback the inference on the CPUs\n",
      "INFO:XGBoost-PySpark:CUDF is unavailable, fallback the inference on the CPUs\n",
      "2023-11-14 08:42:27,180 WARNING SparkXGBClassifier: _validate_gpu_params You have enabled GPU in spark local mode. Please make sure your local node has at least 1 GPUs\n",
      "2023-11-14 08:42:27,591 INFO XGBoost-PySpark: _fit Running xgboost-2.0.2 on 1 workers with\n",
      "\tbooster params: {'device': 'gpu', 'max_depth': 3, 'min_child_weight': 3, 'objective': 'binary:logistic', 'subsample': 0.6, 'tree_method': 'hist', 'nthread': 1}\n",
      "\ttrain_call_kwargs_params: {'verbose_eval': True, 'num_boost_round': 100}\n",
      "\tdmatrix_kwargs: {'nthread': 1, 'missing': nan}\n",
      "2023-11-14 08:42:27,621 INFO SparkXGBClassifier: _skip_stage_level_scheduling Stage-level scheduling in xgboost requires spark version 3.4.0+\n",
      "2023-11-14 08:42:27,710 INFO XGBoost-PySpark: _train_booster Leveraging cuda:0 to train with QDM: off\n",
      "INFO:XGBoost-PySpark:Leveraging cuda:0 to train with QDM: off\n",
      "[08:42:28] task 0 got new rank 0                                    (0 + 1) / 1]\n",
      "/home/jordan/Desktop/Python_examples/pySpark/venv/lib/python3.10/site-packages/xgboost/core.py:160: UserWarning: [08:42:28] WARNING: /workspace/src/context.cc:44: No visible GPU is found, setting device to CPU.\n",
      "  warnings.warn(smsg, UserWarning)\n",
      "2023-11-14 08:42:29,907 INFO XGBoost-PySpark: _fit Finished xgboost training!   \n",
      "2023-11-14 08:42:30,107 INFO XGBoost-PySpark: predict_udf CUDF is unavailable, fallback the inference on the CPUs\n",
      "INFO:XGBoost-PySpark:CUDF is unavailable, fallback the inference on the CPUs\n",
      "2023-11-14 08:42:30,333 WARNING SparkXGBClassifier: _validate_gpu_params You have enabled GPU in spark local mode. Please make sure your local node has at least 1 GPUs\n",
      "2023-11-14 08:42:30,768 INFO XGBoost-PySpark: _fit Running xgboost-2.0.2 on 1 workers with\n",
      "\tbooster params: {'device': 'gpu', 'max_depth': 3, 'min_child_weight': 3, 'objective': 'binary:logistic', 'subsample': 0.8, 'tree_method': 'hist', 'nthread': 1}\n",
      "\ttrain_call_kwargs_params: {'verbose_eval': True, 'num_boost_round': 100}\n",
      "\tdmatrix_kwargs: {'nthread': 1, 'missing': nan}\n",
      "2023-11-14 08:42:30,795 INFO SparkXGBClassifier: _skip_stage_level_scheduling Stage-level scheduling in xgboost requires spark version 3.4.0+\n",
      "2023-11-14 08:42:30,884 INFO XGBoost-PySpark: _train_booster Leveraging cuda:0 to train with QDM: off\n",
      "INFO:XGBoost-PySpark:Leveraging cuda:0 to train with QDM: off\n",
      "[08:42:31] task 0 got new rank 0                                    (0 + 1) / 1]\n",
      "/home/jordan/Desktop/Python_examples/pySpark/venv/lib/python3.10/site-packages/xgboost/core.py:160: UserWarning: [08:42:32] WARNING: /workspace/src/context.cc:44: No visible GPU is found, setting device to CPU.\n",
      "  warnings.warn(smsg, UserWarning)\n",
      "2023-11-14 08:42:33,085 INFO XGBoost-PySpark: _fit Finished xgboost training!   \n",
      "2023-11-14 08:42:33,277 INFO XGBoost-PySpark: predict_udf CUDF is unavailable, fallback the inference on the CPUs\n",
      "INFO:XGBoost-PySpark:CUDF is unavailable, fallback the inference on the CPUs\n",
      "2023-11-14 08:42:33,515 WARNING SparkXGBClassifier: _validate_gpu_params You have enabled GPU in spark local mode. Please make sure your local node has at least 1 GPUs\n",
      "2023-11-14 08:42:33,923 INFO XGBoost-PySpark: _fit Running xgboost-2.0.2 on 1 workers with\n",
      "\tbooster params: {'device': 'gpu', 'max_depth': 5, 'min_child_weight': 1, 'objective': 'binary:logistic', 'subsample': 0.6, 'tree_method': 'hist', 'nthread': 1}\n",
      "\ttrain_call_kwargs_params: {'verbose_eval': True, 'num_boost_round': 100}\n",
      "\tdmatrix_kwargs: {'nthread': 1, 'missing': nan}\n",
      "2023-11-14 08:42:33,951 INFO SparkXGBClassifier: _skip_stage_level_scheduling Stage-level scheduling in xgboost requires spark version 3.4.0+\n",
      "2023-11-14 08:42:34,090 INFO XGBoost-PySpark: _train_booster Leveraging cuda:0 to train with QDM: off\n",
      "INFO:XGBoost-PySpark:Leveraging cuda:0 to train with QDM: off\n",
      "[08:42:35] task 0 got new rank 0                                    (0 + 1) / 1]\n",
      "/home/jordan/Desktop/Python_examples/pySpark/venv/lib/python3.10/site-packages/xgboost/core.py:160: UserWarning: [08:42:35] WARNING: /workspace/src/context.cc:44: No visible GPU is found, setting device to CPU.\n",
      "  warnings.warn(smsg, UserWarning)\n",
      "2023-11-14 08:42:36,300 INFO XGBoost-PySpark: _fit Finished xgboost training!   \n",
      "2023-11-14 08:42:36,517 INFO XGBoost-PySpark: predict_udf CUDF is unavailable, fallback the inference on the CPUs\n",
      "INFO:XGBoost-PySpark:CUDF is unavailable, fallback the inference on the CPUs\n",
      "2023-11-14 08:42:36,730 WARNING SparkXGBClassifier: _validate_gpu_params You have enabled GPU in spark local mode. Please make sure your local node has at least 1 GPUs\n",
      "2023-11-14 08:42:37,161 INFO XGBoost-PySpark: _fit Running xgboost-2.0.2 on 1 workers with\n",
      "\tbooster params: {'device': 'gpu', 'max_depth': 5, 'min_child_weight': 1, 'objective': 'binary:logistic', 'subsample': 0.8, 'tree_method': 'hist', 'nthread': 1}\n",
      "\ttrain_call_kwargs_params: {'verbose_eval': True, 'num_boost_round': 100}\n",
      "\tdmatrix_kwargs: {'nthread': 1, 'missing': nan}\n",
      "2023-11-14 08:42:37,187 INFO SparkXGBClassifier: _skip_stage_level_scheduling Stage-level scheduling in xgboost requires spark version 3.4.0+\n",
      "2023-11-14 08:42:37,292 INFO XGBoost-PySpark: _train_booster Leveraging cuda:0 to train with QDM: off\n",
      "INFO:XGBoost-PySpark:Leveraging cuda:0 to train with QDM: off\n",
      "[08:42:38] task 0 got new rank 0                                    (0 + 1) / 1]\n",
      "/home/jordan/Desktop/Python_examples/pySpark/venv/lib/python3.10/site-packages/xgboost/core.py:160: UserWarning: [08:42:38] WARNING: /workspace/src/context.cc:44: No visible GPU is found, setting device to CPU.\n",
      "  warnings.warn(smsg, UserWarning)\n",
      "2023-11-14 08:42:39,521 INFO XGBoost-PySpark: _fit Finished xgboost training!   \n",
      "2023-11-14 08:42:39,731 INFO XGBoost-PySpark: predict_udf CUDF is unavailable, fallback the inference on the CPUs\n",
      "INFO:XGBoost-PySpark:CUDF is unavailable, fallback the inference on the CPUs\n",
      "2023-11-14 08:42:39,967 WARNING SparkXGBClassifier: _validate_gpu_params You have enabled GPU in spark local mode. Please make sure your local node has at least 1 GPUs\n",
      "2023-11-14 08:42:40,388 INFO XGBoost-PySpark: _fit Running xgboost-2.0.2 on 1 workers with\n",
      "\tbooster params: {'device': 'gpu', 'max_depth': 5, 'min_child_weight': 3, 'objective': 'binary:logistic', 'subsample': 0.6, 'tree_method': 'hist', 'nthread': 1}\n",
      "\ttrain_call_kwargs_params: {'verbose_eval': True, 'num_boost_round': 100}\n",
      "\tdmatrix_kwargs: {'nthread': 1, 'missing': nan}\n",
      "2023-11-14 08:42:40,412 INFO SparkXGBClassifier: _skip_stage_level_scheduling Stage-level scheduling in xgboost requires spark version 3.4.0+\n",
      "2023-11-14 08:42:40,505 INFO XGBoost-PySpark: _train_booster Leveraging cuda:0 to train with QDM: off\n",
      "INFO:XGBoost-PySpark:Leveraging cuda:0 to train with QDM: off\n",
      "[08:42:41] task 0 got new rank 0                                    (0 + 1) / 1]\n",
      "/home/jordan/Desktop/Python_examples/pySpark/venv/lib/python3.10/site-packages/xgboost/core.py:160: UserWarning: [08:42:41] WARNING: /workspace/src/context.cc:44: No visible GPU is found, setting device to CPU.\n",
      "  warnings.warn(smsg, UserWarning)\n",
      "2023-11-14 08:42:42,725 INFO XGBoost-PySpark: _fit Finished xgboost training!   \n",
      "2023-11-14 08:42:42,931 INFO XGBoost-PySpark: predict_udf CUDF is unavailable, fallback the inference on the CPUs\n",
      "INFO:XGBoost-PySpark:CUDF is unavailable, fallback the inference on the CPUs\n",
      "2023-11-14 08:42:43,146 WARNING SparkXGBClassifier: _validate_gpu_params You have enabled GPU in spark local mode. Please make sure your local node has at least 1 GPUs\n",
      "2023-11-14 08:42:43,564 INFO XGBoost-PySpark: _fit Running xgboost-2.0.2 on 1 workers with\n",
      "\tbooster params: {'device': 'gpu', 'max_depth': 5, 'min_child_weight': 3, 'objective': 'binary:logistic', 'subsample': 0.8, 'tree_method': 'hist', 'nthread': 1}\n",
      "\ttrain_call_kwargs_params: {'verbose_eval': True, 'num_boost_round': 100}\n",
      "\tdmatrix_kwargs: {'nthread': 1, 'missing': nan}\n",
      "2023-11-14 08:42:43,596 INFO SparkXGBClassifier: _skip_stage_level_scheduling Stage-level scheduling in xgboost requires spark version 3.4.0+\n",
      "2023-11-14 08:42:43,686 INFO XGBoost-PySpark: _train_booster Leveraging cuda:0 to train with QDM: off\n",
      "INFO:XGBoost-PySpark:Leveraging cuda:0 to train with QDM: off\n",
      "[08:42:44] task 0 got new rank 0                                    (0 + 1) / 1]\n",
      "/home/jordan/Desktop/Python_examples/pySpark/venv/lib/python3.10/site-packages/xgboost/core.py:160: UserWarning: [08:42:44] WARNING: /workspace/src/context.cc:44: No visible GPU is found, setting device to CPU.\n",
      "  warnings.warn(smsg, UserWarning)\n",
      "2023-11-14 08:42:45,887 INFO XGBoost-PySpark: _fit Finished xgboost training!   \n",
      "2023-11-14 08:42:46,089 INFO XGBoost-PySpark: predict_udf CUDF is unavailable, fallback the inference on the CPUs\n",
      "INFO:XGBoost-PySpark:CUDF is unavailable, fallback the inference on the CPUs\n",
      "2023-11-14 08:42:46,516 WARNING SparkXGBClassifier: _validate_gpu_params You have enabled GPU in spark local mode. Please make sure your local node has at least 1 GPUs\n",
      "2023-11-14 08:42:46,969 INFO XGBoost-PySpark: _fit Running xgboost-2.0.2 on 1 workers with\n",
      "\tbooster params: {'device': 'gpu', 'max_depth': 3, 'min_child_weight': 1, 'objective': 'binary:logistic', 'subsample': 0.8, 'tree_method': 'hist', 'nthread': 1}\n",
      "\ttrain_call_kwargs_params: {'verbose_eval': True, 'num_boost_round': 100}\n",
      "\tdmatrix_kwargs: {'nthread': 1, 'missing': nan}\n",
      "2023-11-14 08:42:47,030 INFO SparkXGBClassifier: _skip_stage_level_scheduling Stage-level scheduling in xgboost requires spark version 3.4.0+\n",
      "2023-11-14 08:42:47,165 INFO XGBoost-PySpark: _train_booster Leveraging cuda:0 to train with QDM: off\n",
      "INFO:XGBoost-PySpark:Leveraging cuda:0 to train with QDM: off\n",
      "[08:42:48] task 0 got new rank 0                                    (0 + 1) / 1]\n",
      "/home/jordan/Desktop/Python_examples/pySpark/venv/lib/python3.10/site-packages/xgboost/core.py:160: UserWarning: [08:42:48] WARNING: /workspace/src/context.cc:44: No visible GPU is found, setting device to CPU.\n",
      "  warnings.warn(smsg, UserWarning)\n",
      "2023-11-14 08:42:49,372 INFO XGBoost-PySpark: _fit Finished xgboost training!   \n"
     ]
    }
   ],
   "source": [
    "# Train model\n",
    "model = cv.fit(train_data)"
   ],
   "metadata": {
    "collapsed": false,
    "pycharm": {
     "name": "#%%\n"
    }
   }
  },
  {
   "cell_type": "code",
   "execution_count": 21,
   "outputs": [],
   "source": [
    "# Make predictions on the test set\n",
    "predictions = model.transform(test_data)"
   ],
   "metadata": {
    "collapsed": false,
    "pycharm": {
     "name": "#%%\n"
    }
   }
  },
  {
   "cell_type": "code",
   "execution_count": 22,
   "outputs": [
    {
     "name": "stderr",
     "output_type": "stream",
     "text": [
      "[Stage 901:>                                                        (0 + 1) / 1]\r"
     ]
    },
    {
     "name": "stdout",
     "output_type": "stream",
     "text": [
      "areaUnderROC: 0.9884381338742392\n"
     ]
    },
    {
     "name": "stderr",
     "output_type": "stream",
     "text": [
      "2023-11-14 08:43:52,619 INFO XGBoost-PySpark: predict_udf CUDF is unavailable, fallback the inference on the CPUs\n",
      "/home/jordan/Desktop/Python_examples/pySpark/venv/lib/python3.10/site-packages/pyspark/python/lib/pyspark.zip/pyspark/sql/pandas/serializers.py:169: FutureWarning: is_categorical_dtype is deprecated and will be removed in a future version. Use isinstance(dtype, CategoricalDtype) instead\n",
      "                                                                                \r"
     ]
    }
   ],
   "source": [
    "# Evaluate the model\n",
    "auc = evaluator.evaluate(predictions)\n",
    "print(f\"areaUnderROC: {auc}\")"
   ],
   "metadata": {
    "collapsed": false,
    "pycharm": {
     "name": "#%%\n"
    }
   }
  },
  {
   "cell_type": "code",
   "execution_count": 24,
   "outputs": [],
   "source": [
    "# Stop the Spark session\n",
    "spark.stop()"
   ],
   "metadata": {
    "collapsed": false,
    "pycharm": {
     "name": "#%%\n"
    }
   }
  }
 ],
 "metadata": {
  "kernelspec": {
   "display_name": "Python 3",
   "language": "python",
   "name": "python3"
  },
  "language_info": {
   "codemirror_mode": {
    "name": "ipython",
    "version": 2
   },
   "file_extension": ".py",
   "mimetype": "text/x-python",
   "name": "python",
   "nbconvert_exporter": "python",
   "pygments_lexer": "ipython2",
   "version": "2.7.6"
  }
 },
 "nbformat": 4,
 "nbformat_minor": 0
}