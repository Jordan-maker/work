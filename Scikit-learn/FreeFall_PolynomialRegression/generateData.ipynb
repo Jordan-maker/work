{
 "cells": [
  {
   "cell_type": "code",
   "execution_count": 1,
   "metadata": {
    "collapsed": true,
    "pycharm": {
     "name": "#%%\n"
    }
   },
   "outputs": [],
   "source": [
    "# First of all, we create a \"experimental\" dataset which follows\n",
    "# a second-degree polynomial function."
   ]
  },
  {
   "cell_type": "code",
   "execution_count": 2,
   "outputs": [],
   "source": [
    "import numpy as np\n",
    "import pandas as pd"
   ],
   "metadata": {
    "collapsed": false,
    "pycharm": {
     "name": "#%%\n"
    }
   }
  },
  {
   "cell_type": "code",
   "execution_count": 3,
   "outputs": [],
   "source": [
    "# Constants\n",
    "initial_height = 100.0  # Initial height in meters\n",
    "time_interval = 0.1     # Time interval in seconds\n",
    "num_points = 46         # Number of data points to generate\n",
    "noise_std = 2.0         # Standard deviation of the random noise"
   ],
   "metadata": {
    "collapsed": false,
    "pycharm": {
     "name": "#%%\n"
    }
   }
  },
  {
   "cell_type": "code",
   "execution_count": 4,
   "outputs": [],
   "source": [
    "# Generate time values\n",
    "time_values = np.arange(0, num_points*time_interval, time_interval)"
   ],
   "metadata": {
    "collapsed": false,
    "pycharm": {
     "name": "#%%\n"
    }
   }
  },
  {
   "cell_type": "code",
   "execution_count": 5,
   "outputs": [
    {
     "data": {
      "text/plain": "array([100.     ,  99.95095,  99.8038 ,  99.55855,  99.2152 ,  98.77375,\n        98.2342 ,  97.59655,  96.8608 ,  96.02695,  95.095  ,  94.06495,\n        92.9368 ,  91.71055,  90.3862 ,  88.96375,  87.4432 ,  85.82455,\n        84.1078 ,  82.29295,  80.38   ,  78.36895,  76.2598 ,  74.05255,\n        71.7472 ,  69.34375,  66.8422 ,  64.24255,  61.5448 ,  58.74895,\n        55.855  ,  52.86295,  49.7728 ,  46.58455,  43.2982 ,  39.91375,\n        36.4312 ,  32.85055,  29.1718 ,  25.39495,  21.52   ,  17.54695,\n        13.4758 ,   9.30655,   5.0392 ,   0.67375])"
     },
     "execution_count": 5,
     "metadata": {},
     "output_type": "execute_result"
    }
   ],
   "source": [
    "# Generate height values using freefall equation (h = h0 - (1/2)*g*t^2)\n",
    "gravity = 9.81  # Acceleration due to gravity in m/s^2\n",
    "height_values = initial_height - 0.5*gravity*time_values**2\n",
    "height_values"
   ],
   "metadata": {
    "collapsed": false,
    "pycharm": {
     "name": "#%%\n"
    }
   }
  },
  {
   "cell_type": "code",
   "execution_count": 6,
   "outputs": [],
   "source": [
    "# Add random noise to height values\n",
    "noise = np.random.normal(0, noise_std, num_points)\n",
    "height_values += noise"
   ],
   "metadata": {
    "collapsed": false,
    "pycharm": {
     "name": "#%%\n"
    }
   }
  },
  {
   "cell_type": "code",
   "execution_count": 7,
   "outputs": [],
   "source": [
    "# Create a DataFrame to store the data\n",
    "\n",
    "time_values = [round(x, 1) for x in time_values] # Round to one decimal\n",
    "height_values = [round(x, 2) for x in height_values] # Round to two decimals\n",
    "\n",
    "df = pd.DataFrame({'Time': time_values, 'Height': height_values})"
   ],
   "metadata": {
    "collapsed": false,
    "pycharm": {
     "name": "#%%\n"
    }
   }
  },
  {
   "cell_type": "code",
   "execution_count": 8,
   "outputs": [],
   "source": [
    "# Save the data to a CSV file\n",
    "df.to_csv('data.csv', index=False)"
   ],
   "metadata": {
    "collapsed": false,
    "pycharm": {
     "name": "#%%\n"
    }
   }
  }
 ],
 "metadata": {
  "kernelspec": {
   "display_name": "Python 3",
   "language": "python",
   "name": "python3"
  },
  "language_info": {
   "codemirror_mode": {
    "name": "ipython",
    "version": 2
   },
   "file_extension": ".py",
   "mimetype": "text/x-python",
   "name": "python",
   "nbconvert_exporter": "python",
   "pygments_lexer": "ipython2",
   "version": "2.7.6"
  }
 },
 "nbformat": 4,
 "nbformat_minor": 0
}