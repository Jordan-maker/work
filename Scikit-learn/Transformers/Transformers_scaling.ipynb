{
 "cells": [
  {
   "cell_type": "code",
   "execution_count": 1,
   "outputs": [],
   "source": [
    "import numpy as np\n",
    "import pandas as pd\n",
    "import matplotlib.pyplot as plt\n",
    "from sklearn import preprocessing\n",
    "from sklearn.preprocessing import MinMaxScaler, Normalizer, StandardScaler, RobustScaler"
   ],
   "metadata": {
    "collapsed": false,
    "pycharm": {
     "name": "#%%\n"
    }
   }
  },
  {
   "cell_type": "code",
   "execution_count": 2,
   "outputs": [
    {
     "data": {
      "text/plain": "    Time  Height\n0    0.0  103.05\n1    0.1  101.43\n2    0.2   99.00\n3    0.3   98.51\n4    0.4   97.56\n5    0.5   94.43\n6    0.6   97.47\n7    0.7   96.68\n8    0.8   98.32\n9    0.9   95.47\n10   1.0   95.01\n11   1.1   95.32\n12   1.2   94.02\n13   1.3   89.76\n14   1.4   90.11\n15   1.5   89.73\n16   1.6   90.61\n17   1.7   87.70\n18   1.8   86.19\n19   1.9   83.38\n20   2.0   78.43\n21   2.1   81.10\n22   2.2   76.40\n23   2.3   75.18\n24   2.4   68.24\n25   2.5   67.66\n26   2.6   66.57\n27   2.7   61.11\n28   2.8   61.03\n29   2.9   59.73\n30   3.0   54.19\n31   3.1   57.33\n32   3.2   50.73\n33   3.3   48.45\n34   3.4   39.98\n35   3.5   38.56\n36   3.6   38.01\n37   3.7   33.54\n38   3.8   29.84\n39   3.9   25.07\n40   4.0   19.88\n41   4.1   16.93\n42   4.2   15.19\n43   4.3    9.67\n44   4.4    3.46\n45   4.5    0.00",
      "text/html": "<div>\n<style scoped>\n    .dataframe tbody tr th:only-of-type {\n        vertical-align: middle;\n    }\n\n    .dataframe tbody tr th {\n        vertical-align: top;\n    }\n\n    .dataframe thead th {\n        text-align: right;\n    }\n</style>\n<table border=\"1\" class=\"dataframe\">\n  <thead>\n    <tr style=\"text-align: right;\">\n      <th></th>\n      <th>Time</th>\n      <th>Height</th>\n    </tr>\n  </thead>\n  <tbody>\n    <tr>\n      <th>0</th>\n      <td>0.0</td>\n      <td>103.05</td>\n    </tr>\n    <tr>\n      <th>1</th>\n      <td>0.1</td>\n      <td>101.43</td>\n    </tr>\n    <tr>\n      <th>2</th>\n      <td>0.2</td>\n      <td>99.00</td>\n    </tr>\n    <tr>\n      <th>3</th>\n      <td>0.3</td>\n      <td>98.51</td>\n    </tr>\n    <tr>\n      <th>4</th>\n      <td>0.4</td>\n      <td>97.56</td>\n    </tr>\n    <tr>\n      <th>5</th>\n      <td>0.5</td>\n      <td>94.43</td>\n    </tr>\n    <tr>\n      <th>6</th>\n      <td>0.6</td>\n      <td>97.47</td>\n    </tr>\n    <tr>\n      <th>7</th>\n      <td>0.7</td>\n      <td>96.68</td>\n    </tr>\n    <tr>\n      <th>8</th>\n      <td>0.8</td>\n      <td>98.32</td>\n    </tr>\n    <tr>\n      <th>9</th>\n      <td>0.9</td>\n      <td>95.47</td>\n    </tr>\n    <tr>\n      <th>10</th>\n      <td>1.0</td>\n      <td>95.01</td>\n    </tr>\n    <tr>\n      <th>11</th>\n      <td>1.1</td>\n      <td>95.32</td>\n    </tr>\n    <tr>\n      <th>12</th>\n      <td>1.2</td>\n      <td>94.02</td>\n    </tr>\n    <tr>\n      <th>13</th>\n      <td>1.3</td>\n      <td>89.76</td>\n    </tr>\n    <tr>\n      <th>14</th>\n      <td>1.4</td>\n      <td>90.11</td>\n    </tr>\n    <tr>\n      <th>15</th>\n      <td>1.5</td>\n      <td>89.73</td>\n    </tr>\n    <tr>\n      <th>16</th>\n      <td>1.6</td>\n      <td>90.61</td>\n    </tr>\n    <tr>\n      <th>17</th>\n      <td>1.7</td>\n      <td>87.70</td>\n    </tr>\n    <tr>\n      <th>18</th>\n      <td>1.8</td>\n      <td>86.19</td>\n    </tr>\n    <tr>\n      <th>19</th>\n      <td>1.9</td>\n      <td>83.38</td>\n    </tr>\n    <tr>\n      <th>20</th>\n      <td>2.0</td>\n      <td>78.43</td>\n    </tr>\n    <tr>\n      <th>21</th>\n      <td>2.1</td>\n      <td>81.10</td>\n    </tr>\n    <tr>\n      <th>22</th>\n      <td>2.2</td>\n      <td>76.40</td>\n    </tr>\n    <tr>\n      <th>23</th>\n      <td>2.3</td>\n      <td>75.18</td>\n    </tr>\n    <tr>\n      <th>24</th>\n      <td>2.4</td>\n      <td>68.24</td>\n    </tr>\n    <tr>\n      <th>25</th>\n      <td>2.5</td>\n      <td>67.66</td>\n    </tr>\n    <tr>\n      <th>26</th>\n      <td>2.6</td>\n      <td>66.57</td>\n    </tr>\n    <tr>\n      <th>27</th>\n      <td>2.7</td>\n      <td>61.11</td>\n    </tr>\n    <tr>\n      <th>28</th>\n      <td>2.8</td>\n      <td>61.03</td>\n    </tr>\n    <tr>\n      <th>29</th>\n      <td>2.9</td>\n      <td>59.73</td>\n    </tr>\n    <tr>\n      <th>30</th>\n      <td>3.0</td>\n      <td>54.19</td>\n    </tr>\n    <tr>\n      <th>31</th>\n      <td>3.1</td>\n      <td>57.33</td>\n    </tr>\n    <tr>\n      <th>32</th>\n      <td>3.2</td>\n      <td>50.73</td>\n    </tr>\n    <tr>\n      <th>33</th>\n      <td>3.3</td>\n      <td>48.45</td>\n    </tr>\n    <tr>\n      <th>34</th>\n      <td>3.4</td>\n      <td>39.98</td>\n    </tr>\n    <tr>\n      <th>35</th>\n      <td>3.5</td>\n      <td>38.56</td>\n    </tr>\n    <tr>\n      <th>36</th>\n      <td>3.6</td>\n      <td>38.01</td>\n    </tr>\n    <tr>\n      <th>37</th>\n      <td>3.7</td>\n      <td>33.54</td>\n    </tr>\n    <tr>\n      <th>38</th>\n      <td>3.8</td>\n      <td>29.84</td>\n    </tr>\n    <tr>\n      <th>39</th>\n      <td>3.9</td>\n      <td>25.07</td>\n    </tr>\n    <tr>\n      <th>40</th>\n      <td>4.0</td>\n      <td>19.88</td>\n    </tr>\n    <tr>\n      <th>41</th>\n      <td>4.1</td>\n      <td>16.93</td>\n    </tr>\n    <tr>\n      <th>42</th>\n      <td>4.2</td>\n      <td>15.19</td>\n    </tr>\n    <tr>\n      <th>43</th>\n      <td>4.3</td>\n      <td>9.67</td>\n    </tr>\n    <tr>\n      <th>44</th>\n      <td>4.4</td>\n      <td>3.46</td>\n    </tr>\n    <tr>\n      <th>45</th>\n      <td>4.5</td>\n      <td>0.00</td>\n    </tr>\n  </tbody>\n</table>\n</div>"
     },
     "execution_count": 2,
     "metadata": {},
     "output_type": "execute_result"
    }
   ],
   "source": [
    "# load Dataframe\n",
    "df = pd.read_csv('data.csv')\n",
    "df"
   ],
   "metadata": {
    "collapsed": false,
    "pycharm": {
     "name": "#%%\n"
    }
   }
  },
  {
   "cell_type": "markdown",
   "source": [
    "<h3> MinMaxScaler()</h3>\n",
    "This Transformer normalizes the values for each column independently, <br>\n",
    "such that the maximum value is set 1.0 and the minimum to 0.0"
   ],
   "metadata": {
    "collapsed": false,
    "pycharm": {
     "name": "#%% md\n"
    }
   }
  },
  {
   "cell_type": "code",
   "execution_count": 3,
   "outputs": [
    {
     "data": {
      "text/plain": "array([[0.        , 1.        ],\n       [0.02222222, 0.98427948],\n       [0.04444444, 0.96069869],\n       [0.06666667, 0.95594372],\n       [0.08888889, 0.94672489],\n       [0.11111111, 0.91635129],\n       [0.13333333, 0.94585153],\n       [0.15555556, 0.93818535],\n       [0.17777778, 0.95409995],\n       [0.2       , 0.92644347],\n       [0.22222222, 0.92197962],\n       [0.24444444, 0.92498787],\n       [0.26666667, 0.91237263],\n       [0.28888889, 0.87103348],\n       [0.31111111, 0.87442989],\n       [0.33333333, 0.87074236],\n       [0.35555556, 0.8792819 ],\n       [0.37777778, 0.85104318],\n       [0.4       , 0.8363901 ],\n       [0.42222222, 0.80912179],\n       [0.44444444, 0.76108685],\n       [0.46666667, 0.7869966 ],\n       [0.48888889, 0.74138768],\n       [0.51111111, 0.72954876],\n       [0.53333333, 0.66220281],\n       [0.55555556, 0.65657448],\n       [0.57777778, 0.64599709],\n       [0.6       , 0.5930131 ],\n       [0.62222222, 0.59223678],\n       [0.64444444, 0.57962154],\n       [0.66666667, 0.52586123],\n       [0.68888889, 0.55633188],\n       [0.71111111, 0.4922853 ],\n       [0.73333333, 0.47016012],\n       [0.75555556, 0.38796701],\n       [0.77777778, 0.37418729],\n       [0.8       , 0.36885007],\n       [0.82222222, 0.32547307],\n       [0.84444444, 0.28956817],\n       [0.86666667, 0.24327996],\n       [0.88888889, 0.19291606],\n       [0.91111111, 0.16428918],\n       [0.93333333, 0.14740417],\n       [0.95555556, 0.09383794],\n       [0.97777778, 0.03357593],\n       [1.        , 0.        ]])"
     },
     "execution_count": 3,
     "metadata": {},
     "output_type": "execute_result"
    }
   ],
   "source": [
    "df_MinMax = MinMaxScaler().fit_transform(df)\n",
    "df_MinMax"
   ],
   "metadata": {
    "collapsed": false,
    "pycharm": {
     "name": "#%%\n"
    }
   }
  },
  {
   "cell_type": "markdown",
   "source": [
    "<h3> Normalizer() </h3>\n",
    "This transformer divides each value in column/row by the norm of the column/row vector. <br>\n",
    "If used .T (transpose), then the column will be selected for vector's norm calculation."
   ],
   "metadata": {
    "collapsed": false,
    "pycharm": {
     "name": "#%% md\n"
    }
   }
  },
  {
   "cell_type": "code",
   "execution_count": 4,
   "outputs": [
    {
     "data": {
      "text/plain": "array([[0.        , 0.20769037],\n       [0.00564378, 0.20442536],\n       [0.01128755, 0.19952786],\n       [0.01693133, 0.1985403 ],\n       [0.0225751 , 0.19662564],\n       [0.02821888, 0.19031733],\n       [0.03386266, 0.19644425],\n       [0.03950643, 0.19485206],\n       [0.04515021, 0.19815737],\n       [0.05079398, 0.19241338],\n       [0.05643776, 0.19148628],\n       [0.06208153, 0.19211107],\n       [0.06772531, 0.18949101],\n       [0.07336909, 0.18090526],\n       [0.07901286, 0.18161066],\n       [0.08465664, 0.1808448 ],\n       [0.09030041, 0.18261838],\n       [0.09594419, 0.17675347],\n       [0.10158797, 0.17371017],\n       [0.10723174, 0.1680468 ],\n       [0.11287552, 0.15807041],\n       [0.11851929, 0.16345161],\n       [0.12416307, 0.15397908],\n       [0.12980684, 0.15152025],\n       [0.13545062, 0.13753314],\n       [0.1410944 , 0.13636419],\n       [0.14673817, 0.13416737],\n       [0.15238195, 0.12316311],\n       [0.15802572, 0.12300187],\n       [0.1636695 , 0.12038181],\n       [0.16931328, 0.10921631],\n       [0.17495705, 0.11554477],\n       [0.18060083, 0.10224291],\n       [0.1862446 , 0.09764773],\n       [0.19188838, 0.08057701],\n       [0.19753215, 0.07771509],\n       [0.20317593, 0.07660661],\n       [0.20881971, 0.06759762],\n       [0.21446348, 0.06014052],\n       [0.22010726, 0.0505269 ],\n       [0.22575103, 0.04006681],\n       [0.23139481, 0.03412128],\n       [0.23703859, 0.03061443],\n       [0.24268236, 0.01948924],\n       [0.24832614, 0.0069734 ],\n       [0.25396991, 0.        ]])"
     },
     "execution_count": 4,
     "metadata": {},
     "output_type": "execute_result"
    }
   ],
   "source": [
    "df_Normalizer = Normalizer().fit_transform(df.T)\n",
    "df_Normalizer.T"
   ],
   "metadata": {
    "collapsed": false,
    "pycharm": {
     "name": "#%%\n"
    }
   }
  },
  {
   "cell_type": "markdown",
   "source": [
    "<h3> StandardScaler() </h3>\n",
    "This transformer set the mean and std_dev of each column to 0 and 1, respectively.\n",
    "scaled_feature = (feature - mean)/std\n"
   ],
   "metadata": {
    "collapsed": false,
    "pycharm": {
     "name": "#%% md\n"
    }
   }
  },
  {
   "cell_type": "code",
   "execution_count": 5,
   "outputs": [
    {
     "name": "stdout",
     "output_type": "stream",
     "text": [
      "-1.9308226515220113e-17 1.0110500592068734\n",
      "1.8342815189459108e-16 1.0110500592068734\n"
     ]
    }
   ],
   "source": [
    "array_standarized = StandardScaler().fit_transform(df)\n",
    "df_standarized = pd.DataFrame(array_standarized, columns=df.columns)\n",
    "\n",
    "print(df_standarized.Time.mean(),   df_standarized.Time.std())\n",
    "print(df_standarized.Height.mean(), df_standarized.Height.std())\n",
    "\n",
    "# Of course, those values (mean and std) are approximations."
   ],
   "metadata": {
    "collapsed": false,
    "pycharm": {
     "name": "#%%\n"
    }
   }
  },
  {
   "cell_type": "markdown",
   "source": [
    "<h3> RobustScaler() </h3>\n",
    "This transformer perform for each feature/column independently:\n",
    "scaled_feature = (feature - median)/IQR\n",
    "Where IQR is the Interquartile Range (25%, 75%)."
   ],
   "metadata": {
    "collapsed": false,
    "pycharm": {
     "name": "#%% md\n"
    }
   }
  },
  {
   "cell_type": "code",
   "execution_count": 6,
   "outputs": [
    {
     "data": {
      "text/plain": "        Time    Height\n0  -1.000000  0.521922\n1  -0.955556  0.490906\n2  -0.911111  0.444381\n3  -0.866667  0.434999\n4  -0.822222  0.416810\n5  -0.777778  0.356883\n6  -0.733333  0.415087\n7  -0.688889  0.399962\n8  -0.644444  0.431361\n9  -0.600000  0.376795\n10 -0.555556  0.367988\n11 -0.511111  0.373923\n12 -0.466667  0.349033\n13 -0.422222  0.267471\n14 -0.377778  0.274172\n15 -0.333333  0.266896\n16 -0.288889  0.283745\n17 -0.244444  0.228030\n18 -0.200000  0.199119\n19 -0.155556  0.145319\n20 -0.111111  0.050546\n21 -0.066667  0.101666\n22 -0.022222  0.011679\n23  0.022222 -0.011679\n24  0.066667 -0.144553\n25  0.111111 -0.155658\n26  0.155556 -0.176527\n27  0.200000 -0.281065\n28  0.244444 -0.282596\n29  0.288889 -0.307486\n30  0.333333 -0.413555\n31  0.377778 -0.353437\n32  0.422222 -0.479801\n33  0.466667 -0.523454\n34  0.511111 -0.685621\n35  0.555556 -0.712809\n36  0.600000 -0.723339\n37  0.644444 -0.808922\n38  0.688889 -0.879763\n39  0.733333 -0.971089\n40  0.777778 -1.070458\n41  0.822222 -1.126939\n42  0.866667 -1.160253\n43  0.911111 -1.265939\n44  0.955556 -1.384836\n45  1.000000 -1.451082",
      "text/html": "<div>\n<style scoped>\n    .dataframe tbody tr th:only-of-type {\n        vertical-align: middle;\n    }\n\n    .dataframe tbody tr th {\n        vertical-align: top;\n    }\n\n    .dataframe thead th {\n        text-align: right;\n    }\n</style>\n<table border=\"1\" class=\"dataframe\">\n  <thead>\n    <tr style=\"text-align: right;\">\n      <th></th>\n      <th>Time</th>\n      <th>Height</th>\n    </tr>\n  </thead>\n  <tbody>\n    <tr>\n      <th>0</th>\n      <td>-1.000000</td>\n      <td>0.521922</td>\n    </tr>\n    <tr>\n      <th>1</th>\n      <td>-0.955556</td>\n      <td>0.490906</td>\n    </tr>\n    <tr>\n      <th>2</th>\n      <td>-0.911111</td>\n      <td>0.444381</td>\n    </tr>\n    <tr>\n      <th>3</th>\n      <td>-0.866667</td>\n      <td>0.434999</td>\n    </tr>\n    <tr>\n      <th>4</th>\n      <td>-0.822222</td>\n      <td>0.416810</td>\n    </tr>\n    <tr>\n      <th>5</th>\n      <td>-0.777778</td>\n      <td>0.356883</td>\n    </tr>\n    <tr>\n      <th>6</th>\n      <td>-0.733333</td>\n      <td>0.415087</td>\n    </tr>\n    <tr>\n      <th>7</th>\n      <td>-0.688889</td>\n      <td>0.399962</td>\n    </tr>\n    <tr>\n      <th>8</th>\n      <td>-0.644444</td>\n      <td>0.431361</td>\n    </tr>\n    <tr>\n      <th>9</th>\n      <td>-0.600000</td>\n      <td>0.376795</td>\n    </tr>\n    <tr>\n      <th>10</th>\n      <td>-0.555556</td>\n      <td>0.367988</td>\n    </tr>\n    <tr>\n      <th>11</th>\n      <td>-0.511111</td>\n      <td>0.373923</td>\n    </tr>\n    <tr>\n      <th>12</th>\n      <td>-0.466667</td>\n      <td>0.349033</td>\n    </tr>\n    <tr>\n      <th>13</th>\n      <td>-0.422222</td>\n      <td>0.267471</td>\n    </tr>\n    <tr>\n      <th>14</th>\n      <td>-0.377778</td>\n      <td>0.274172</td>\n    </tr>\n    <tr>\n      <th>15</th>\n      <td>-0.333333</td>\n      <td>0.266896</td>\n    </tr>\n    <tr>\n      <th>16</th>\n      <td>-0.288889</td>\n      <td>0.283745</td>\n    </tr>\n    <tr>\n      <th>17</th>\n      <td>-0.244444</td>\n      <td>0.228030</td>\n    </tr>\n    <tr>\n      <th>18</th>\n      <td>-0.200000</td>\n      <td>0.199119</td>\n    </tr>\n    <tr>\n      <th>19</th>\n      <td>-0.155556</td>\n      <td>0.145319</td>\n    </tr>\n    <tr>\n      <th>20</th>\n      <td>-0.111111</td>\n      <td>0.050546</td>\n    </tr>\n    <tr>\n      <th>21</th>\n      <td>-0.066667</td>\n      <td>0.101666</td>\n    </tr>\n    <tr>\n      <th>22</th>\n      <td>-0.022222</td>\n      <td>0.011679</td>\n    </tr>\n    <tr>\n      <th>23</th>\n      <td>0.022222</td>\n      <td>-0.011679</td>\n    </tr>\n    <tr>\n      <th>24</th>\n      <td>0.066667</td>\n      <td>-0.144553</td>\n    </tr>\n    <tr>\n      <th>25</th>\n      <td>0.111111</td>\n      <td>-0.155658</td>\n    </tr>\n    <tr>\n      <th>26</th>\n      <td>0.155556</td>\n      <td>-0.176527</td>\n    </tr>\n    <tr>\n      <th>27</th>\n      <td>0.200000</td>\n      <td>-0.281065</td>\n    </tr>\n    <tr>\n      <th>28</th>\n      <td>0.244444</td>\n      <td>-0.282596</td>\n    </tr>\n    <tr>\n      <th>29</th>\n      <td>0.288889</td>\n      <td>-0.307486</td>\n    </tr>\n    <tr>\n      <th>30</th>\n      <td>0.333333</td>\n      <td>-0.413555</td>\n    </tr>\n    <tr>\n      <th>31</th>\n      <td>0.377778</td>\n      <td>-0.353437</td>\n    </tr>\n    <tr>\n      <th>32</th>\n      <td>0.422222</td>\n      <td>-0.479801</td>\n    </tr>\n    <tr>\n      <th>33</th>\n      <td>0.466667</td>\n      <td>-0.523454</td>\n    </tr>\n    <tr>\n      <th>34</th>\n      <td>0.511111</td>\n      <td>-0.685621</td>\n    </tr>\n    <tr>\n      <th>35</th>\n      <td>0.555556</td>\n      <td>-0.712809</td>\n    </tr>\n    <tr>\n      <th>36</th>\n      <td>0.600000</td>\n      <td>-0.723339</td>\n    </tr>\n    <tr>\n      <th>37</th>\n      <td>0.644444</td>\n      <td>-0.808922</td>\n    </tr>\n    <tr>\n      <th>38</th>\n      <td>0.688889</td>\n      <td>-0.879763</td>\n    </tr>\n    <tr>\n      <th>39</th>\n      <td>0.733333</td>\n      <td>-0.971089</td>\n    </tr>\n    <tr>\n      <th>40</th>\n      <td>0.777778</td>\n      <td>-1.070458</td>\n    </tr>\n    <tr>\n      <th>41</th>\n      <td>0.822222</td>\n      <td>-1.126939</td>\n    </tr>\n    <tr>\n      <th>42</th>\n      <td>0.866667</td>\n      <td>-1.160253</td>\n    </tr>\n    <tr>\n      <th>43</th>\n      <td>0.911111</td>\n      <td>-1.265939</td>\n    </tr>\n    <tr>\n      <th>44</th>\n      <td>0.955556</td>\n      <td>-1.384836</td>\n    </tr>\n    <tr>\n      <th>45</th>\n      <td>1.000000</td>\n      <td>-1.451082</td>\n    </tr>\n  </tbody>\n</table>\n</div>"
     },
     "execution_count": 6,
     "metadata": {},
     "output_type": "execute_result"
    }
   ],
   "source": [
    "array_Robusted = RobustScaler().fit_transform(df)\n",
    "df_Robusted = pd.DataFrame(array_Robusted, columns=df.columns)\n",
    "df_Robusted"
   ],
   "metadata": {
    "collapsed": false,
    "pycharm": {
     "name": "#%%\n"
    }
   }
  },
  {
   "cell_type": "code",
   "execution_count": 7,
   "outputs": [
    {
     "data": {
      "text/plain": "        Time    Height  manual_scaled_Height\n0  -1.000000  0.521922              0.521922\n1  -0.955556  0.490906              0.490906\n2  -0.911111  0.444381              0.444381\n3  -0.866667  0.434999              0.434999\n4  -0.822222  0.416810              0.416810\n5  -0.777778  0.356883              0.356883\n6  -0.733333  0.415087              0.415087\n7  -0.688889  0.399962              0.399962\n8  -0.644444  0.431361              0.431361\n9  -0.600000  0.376795              0.376795\n10 -0.555556  0.367988              0.367988\n11 -0.511111  0.373923              0.373923\n12 -0.466667  0.349033              0.349033\n13 -0.422222  0.267471              0.267471\n14 -0.377778  0.274172              0.274172\n15 -0.333333  0.266896              0.266896\n16 -0.288889  0.283745              0.283745\n17 -0.244444  0.228030              0.228030\n18 -0.200000  0.199119              0.199119\n19 -0.155556  0.145319              0.145319\n20 -0.111111  0.050546              0.050546\n21 -0.066667  0.101666              0.101666\n22 -0.022222  0.011679              0.011679\n23  0.022222 -0.011679             -0.011679\n24  0.066667 -0.144553             -0.144553\n25  0.111111 -0.155658             -0.155658\n26  0.155556 -0.176527             -0.176527\n27  0.200000 -0.281065             -0.281065\n28  0.244444 -0.282596             -0.282596\n29  0.288889 -0.307486             -0.307486\n30  0.333333 -0.413555             -0.413555\n31  0.377778 -0.353437             -0.353437\n32  0.422222 -0.479801             -0.479801\n33  0.466667 -0.523454             -0.523454\n34  0.511111 -0.685621             -0.685621\n35  0.555556 -0.712809             -0.712809\n36  0.600000 -0.723339             -0.723339\n37  0.644444 -0.808922             -0.808922\n38  0.688889 -0.879763             -0.879763\n39  0.733333 -0.971089             -0.971089\n40  0.777778 -1.070458             -1.070458\n41  0.822222 -1.126939             -1.126939\n42  0.866667 -1.160253             -1.160253\n43  0.911111 -1.265939             -1.265939\n44  0.955556 -1.384836             -1.384836\n45  1.000000 -1.451082             -1.451082",
      "text/html": "<div>\n<style scoped>\n    .dataframe tbody tr th:only-of-type {\n        vertical-align: middle;\n    }\n\n    .dataframe tbody tr th {\n        vertical-align: top;\n    }\n\n    .dataframe thead th {\n        text-align: right;\n    }\n</style>\n<table border=\"1\" class=\"dataframe\">\n  <thead>\n    <tr style=\"text-align: right;\">\n      <th></th>\n      <th>Time</th>\n      <th>Height</th>\n      <th>manual_scaled_Height</th>\n    </tr>\n  </thead>\n  <tbody>\n    <tr>\n      <th>0</th>\n      <td>-1.000000</td>\n      <td>0.521922</td>\n      <td>0.521922</td>\n    </tr>\n    <tr>\n      <th>1</th>\n      <td>-0.955556</td>\n      <td>0.490906</td>\n      <td>0.490906</td>\n    </tr>\n    <tr>\n      <th>2</th>\n      <td>-0.911111</td>\n      <td>0.444381</td>\n      <td>0.444381</td>\n    </tr>\n    <tr>\n      <th>3</th>\n      <td>-0.866667</td>\n      <td>0.434999</td>\n      <td>0.434999</td>\n    </tr>\n    <tr>\n      <th>4</th>\n      <td>-0.822222</td>\n      <td>0.416810</td>\n      <td>0.416810</td>\n    </tr>\n    <tr>\n      <th>5</th>\n      <td>-0.777778</td>\n      <td>0.356883</td>\n      <td>0.356883</td>\n    </tr>\n    <tr>\n      <th>6</th>\n      <td>-0.733333</td>\n      <td>0.415087</td>\n      <td>0.415087</td>\n    </tr>\n    <tr>\n      <th>7</th>\n      <td>-0.688889</td>\n      <td>0.399962</td>\n      <td>0.399962</td>\n    </tr>\n    <tr>\n      <th>8</th>\n      <td>-0.644444</td>\n      <td>0.431361</td>\n      <td>0.431361</td>\n    </tr>\n    <tr>\n      <th>9</th>\n      <td>-0.600000</td>\n      <td>0.376795</td>\n      <td>0.376795</td>\n    </tr>\n    <tr>\n      <th>10</th>\n      <td>-0.555556</td>\n      <td>0.367988</td>\n      <td>0.367988</td>\n    </tr>\n    <tr>\n      <th>11</th>\n      <td>-0.511111</td>\n      <td>0.373923</td>\n      <td>0.373923</td>\n    </tr>\n    <tr>\n      <th>12</th>\n      <td>-0.466667</td>\n      <td>0.349033</td>\n      <td>0.349033</td>\n    </tr>\n    <tr>\n      <th>13</th>\n      <td>-0.422222</td>\n      <td>0.267471</td>\n      <td>0.267471</td>\n    </tr>\n    <tr>\n      <th>14</th>\n      <td>-0.377778</td>\n      <td>0.274172</td>\n      <td>0.274172</td>\n    </tr>\n    <tr>\n      <th>15</th>\n      <td>-0.333333</td>\n      <td>0.266896</td>\n      <td>0.266896</td>\n    </tr>\n    <tr>\n      <th>16</th>\n      <td>-0.288889</td>\n      <td>0.283745</td>\n      <td>0.283745</td>\n    </tr>\n    <tr>\n      <th>17</th>\n      <td>-0.244444</td>\n      <td>0.228030</td>\n      <td>0.228030</td>\n    </tr>\n    <tr>\n      <th>18</th>\n      <td>-0.200000</td>\n      <td>0.199119</td>\n      <td>0.199119</td>\n    </tr>\n    <tr>\n      <th>19</th>\n      <td>-0.155556</td>\n      <td>0.145319</td>\n      <td>0.145319</td>\n    </tr>\n    <tr>\n      <th>20</th>\n      <td>-0.111111</td>\n      <td>0.050546</td>\n      <td>0.050546</td>\n    </tr>\n    <tr>\n      <th>21</th>\n      <td>-0.066667</td>\n      <td>0.101666</td>\n      <td>0.101666</td>\n    </tr>\n    <tr>\n      <th>22</th>\n      <td>-0.022222</td>\n      <td>0.011679</td>\n      <td>0.011679</td>\n    </tr>\n    <tr>\n      <th>23</th>\n      <td>0.022222</td>\n      <td>-0.011679</td>\n      <td>-0.011679</td>\n    </tr>\n    <tr>\n      <th>24</th>\n      <td>0.066667</td>\n      <td>-0.144553</td>\n      <td>-0.144553</td>\n    </tr>\n    <tr>\n      <th>25</th>\n      <td>0.111111</td>\n      <td>-0.155658</td>\n      <td>-0.155658</td>\n    </tr>\n    <tr>\n      <th>26</th>\n      <td>0.155556</td>\n      <td>-0.176527</td>\n      <td>-0.176527</td>\n    </tr>\n    <tr>\n      <th>27</th>\n      <td>0.200000</td>\n      <td>-0.281065</td>\n      <td>-0.281065</td>\n    </tr>\n    <tr>\n      <th>28</th>\n      <td>0.244444</td>\n      <td>-0.282596</td>\n      <td>-0.282596</td>\n    </tr>\n    <tr>\n      <th>29</th>\n      <td>0.288889</td>\n      <td>-0.307486</td>\n      <td>-0.307486</td>\n    </tr>\n    <tr>\n      <th>30</th>\n      <td>0.333333</td>\n      <td>-0.413555</td>\n      <td>-0.413555</td>\n    </tr>\n    <tr>\n      <th>31</th>\n      <td>0.377778</td>\n      <td>-0.353437</td>\n      <td>-0.353437</td>\n    </tr>\n    <tr>\n      <th>32</th>\n      <td>0.422222</td>\n      <td>-0.479801</td>\n      <td>-0.479801</td>\n    </tr>\n    <tr>\n      <th>33</th>\n      <td>0.466667</td>\n      <td>-0.523454</td>\n      <td>-0.523454</td>\n    </tr>\n    <tr>\n      <th>34</th>\n      <td>0.511111</td>\n      <td>-0.685621</td>\n      <td>-0.685621</td>\n    </tr>\n    <tr>\n      <th>35</th>\n      <td>0.555556</td>\n      <td>-0.712809</td>\n      <td>-0.712809</td>\n    </tr>\n    <tr>\n      <th>36</th>\n      <td>0.600000</td>\n      <td>-0.723339</td>\n      <td>-0.723339</td>\n    </tr>\n    <tr>\n      <th>37</th>\n      <td>0.644444</td>\n      <td>-0.808922</td>\n      <td>-0.808922</td>\n    </tr>\n    <tr>\n      <th>38</th>\n      <td>0.688889</td>\n      <td>-0.879763</td>\n      <td>-0.879763</td>\n    </tr>\n    <tr>\n      <th>39</th>\n      <td>0.733333</td>\n      <td>-0.971089</td>\n      <td>-0.971089</td>\n    </tr>\n    <tr>\n      <th>40</th>\n      <td>0.777778</td>\n      <td>-1.070458</td>\n      <td>-1.070458</td>\n    </tr>\n    <tr>\n      <th>41</th>\n      <td>0.822222</td>\n      <td>-1.126939</td>\n      <td>-1.126939</td>\n    </tr>\n    <tr>\n      <th>42</th>\n      <td>0.866667</td>\n      <td>-1.160253</td>\n      <td>-1.160253</td>\n    </tr>\n    <tr>\n      <th>43</th>\n      <td>0.911111</td>\n      <td>-1.265939</td>\n      <td>-1.265939</td>\n    </tr>\n    <tr>\n      <th>44</th>\n      <td>0.955556</td>\n      <td>-1.384836</td>\n      <td>-1.384836</td>\n    </tr>\n    <tr>\n      <th>45</th>\n      <td>1.000000</td>\n      <td>-1.451082</td>\n      <td>-1.451082</td>\n    </tr>\n  </tbody>\n</table>\n</div>"
     },
     "execution_count": 7,
     "metadata": {},
     "output_type": "execute_result"
    }
   ],
   "source": [
    "# Scaling manually the Height column\n",
    "quantile = df.Height.quantile(q=[0.25, 0.75])\n",
    "IQR = quantile[0.75] - quantile[0.25]\n",
    "median = df.Height.median()\n",
    "df_Robusted['manual_scaled_Height'] = (df.Height - median)/IQR\n",
    "df_Robusted"
   ],
   "metadata": {
    "collapsed": false,
    "pycharm": {
     "name": "#%%\n"
    }
   }
  },
  {
   "cell_type": "markdown",
   "source": [
    "The main adventage of RobustScaler() is that the scaling factor does not depends of the outliers, unlike the previous ones."
   ],
   "metadata": {
    "collapsed": false,
    "pycharm": {
     "name": "#%% md\n"
    }
   }
  }
 ],
 "metadata": {
  "kernelspec": {
   "display_name": "Python 3",
   "language": "python",
   "name": "python3"
  },
  "language_info": {
   "codemirror_mode": {
    "name": "ipython",
    "version": 2
   },
   "file_extension": ".py",
   "mimetype": "text/x-python",
   "name": "python",
   "nbconvert_exporter": "python",
   "pygments_lexer": "ipython2",
   "version": "2.7.6"
  }
 },
 "nbformat": 4,
 "nbformat_minor": 0
}