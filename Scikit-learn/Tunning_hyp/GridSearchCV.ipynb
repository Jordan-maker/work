{
 "cells": [
  {
   "cell_type": "code",
   "execution_count": 11,
   "metadata": {
    "collapsed": true,
    "pycharm": {
     "name": "#%%\n"
    }
   },
   "outputs": [],
   "source": [
    "import pandas as pd\n",
    "import numpy as np\n",
    "import matplotlib.pyplot as plt\n",
    "from sklearn.metrics import accuracy_score\n",
    "from sklearn.model_selection import cross_val_score\n",
    "from sklearn.model_selection import GridSearchCV\n",
    "from sklearn.preprocessing import StandardScaler\n",
    "from sklearn.model_selection import train_test_split\n",
    "from sklearn.preprocessing import LabelEncoder\n",
    "from sklearn.decomposition import PCA\n",
    "from sklearn.svm import SVC\n",
    "from sklearn.pipeline import make_pipeline"
   ]
  },
  {
   "cell_type": "code",
   "execution_count": 12,
   "outputs": [
    {
     "data": {
      "text/plain": "           id diagnosis  mean_radius  mean_texture  mean_perimeter  mean_area  \\\n0      842302         M        17.99         10.38          122.80     1001.0   \n1      842517         M        20.57         17.77          132.90     1326.0   \n2    84300903         M        19.69         21.25          130.00     1203.0   \n3    84348301         M        11.42         20.38           77.58      386.1   \n4    84358402         M        20.29         14.34          135.10     1297.0   \n..        ...       ...          ...           ...             ...        ...   \n564    926424         M        21.56         22.39          142.00     1479.0   \n565    926682         M        20.13         28.25          131.20     1261.0   \n566    926954         M        16.60         28.08          108.30      858.1   \n567    927241         M        20.60         29.33          140.10     1265.0   \n568     92751         B         7.76         24.54           47.92      181.0   \n\n     mean_smoothness  mean_compactness  mean_concavity  mean_concave_points  \\\n0            0.11840           0.27760         0.30010              0.14710   \n1            0.08474           0.07864         0.08690              0.07017   \n2            0.10960           0.15990         0.19740              0.12790   \n3            0.14250           0.28390         0.24140              0.10520   \n4            0.10030           0.13280         0.19800              0.10430   \n..               ...               ...             ...                  ...   \n564          0.11100           0.11590         0.24390              0.13890   \n565          0.09780           0.10340         0.14400              0.09791   \n566          0.08455           0.10230         0.09251              0.05302   \n567          0.11780           0.27700         0.35140              0.15200   \n568          0.05263           0.04362         0.00000              0.00000   \n\n     ...  worst_radius  worst_texture  worst_perimeter  worst_area  \\\n0    ...        25.380          17.33           184.60      2019.0   \n1    ...        24.990          23.41           158.80      1956.0   \n2    ...        23.570          25.53           152.50      1709.0   \n3    ...        14.910          26.50            98.87       567.7   \n4    ...        22.540          16.67           152.20      1575.0   \n..   ...           ...            ...              ...         ...   \n564  ...        25.450          26.40           166.10      2027.0   \n565  ...        23.690          38.25           155.00      1731.0   \n566  ...        18.980          34.12           126.70      1124.0   \n567  ...        25.740          39.42           184.60      1821.0   \n568  ...         9.456          30.37            59.16       268.6   \n\n     worst_smoothness  worst_compactness  worst_concavity  \\\n0             0.16220            0.66560           0.7119   \n1             0.12380            0.18660           0.2416   \n2             0.14440            0.42450           0.4504   \n3             0.20980            0.86630           0.6869   \n4             0.13740            0.20500           0.4000   \n..                ...                ...              ...   \n564           0.14100            0.21130           0.4107   \n565           0.11660            0.19220           0.3215   \n566           0.11390            0.30940           0.3403   \n567           0.16500            0.86810           0.9387   \n568           0.08996            0.06444           0.0000   \n\n     worst_concave_points  worst_symmetry  worst_fractal_dimension  \n0                  0.2654          0.4601                  0.11890  \n1                  0.1860          0.2750                  0.08902  \n2                  0.2430          0.3613                  0.08758  \n3                  0.2575          0.6638                  0.17300  \n4                  0.1625          0.2364                  0.07678  \n..                    ...             ...                      ...  \n564                0.2216          0.2060                  0.07115  \n565                0.1628          0.2572                  0.06637  \n566                0.1418          0.2218                  0.07820  \n567                0.2650          0.4087                  0.12400  \n568                0.0000          0.2871                  0.07039  \n\n[569 rows x 32 columns]",
      "text/html": "<div>\n<style scoped>\n    .dataframe tbody tr th:only-of-type {\n        vertical-align: middle;\n    }\n\n    .dataframe tbody tr th {\n        vertical-align: top;\n    }\n\n    .dataframe thead th {\n        text-align: right;\n    }\n</style>\n<table border=\"1\" class=\"dataframe\">\n  <thead>\n    <tr style=\"text-align: right;\">\n      <th></th>\n      <th>id</th>\n      <th>diagnosis</th>\n      <th>mean_radius</th>\n      <th>mean_texture</th>\n      <th>mean_perimeter</th>\n      <th>mean_area</th>\n      <th>mean_smoothness</th>\n      <th>mean_compactness</th>\n      <th>mean_concavity</th>\n      <th>mean_concave_points</th>\n      <th>...</th>\n      <th>worst_radius</th>\n      <th>worst_texture</th>\n      <th>worst_perimeter</th>\n      <th>worst_area</th>\n      <th>worst_smoothness</th>\n      <th>worst_compactness</th>\n      <th>worst_concavity</th>\n      <th>worst_concave_points</th>\n      <th>worst_symmetry</th>\n      <th>worst_fractal_dimension</th>\n    </tr>\n  </thead>\n  <tbody>\n    <tr>\n      <th>0</th>\n      <td>842302</td>\n      <td>M</td>\n      <td>17.99</td>\n      <td>10.38</td>\n      <td>122.80</td>\n      <td>1001.0</td>\n      <td>0.11840</td>\n      <td>0.27760</td>\n      <td>0.30010</td>\n      <td>0.14710</td>\n      <td>...</td>\n      <td>25.380</td>\n      <td>17.33</td>\n      <td>184.60</td>\n      <td>2019.0</td>\n      <td>0.16220</td>\n      <td>0.66560</td>\n      <td>0.7119</td>\n      <td>0.2654</td>\n      <td>0.4601</td>\n      <td>0.11890</td>\n    </tr>\n    <tr>\n      <th>1</th>\n      <td>842517</td>\n      <td>M</td>\n      <td>20.57</td>\n      <td>17.77</td>\n      <td>132.90</td>\n      <td>1326.0</td>\n      <td>0.08474</td>\n      <td>0.07864</td>\n      <td>0.08690</td>\n      <td>0.07017</td>\n      <td>...</td>\n      <td>24.990</td>\n      <td>23.41</td>\n      <td>158.80</td>\n      <td>1956.0</td>\n      <td>0.12380</td>\n      <td>0.18660</td>\n      <td>0.2416</td>\n      <td>0.1860</td>\n      <td>0.2750</td>\n      <td>0.08902</td>\n    </tr>\n    <tr>\n      <th>2</th>\n      <td>84300903</td>\n      <td>M</td>\n      <td>19.69</td>\n      <td>21.25</td>\n      <td>130.00</td>\n      <td>1203.0</td>\n      <td>0.10960</td>\n      <td>0.15990</td>\n      <td>0.19740</td>\n      <td>0.12790</td>\n      <td>...</td>\n      <td>23.570</td>\n      <td>25.53</td>\n      <td>152.50</td>\n      <td>1709.0</td>\n      <td>0.14440</td>\n      <td>0.42450</td>\n      <td>0.4504</td>\n      <td>0.2430</td>\n      <td>0.3613</td>\n      <td>0.08758</td>\n    </tr>\n    <tr>\n      <th>3</th>\n      <td>84348301</td>\n      <td>M</td>\n      <td>11.42</td>\n      <td>20.38</td>\n      <td>77.58</td>\n      <td>386.1</td>\n      <td>0.14250</td>\n      <td>0.28390</td>\n      <td>0.24140</td>\n      <td>0.10520</td>\n      <td>...</td>\n      <td>14.910</td>\n      <td>26.50</td>\n      <td>98.87</td>\n      <td>567.7</td>\n      <td>0.20980</td>\n      <td>0.86630</td>\n      <td>0.6869</td>\n      <td>0.2575</td>\n      <td>0.6638</td>\n      <td>0.17300</td>\n    </tr>\n    <tr>\n      <th>4</th>\n      <td>84358402</td>\n      <td>M</td>\n      <td>20.29</td>\n      <td>14.34</td>\n      <td>135.10</td>\n      <td>1297.0</td>\n      <td>0.10030</td>\n      <td>0.13280</td>\n      <td>0.19800</td>\n      <td>0.10430</td>\n      <td>...</td>\n      <td>22.540</td>\n      <td>16.67</td>\n      <td>152.20</td>\n      <td>1575.0</td>\n      <td>0.13740</td>\n      <td>0.20500</td>\n      <td>0.4000</td>\n      <td>0.1625</td>\n      <td>0.2364</td>\n      <td>0.07678</td>\n    </tr>\n    <tr>\n      <th>...</th>\n      <td>...</td>\n      <td>...</td>\n      <td>...</td>\n      <td>...</td>\n      <td>...</td>\n      <td>...</td>\n      <td>...</td>\n      <td>...</td>\n      <td>...</td>\n      <td>...</td>\n      <td>...</td>\n      <td>...</td>\n      <td>...</td>\n      <td>...</td>\n      <td>...</td>\n      <td>...</td>\n      <td>...</td>\n      <td>...</td>\n      <td>...</td>\n      <td>...</td>\n      <td>...</td>\n    </tr>\n    <tr>\n      <th>564</th>\n      <td>926424</td>\n      <td>M</td>\n      <td>21.56</td>\n      <td>22.39</td>\n      <td>142.00</td>\n      <td>1479.0</td>\n      <td>0.11100</td>\n      <td>0.11590</td>\n      <td>0.24390</td>\n      <td>0.13890</td>\n      <td>...</td>\n      <td>25.450</td>\n      <td>26.40</td>\n      <td>166.10</td>\n      <td>2027.0</td>\n      <td>0.14100</td>\n      <td>0.21130</td>\n      <td>0.4107</td>\n      <td>0.2216</td>\n      <td>0.2060</td>\n      <td>0.07115</td>\n    </tr>\n    <tr>\n      <th>565</th>\n      <td>926682</td>\n      <td>M</td>\n      <td>20.13</td>\n      <td>28.25</td>\n      <td>131.20</td>\n      <td>1261.0</td>\n      <td>0.09780</td>\n      <td>0.10340</td>\n      <td>0.14400</td>\n      <td>0.09791</td>\n      <td>...</td>\n      <td>23.690</td>\n      <td>38.25</td>\n      <td>155.00</td>\n      <td>1731.0</td>\n      <td>0.11660</td>\n      <td>0.19220</td>\n      <td>0.3215</td>\n      <td>0.1628</td>\n      <td>0.2572</td>\n      <td>0.06637</td>\n    </tr>\n    <tr>\n      <th>566</th>\n      <td>926954</td>\n      <td>M</td>\n      <td>16.60</td>\n      <td>28.08</td>\n      <td>108.30</td>\n      <td>858.1</td>\n      <td>0.08455</td>\n      <td>0.10230</td>\n      <td>0.09251</td>\n      <td>0.05302</td>\n      <td>...</td>\n      <td>18.980</td>\n      <td>34.12</td>\n      <td>126.70</td>\n      <td>1124.0</td>\n      <td>0.11390</td>\n      <td>0.30940</td>\n      <td>0.3403</td>\n      <td>0.1418</td>\n      <td>0.2218</td>\n      <td>0.07820</td>\n    </tr>\n    <tr>\n      <th>567</th>\n      <td>927241</td>\n      <td>M</td>\n      <td>20.60</td>\n      <td>29.33</td>\n      <td>140.10</td>\n      <td>1265.0</td>\n      <td>0.11780</td>\n      <td>0.27700</td>\n      <td>0.35140</td>\n      <td>0.15200</td>\n      <td>...</td>\n      <td>25.740</td>\n      <td>39.42</td>\n      <td>184.60</td>\n      <td>1821.0</td>\n      <td>0.16500</td>\n      <td>0.86810</td>\n      <td>0.9387</td>\n      <td>0.2650</td>\n      <td>0.4087</td>\n      <td>0.12400</td>\n    </tr>\n    <tr>\n      <th>568</th>\n      <td>92751</td>\n      <td>B</td>\n      <td>7.76</td>\n      <td>24.54</td>\n      <td>47.92</td>\n      <td>181.0</td>\n      <td>0.05263</td>\n      <td>0.04362</td>\n      <td>0.00000</td>\n      <td>0.00000</td>\n      <td>...</td>\n      <td>9.456</td>\n      <td>30.37</td>\n      <td>59.16</td>\n      <td>268.6</td>\n      <td>0.08996</td>\n      <td>0.06444</td>\n      <td>0.0000</td>\n      <td>0.0000</td>\n      <td>0.2871</td>\n      <td>0.07039</td>\n    </tr>\n  </tbody>\n</table>\n<p>569 rows × 32 columns</p>\n</div>"
     },
     "execution_count": 12,
     "metadata": {},
     "output_type": "execute_result"
    }
   ],
   "source": [
    "url = 'https://archive.ics.uci.edu/ml/machine-learning-databases/breast-cancer-wisconsin/wdbc.data'\n",
    "column_names = ['id', 'diagnosis', 'mean_radius', 'mean_texture', 'mean_perimeter',\n",
    "                'mean_area', 'mean_smoothness', 'mean_compactness', 'mean_concavity',\n",
    "                'mean_concave_points', 'mean_symmetry', 'mean_fractal_dimension',\n",
    "                'se_radius', 'se_texture', 'se_perimeter', 'se_area', 'se_smoothness',\n",
    "                'se_compactness', 'se_concavity', 'se_concave_points', 'se_symmetry',\n",
    "                'se_fractal_dimension', 'worst_radius', 'worst_texture', 'worst_perimeter',\n",
    "                'worst_area', 'worst_smoothness', 'worst_compactness', 'worst_concavity',\n",
    "                'worst_concave_points', 'worst_symmetry', 'worst_fractal_dimension']\n",
    "df = pd.read_csv(url, header=None, names=column_names)\n",
    "df"
   ],
   "metadata": {
    "collapsed": false,
    "pycharm": {
     "name": "#%%\n"
    }
   }
  },
  {
   "cell_type": "code",
   "execution_count": 13,
   "outputs": [],
   "source": [
    "from sklearn.preprocessing import LabelEncoder\n",
    "\n",
    "X = df.iloc[:, 2:]\n",
    "y = df.iloc[:, 1]\n",
    "\n",
    "le = LabelEncoder()\n",
    "y = le.fit_transform(y)\n",
    "\n",
    "X_train, X_test, y_train, y_test = train_test_split(X, y, test_size=0.20, random_state=42)"
   ],
   "metadata": {
    "collapsed": false,
    "pycharm": {
     "name": "#%%\n"
    }
   }
  },
  {
   "cell_type": "code",
   "execution_count": 14,
   "outputs": [],
   "source": [
    "pipe_svc = make_pipeline(StandardScaler(),\n",
    "                         PCA(random_state=42),\n",
    "                         SVC(random_state=42),\n",
    "                         )"
   ],
   "metadata": {
    "collapsed": false,
    "pycharm": {
     "name": "#%%\n"
    }
   }
  },
  {
   "cell_type": "code",
   "execution_count": 15,
   "outputs": [],
   "source": [
    "param_pca_range = [5, 10, 15, 20]\n",
    "param_svc_range = [0.001, 0.01, 0.1, 1.0, 10.0, 100.0]\n",
    "\n",
    "param_grid = [\n",
    "              {'pca__n_components': param_pca_range,\n",
    "               'svc__C': param_svc_range,\n",
    "               'svc__kernel': ['linear']\n",
    "               },  # Fisrt configuration\n",
    "              {'pca__n_components': param_pca_range,\n",
    "               'svc__C': param_svc_range,\n",
    "               'svc__gamma': param_svc_range,\n",
    "               'svc__kernel': ['rbf']\n",
    "               }  # Second configuration\n",
    "              ]\n",
    "\n",
    "# In the previous grid, two configurations will be evaluated, in addition to tunning of hyperparams for PCA and SVC."
   ],
   "metadata": {
    "collapsed": false,
    "pycharm": {
     "name": "#%%\n"
    }
   }
  },
  {
   "cell_type": "code",
   "execution_count": 16,
   "outputs": [
    {
     "data": {
      "text/plain": "GridSearchCV(cv=10,\n             estimator=Pipeline(steps=[('standardscaler', StandardScaler()),\n                                       ('pca', PCA(random_state=42)),\n                                       ('svc', SVC(random_state=42))]),\n             n_jobs=-1,\n             param_grid=[{'pca__n_components': [5, 10, 15, 20],\n                          'svc__C': [0.001, 0.01, 0.1, 1.0, 10.0, 100.0],\n                          'svc__kernel': ['linear']},\n                         {'pca__n_components': [5, 10, 15, 20],\n                          'svc__C': [0.001, 0.01, 0.1, 1.0, 10.0, 100.0],\n                          'svc__gamma': [0.001, 0.01, 0.1, 1.0, 10.0, 100.0],\n                          'svc__kernel': ['rbf']}],\n             scoring='accuracy')",
      "text/html": "<style>#sk-container-id-2 {color: black;}#sk-container-id-2 pre{padding: 0;}#sk-container-id-2 div.sk-toggleable {background-color: white;}#sk-container-id-2 label.sk-toggleable__label {cursor: pointer;display: block;width: 100%;margin-bottom: 0;padding: 0.3em;box-sizing: border-box;text-align: center;}#sk-container-id-2 label.sk-toggleable__label-arrow:before {content: \"▸\";float: left;margin-right: 0.25em;color: #696969;}#sk-container-id-2 label.sk-toggleable__label-arrow:hover:before {color: black;}#sk-container-id-2 div.sk-estimator:hover label.sk-toggleable__label-arrow:before {color: black;}#sk-container-id-2 div.sk-toggleable__content {max-height: 0;max-width: 0;overflow: hidden;text-align: left;background-color: #f0f8ff;}#sk-container-id-2 div.sk-toggleable__content pre {margin: 0.2em;color: black;border-radius: 0.25em;background-color: #f0f8ff;}#sk-container-id-2 input.sk-toggleable__control:checked~div.sk-toggleable__content {max-height: 200px;max-width: 100%;overflow: auto;}#sk-container-id-2 input.sk-toggleable__control:checked~label.sk-toggleable__label-arrow:before {content: \"▾\";}#sk-container-id-2 div.sk-estimator input.sk-toggleable__control:checked~label.sk-toggleable__label {background-color: #d4ebff;}#sk-container-id-2 div.sk-label input.sk-toggleable__control:checked~label.sk-toggleable__label {background-color: #d4ebff;}#sk-container-id-2 input.sk-hidden--visually {border: 0;clip: rect(1px 1px 1px 1px);clip: rect(1px, 1px, 1px, 1px);height: 1px;margin: -1px;overflow: hidden;padding: 0;position: absolute;width: 1px;}#sk-container-id-2 div.sk-estimator {font-family: monospace;background-color: #f0f8ff;border: 1px dotted black;border-radius: 0.25em;box-sizing: border-box;margin-bottom: 0.5em;}#sk-container-id-2 div.sk-estimator:hover {background-color: #d4ebff;}#sk-container-id-2 div.sk-parallel-item::after {content: \"\";width: 100%;border-bottom: 1px solid gray;flex-grow: 1;}#sk-container-id-2 div.sk-label:hover label.sk-toggleable__label {background-color: #d4ebff;}#sk-container-id-2 div.sk-serial::before {content: \"\";position: absolute;border-left: 1px solid gray;box-sizing: border-box;top: 0;bottom: 0;left: 50%;z-index: 0;}#sk-container-id-2 div.sk-serial {display: flex;flex-direction: column;align-items: center;background-color: white;padding-right: 0.2em;padding-left: 0.2em;position: relative;}#sk-container-id-2 div.sk-item {position: relative;z-index: 1;}#sk-container-id-2 div.sk-parallel {display: flex;align-items: stretch;justify-content: center;background-color: white;position: relative;}#sk-container-id-2 div.sk-item::before, #sk-container-id-2 div.sk-parallel-item::before {content: \"\";position: absolute;border-left: 1px solid gray;box-sizing: border-box;top: 0;bottom: 0;left: 50%;z-index: -1;}#sk-container-id-2 div.sk-parallel-item {display: flex;flex-direction: column;z-index: 1;position: relative;background-color: white;}#sk-container-id-2 div.sk-parallel-item:first-child::after {align-self: flex-end;width: 50%;}#sk-container-id-2 div.sk-parallel-item:last-child::after {align-self: flex-start;width: 50%;}#sk-container-id-2 div.sk-parallel-item:only-child::after {width: 0;}#sk-container-id-2 div.sk-dashed-wrapped {border: 1px dashed gray;margin: 0 0.4em 0.5em 0.4em;box-sizing: border-box;padding-bottom: 0.4em;background-color: white;}#sk-container-id-2 div.sk-label label {font-family: monospace;font-weight: bold;display: inline-block;line-height: 1.2em;}#sk-container-id-2 div.sk-label-container {text-align: center;}#sk-container-id-2 div.sk-container {/* jupyter's `normalize.less` sets `[hidden] { display: none; }` but bootstrap.min.css set `[hidden] { display: none !important; }` so we also need the `!important` here to be able to override the default hidden behavior on the sphinx rendered scikit-learn.org. See: https://github.com/scikit-learn/scikit-learn/issues/21755 */display: inline-block !important;position: relative;}#sk-container-id-2 div.sk-text-repr-fallback {display: none;}</style><div id=\"sk-container-id-2\" class=\"sk-top-container\"><div class=\"sk-text-repr-fallback\"><pre>GridSearchCV(cv=10,\n             estimator=Pipeline(steps=[(&#x27;standardscaler&#x27;, StandardScaler()),\n                                       (&#x27;pca&#x27;, PCA(random_state=42)),\n                                       (&#x27;svc&#x27;, SVC(random_state=42))]),\n             n_jobs=-1,\n             param_grid=[{&#x27;pca__n_components&#x27;: [5, 10, 15, 20],\n                          &#x27;svc__C&#x27;: [0.001, 0.01, 0.1, 1.0, 10.0, 100.0],\n                          &#x27;svc__kernel&#x27;: [&#x27;linear&#x27;]},\n                         {&#x27;pca__n_components&#x27;: [5, 10, 15, 20],\n                          &#x27;svc__C&#x27;: [0.001, 0.01, 0.1, 1.0, 10.0, 100.0],\n                          &#x27;svc__gamma&#x27;: [0.001, 0.01, 0.1, 1.0, 10.0, 100.0],\n                          &#x27;svc__kernel&#x27;: [&#x27;rbf&#x27;]}],\n             scoring=&#x27;accuracy&#x27;)</pre><b>In a Jupyter environment, please rerun this cell to show the HTML representation or trust the notebook. <br />On GitHub, the HTML representation is unable to render, please try loading this page with nbviewer.org.</b></div><div class=\"sk-container\" hidden><div class=\"sk-item sk-dashed-wrapped\"><div class=\"sk-label-container\"><div class=\"sk-label sk-toggleable\"><input class=\"sk-toggleable__control sk-hidden--visually\" id=\"sk-estimator-id-6\" type=\"checkbox\" ><label for=\"sk-estimator-id-6\" class=\"sk-toggleable__label sk-toggleable__label-arrow\">GridSearchCV</label><div class=\"sk-toggleable__content\"><pre>GridSearchCV(cv=10,\n             estimator=Pipeline(steps=[(&#x27;standardscaler&#x27;, StandardScaler()),\n                                       (&#x27;pca&#x27;, PCA(random_state=42)),\n                                       (&#x27;svc&#x27;, SVC(random_state=42))]),\n             n_jobs=-1,\n             param_grid=[{&#x27;pca__n_components&#x27;: [5, 10, 15, 20],\n                          &#x27;svc__C&#x27;: [0.001, 0.01, 0.1, 1.0, 10.0, 100.0],\n                          &#x27;svc__kernel&#x27;: [&#x27;linear&#x27;]},\n                         {&#x27;pca__n_components&#x27;: [5, 10, 15, 20],\n                          &#x27;svc__C&#x27;: [0.001, 0.01, 0.1, 1.0, 10.0, 100.0],\n                          &#x27;svc__gamma&#x27;: [0.001, 0.01, 0.1, 1.0, 10.0, 100.0],\n                          &#x27;svc__kernel&#x27;: [&#x27;rbf&#x27;]}],\n             scoring=&#x27;accuracy&#x27;)</pre></div></div></div><div class=\"sk-parallel\"><div class=\"sk-parallel-item\"><div class=\"sk-item\"><div class=\"sk-label-container\"><div class=\"sk-label sk-toggleable\"><input class=\"sk-toggleable__control sk-hidden--visually\" id=\"sk-estimator-id-7\" type=\"checkbox\" ><label for=\"sk-estimator-id-7\" class=\"sk-toggleable__label sk-toggleable__label-arrow\">estimator: Pipeline</label><div class=\"sk-toggleable__content\"><pre>Pipeline(steps=[(&#x27;standardscaler&#x27;, StandardScaler()),\n                (&#x27;pca&#x27;, PCA(random_state=42)), (&#x27;svc&#x27;, SVC(random_state=42))])</pre></div></div></div><div class=\"sk-serial\"><div class=\"sk-item\"><div class=\"sk-serial\"><div class=\"sk-item\"><div class=\"sk-estimator sk-toggleable\"><input class=\"sk-toggleable__control sk-hidden--visually\" id=\"sk-estimator-id-8\" type=\"checkbox\" ><label for=\"sk-estimator-id-8\" class=\"sk-toggleable__label sk-toggleable__label-arrow\">StandardScaler</label><div class=\"sk-toggleable__content\"><pre>StandardScaler()</pre></div></div></div><div class=\"sk-item\"><div class=\"sk-estimator sk-toggleable\"><input class=\"sk-toggleable__control sk-hidden--visually\" id=\"sk-estimator-id-9\" type=\"checkbox\" ><label for=\"sk-estimator-id-9\" class=\"sk-toggleable__label sk-toggleable__label-arrow\">PCA</label><div class=\"sk-toggleable__content\"><pre>PCA(random_state=42)</pre></div></div></div><div class=\"sk-item\"><div class=\"sk-estimator sk-toggleable\"><input class=\"sk-toggleable__control sk-hidden--visually\" id=\"sk-estimator-id-10\" type=\"checkbox\" ><label for=\"sk-estimator-id-10\" class=\"sk-toggleable__label sk-toggleable__label-arrow\">SVC</label><div class=\"sk-toggleable__content\"><pre>SVC(random_state=42)</pre></div></div></div></div></div></div></div></div></div></div></div></div>"
     },
     "execution_count": 16,
     "metadata": {},
     "output_type": "execute_result"
    }
   ],
   "source": [
    "# create grid to obtain the best hyperparams after using Scaling, PCA and finally SVC.\n",
    "search = GridSearchCV(estimator=pipe_svc,\n",
    "                      param_grid=param_grid,\n",
    "                      scoring='accuracy',\n",
    "                      cv=10,\n",
    "                      refit=True,\n",
    "                      n_jobs=-1)\n",
    "\n",
    "search.fit(X_train, y_train)"
   ],
   "metadata": {
    "collapsed": false,
    "pycharm": {
     "name": "#%%\n"
    }
   }
  },
  {
   "cell_type": "code",
   "execution_count": 17,
   "outputs": [
    {
     "name": "stdout",
     "output_type": "stream",
     "text": [
      "best params: {'pca__n_components': 20, 'svc__C': 0.1, 'svc__kernel': 'linear'}\n",
      "best score:  0.9758937198067633\n",
      "mean score: (77.03 +- 1.82)\n"
     ]
    }
   ],
   "source": [
    "print(f'best params: {search.best_params_}')\n",
    "print(f'best score:  {search.best_score_}')\n",
    "\n",
    "cv_GridScore_mean = round( search.cv_results_[\"mean_test_score\"].mean()*100 , 2)\n",
    "cv_GridScore_std  = round( search.cv_results_[\"std_test_score\"].mean()*100 , 2)\n",
    "\n",
    "print(f'mean score: ({cv_GridScore_mean} +- {cv_GridScore_std})')"
   ],
   "metadata": {
    "collapsed": false,
    "pycharm": {
     "name": "#%%\n"
    }
   }
  },
  {
   "cell_type": "code",
   "execution_count": 18,
   "outputs": [
    {
     "data": {
      "text/plain": "array([0.9384058 , 0.97135266, 0.9647343 , 0.96487923, 0.96700483,\n       0.96700483, 0.93396135, 0.96913043, 0.97584541, 0.97140097,\n       0.97362319, 0.97362319, 0.93618357, 0.96251208, 0.97584541,\n       0.97144928, 0.95835749, 0.95821256, 0.93618357, 0.96468599,\n       0.97589372, 0.96917874, 0.96700483, 0.96483092, 0.62855072,\n       0.62855072, 0.62855072, 0.62855072, 0.62855072, 0.62855072,\n       0.62855072, 0.62855072, 0.62855072, 0.62855072, 0.62855072,\n       0.62855072, 0.7447343 , 0.94067633, 0.95816425, 0.62855072,\n       0.62855072, 0.62855072, 0.94280193, 0.96913043, 0.95381643,\n       0.8547343 , 0.63077295, 0.62855072, 0.97135266, 0.96690821,\n       0.95381643, 0.86574879, 0.63294686, 0.62855072, 0.96256039,\n       0.96700483, 0.92961353, 0.86574879, 0.63294686, 0.62855072,\n       0.62855072, 0.62855072, 0.62855072, 0.62855072, 0.62855072,\n       0.62855072, 0.62855072, 0.62855072, 0.62855072, 0.62855072,\n       0.62855072, 0.62855072, 0.7447343 , 0.93845411, 0.94275362,\n       0.62855072, 0.62855072, 0.62855072, 0.94719807, 0.96690821,\n       0.96478261, 0.652657  , 0.62855072, 0.62855072, 0.96913043,\n       0.96913043, 0.95371981, 0.67033816, 0.62855072, 0.62855072,\n       0.96922705, 0.97125604, 0.95599034, 0.67033816, 0.62855072,\n       0.62855072, 0.62855072, 0.62855072, 0.62855072, 0.62855072,\n       0.62855072, 0.62855072, 0.62855072, 0.62855072, 0.62855072,\n       0.62855072, 0.62855072, 0.62855072, 0.74256039, 0.93845411,\n       0.93623188, 0.62855072, 0.62855072, 0.62855072, 0.94497585,\n       0.97135266, 0.95599034, 0.63077295, 0.62855072, 0.62855072,\n       0.97135266, 0.96917874, 0.95154589, 0.63956522, 0.62855072,\n       0.62855072, 0.96922705, 0.96917874, 0.95154589, 0.63956522,\n       0.62855072, 0.62855072, 0.62855072, 0.62855072, 0.62855072,\n       0.62855072, 0.62855072, 0.62855072, 0.62855072, 0.62855072,\n       0.62855072, 0.62855072, 0.62855072, 0.62855072, 0.74256039,\n       0.93628019, 0.93618357, 0.62855072, 0.62855072, 0.62855072,\n       0.94497585, 0.97135266, 0.95816425, 0.63077295, 0.62855072,\n       0.62855072, 0.97135266, 0.97135266, 0.95154589, 0.63516908,\n       0.62855072, 0.62855072, 0.96917874, 0.96917874, 0.95154589,\n       0.63516908, 0.62855072, 0.62855072])"
     },
     "execution_count": 18,
     "metadata": {},
     "output_type": "execute_result"
    }
   ],
   "source": [
    "search.cv_results_[\"mean_test_score\"]"
   ],
   "metadata": {
    "collapsed": false,
    "pycharm": {
     "name": "#%%\n"
    }
   }
  },
  {
   "cell_type": "code",
   "execution_count": 20,
   "outputs": [
    {
     "name": "stdout",
     "output_type": "stream",
     "text": [
      "0.9824561403508771 0.9824561403508771\n"
     ]
    }
   ],
   "source": [
    "# we pick the best estimator from the grid\n",
    "best_estimator = search.best_estimator_\n",
    "\n",
    "#best_estimator.fit(X_train, y_train)  # this line is not needed. (X,y)_train were already used in SearchGridCV\n",
    "                                       # This is due to default refit=True param in SearchGridCV.\n",
    "y_pred = best_estimator.predict(X_test)\n",
    "accuracy_v1 = best_estimator.score(X_test, y_test)\n",
    "\n",
    "# calculating throught the function\n",
    "accuracy_v2 = accuracy_score(y_true=y_test, y_pred=best_estimator.predict(X_test))\n",
    "\n",
    "print(accuracy_v1, accuracy_v2)"
   ],
   "metadata": {
    "collapsed": false,
    "pycharm": {
     "name": "#%%\n"
    }
   }
  },
  {
   "cell_type": "markdown",
   "source": [
    "</h3> It is important to highlight that these value for mean score is considerably lower than best score due to\n",
    " is calculated throught the 168 combinations of hyperparams, where models had both good and bad performance.\n",
    " Now, we can use the best hyperparams and apply the cross validations on the best model to calculate a reliable\n",
    " accuracy. <h3>"
   ],
   "metadata": {
    "collapsed": false,
    "pycharm": {
     "name": "#%% md\n"
    }
   }
  },
  {
   "cell_type": "markdown",
   "source": [
    "</h3> As note, here we use PCA with specified values for n_components. The best accuracy could be gotten without using\n",
    " PCA but was used to see how use other transformer inside grid.<h3>"
   ],
   "metadata": {
    "collapsed": false,
    "pycharm": {
     "name": "#%% md\n"
    }
   }
  },
  {
   "cell_type": "code",
   "execution_count": 21,
   "outputs": [
    {
     "name": "stdout",
     "output_type": "stream",
     "text": [
      "(97.59 +- 1.82)%\n"
     ]
    }
   ],
   "source": [
    "# The cross validation is applied on the training sample.\n",
    "cv_score = cross_val_score(estimator=best_estimator,\n",
    "                           X=X_train, y=y_train, cv=10, n_jobs=-1)\n",
    "\n",
    "cv_score_mean = round( cv_score.mean()*100, 2 )\n",
    "cv_score_std  = round( cv_score.std()*100,  2 )\n",
    "\n",
    "print(f'({cv_score_mean} +- {cv_score_std})%')"
   ],
   "metadata": {
    "collapsed": false,
    "pycharm": {
     "name": "#%%\n"
    }
   }
  },
  {
   "cell_type": "markdown",
   "source": [
    "<h1> Confusion Matrix <h1>"
   ],
   "metadata": {
    "collapsed": false,
    "pycharm": {
     "name": "#%% md\n"
    }
   }
  },
  {
   "cell_type": "code",
   "execution_count": 42,
   "outputs": [
    {
     "data": {
      "text/plain": "array([[71,  0],\n       [ 2, 41]])"
     },
     "execution_count": 42,
     "metadata": {},
     "output_type": "execute_result"
    }
   ],
   "source": [
    "from sklearn.metrics import confusion_matrix\n",
    "\n",
    "# remember that:  1-M (Malign), 0-B (Bening)\n",
    "\n",
    "confmat = confusion_matrix(y_true=y_test, y_pred=y_pred)\n",
    "confmat"
   ],
   "metadata": {
    "collapsed": false,
    "pycharm": {
     "name": "#%%\n"
    }
   }
  },
  {
   "cell_type": "code",
   "execution_count": 44,
   "outputs": [
    {
     "name": "stdout",
     "output_type": "stream",
     "text": [
      "(41, 71, 2, 0)\n"
     ]
    }
   ],
   "source": [
    "def counting(y_test, y_pred):\n",
    "    TP, TN, FP, FN = 0, 0, 0, 0\n",
    "    for i, j in zip(y_test, y_pred):\n",
    "        if i == j:\n",
    "            if i == 1: TP += 1  # patients with test Positive(1-M) that were predicted correctly (True)\n",
    "            else:      TN += 1  # patients with test Negative(0-B) that were predicted correctly (True)\n",
    "        else:\n",
    "            if i == 1: FP += 1  # patients with test Positive(1-M) that were predicted incorrectly (False)\n",
    "            else:      FN += 1  # patients with test Negative(0-B) that were predicted incorrectly (False)\n",
    "\n",
    "    return (TP, TN, FP, FN)\n",
    "\n",
    "counts = counting(y_test, y_pred)\n",
    "print(counts)"
   ],
   "metadata": {
    "collapsed": false,
    "pycharm": {
     "name": "#%%\n"
    }
   }
  },
  {
   "cell_type": "markdown",
   "source": [
    "Due to Confusion matrix is design as:\n",
    "\n",
    "[ [TP] [FN]\n",
    "  [FP] [TN] ]\n",
    "\n",
    "for our results:\n",
    "\n",
    "[ 41,  0\n",
    "   2,  71 ]\n"
   ],
   "metadata": {
    "collapsed": false,
    "pycharm": {
     "name": "#%% md\n"
    }
   }
  },
  {
   "cell_type": "code",
   "execution_count": 52,
   "outputs": [],
   "source": [
    "from sklearn.metrics import balanced_accuracy_score, precision_score, recall_score, f1_score, matthews_corrcoef\n",
    "\n",
    "# we can evaluate different metrics\n",
    "\n",
    "bal_acc = balanced_accuracy_score(y_true=y_test, y_pred=y_pred)\n",
    "pre_val = precision_score(y_true=y_test, y_pred=y_pred)\n",
    "rec_val = recall_score(y_true=y_test, y_pred=y_pred)\n",
    "f1_val  = f1_score(y_true=y_test, y_pred=y_pred)\n",
    "mcc_val = matthews_corrcoef(y_true=y_test, y_pred=y_pred)"
   ],
   "metadata": {
    "collapsed": false,
    "pycharm": {
     "name": "#%%\n"
    }
   }
  },
  {
   "cell_type": "code",
   "execution_count": 53,
   "outputs": [
    {
     "name": "stdout",
     "output_type": "stream",
     "text": [
      "bal_acc = 0.9767441860465116\n",
      "pre_val = 1.0\n",
      "rec_val = 0.9534883720930233\n",
      "f1_val = 0.9761904761904763\n",
      "mcc_val = 0.962998132394131\n"
     ]
    }
   ],
   "source": [
    "print(f'bal_acc = {bal_acc}')\n",
    "print(f'pre_val = {pre_val}')\n",
    "print(f'rec_val = {rec_val}')\n",
    "print(f'f1_val = {f1_val}')\n",
    "print(f'mcc_val = {mcc_val}')"
   ],
   "metadata": {
    "collapsed": false,
    "pycharm": {
     "name": "#%%\n"
    }
   }
  },
  {
   "cell_type": "code",
   "execution_count": null,
   "outputs": [],
   "source": [],
   "metadata": {
    "collapsed": false,
    "pycharm": {
     "name": "#%%\n"
    }
   }
  }
 ],
 "metadata": {
  "kernelspec": {
   "display_name": "Python 3",
   "language": "python",
   "name": "python3"
  },
  "language_info": {
   "codemirror_mode": {
    "name": "ipython",
    "version": 2
   },
   "file_extension": ".py",
   "mimetype": "text/x-python",
   "name": "python",
   "nbconvert_exporter": "python",
   "pygments_lexer": "ipython2",
   "version": "2.7.6"
  }
 },
 "nbformat": 4,
 "nbformat_minor": 0
}