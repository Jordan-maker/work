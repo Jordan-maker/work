{
 "cells": [
  {
   "cell_type": "code",
   "execution_count": 1,
   "metadata": {
    "collapsed": true,
    "pycharm": {
     "name": "#%%\n"
    }
   },
   "outputs": [],
   "source": [
    "import pandas as pd\n",
    "from sklearn.preprocessing import OneHotEncoder, OrdinalEncoder"
   ]
  },
  {
   "cell_type": "code",
   "execution_count": 2,
   "outputs": [
    {
     "data": {
      "text/plain": "     Name  Gender  Age       Degree\n0  Eduard    Male   23    Bachelors\n1   Arnav    Male   26      Masters\n2  Sophia  Female   19  High School\n3  Jordan    Male   29     Doctoral",
      "text/html": "<div>\n<style scoped>\n    .dataframe tbody tr th:only-of-type {\n        vertical-align: middle;\n    }\n\n    .dataframe tbody tr th {\n        vertical-align: top;\n    }\n\n    .dataframe thead th {\n        text-align: right;\n    }\n</style>\n<table border=\"1\" class=\"dataframe\">\n  <thead>\n    <tr style=\"text-align: right;\">\n      <th></th>\n      <th>Name</th>\n      <th>Gender</th>\n      <th>Age</th>\n      <th>Degree</th>\n    </tr>\n  </thead>\n  <tbody>\n    <tr>\n      <th>0</th>\n      <td>Eduard</td>\n      <td>Male</td>\n      <td>23</td>\n      <td>Bachelors</td>\n    </tr>\n    <tr>\n      <th>1</th>\n      <td>Arnav</td>\n      <td>Male</td>\n      <td>26</td>\n      <td>Masters</td>\n    </tr>\n    <tr>\n      <th>2</th>\n      <td>Sophia</td>\n      <td>Female</td>\n      <td>19</td>\n      <td>High School</td>\n    </tr>\n    <tr>\n      <th>3</th>\n      <td>Jordan</td>\n      <td>Male</td>\n      <td>29</td>\n      <td>Doctoral</td>\n    </tr>\n  </tbody>\n</table>\n</div>"
     },
     "execution_count": 2,
     "metadata": {},
     "output_type": "execute_result"
    }
   ],
   "source": [
    "data={'Name':['Eduard', 'Arnav', 'Sophia', 'Jordan'],\n",
    "      'Gender':['Male', 'Male', 'Female', 'Male'],\n",
    "      'Age':[23, 26, 19, 29],\n",
    "      'Degree':['Bachelors', 'Masters', 'High School', 'Doctoral']\n",
    "      }\n",
    "\n",
    "df = pd.DataFrame(data)\n",
    "df"
   ],
   "metadata": {
    "collapsed": false,
    "pycharm": {
     "name": "#%%\n"
    }
   }
  },
  {
   "cell_type": "code",
   "execution_count": 3,
   "outputs": [],
   "source": [
    "# We will use OneHotEncoding for generating new columns such that no bias is induced.\n",
    "# Remember that Gender is a nominal attribute.\n",
    "\n",
    "df_Gender = pd.get_dummies(df[['Gender']], prefix=\"\", prefix_sep=\"\", dtype=int)\n",
    "df = pd.concat([df, df_Gender], axis=1)"
   ],
   "metadata": {
    "collapsed": false,
    "pycharm": {
     "name": "#%%\n"
    }
   }
  },
  {
   "cell_type": "code",
   "execution_count": 4,
   "outputs": [
    {
     "data": {
      "text/plain": "     Name  Gender  Age       Degree  Female  Male\n0  Eduard    Male   23    Bachelors       0     1\n1   Arnav    Male   26      Masters       0     1\n2  Sophia  Female   19  High School       1     0\n3  Jordan    Male   29     Doctoral       0     1",
      "text/html": "<div>\n<style scoped>\n    .dataframe tbody tr th:only-of-type {\n        vertical-align: middle;\n    }\n\n    .dataframe tbody tr th {\n        vertical-align: top;\n    }\n\n    .dataframe thead th {\n        text-align: right;\n    }\n</style>\n<table border=\"1\" class=\"dataframe\">\n  <thead>\n    <tr style=\"text-align: right;\">\n      <th></th>\n      <th>Name</th>\n      <th>Gender</th>\n      <th>Age</th>\n      <th>Degree</th>\n      <th>Female</th>\n      <th>Male</th>\n    </tr>\n  </thead>\n  <tbody>\n    <tr>\n      <th>0</th>\n      <td>Eduard</td>\n      <td>Male</td>\n      <td>23</td>\n      <td>Bachelors</td>\n      <td>0</td>\n      <td>1</td>\n    </tr>\n    <tr>\n      <th>1</th>\n      <td>Arnav</td>\n      <td>Male</td>\n      <td>26</td>\n      <td>Masters</td>\n      <td>0</td>\n      <td>1</td>\n    </tr>\n    <tr>\n      <th>2</th>\n      <td>Sophia</td>\n      <td>Female</td>\n      <td>19</td>\n      <td>High School</td>\n      <td>1</td>\n      <td>0</td>\n    </tr>\n    <tr>\n      <th>3</th>\n      <td>Jordan</td>\n      <td>Male</td>\n      <td>29</td>\n      <td>Doctoral</td>\n      <td>0</td>\n      <td>1</td>\n    </tr>\n  </tbody>\n</table>\n</div>"
     },
     "execution_count": 4,
     "metadata": {},
     "output_type": "execute_result"
    }
   ],
   "source": [
    "df"
   ],
   "metadata": {
    "collapsed": false,
    "pycharm": {
     "name": "#%%\n"
    }
   }
  },
  {
   "cell_type": "code",
   "execution_count": 5,
   "outputs": [],
   "source": [
    "# For Degree, we can replace the value with numerical values, which can be ordered,\n",
    "# For example, a 'Doctoral degree' is higher than 'Masters'.\n",
    "# This corresponds to an ordinal attribute.\n",
    "\n",
    "Encoder_Degree = OrdinalEncoder(categories=[['High School', 'Bachelors', 'Masters', 'Doctoral']], dtype=int)\n",
    "df[['Degree_Encoded']] = Encoder_Degree.fit_transform(df[['Degree']])"
   ],
   "metadata": {
    "collapsed": false,
    "pycharm": {
     "name": "#%%\n"
    }
   }
  },
  {
   "cell_type": "code",
   "execution_count": 6,
   "outputs": [
    {
     "data": {
      "text/plain": "     Name  Gender  Age       Degree  Female  Male  Degree_Encoded\n0  Eduard    Male   23    Bachelors       0     1               1\n1   Arnav    Male   26      Masters       0     1               2\n2  Sophia  Female   19  High School       1     0               0\n3  Jordan    Male   29     Doctoral       0     1               3",
      "text/html": "<div>\n<style scoped>\n    .dataframe tbody tr th:only-of-type {\n        vertical-align: middle;\n    }\n\n    .dataframe tbody tr th {\n        vertical-align: top;\n    }\n\n    .dataframe thead th {\n        text-align: right;\n    }\n</style>\n<table border=\"1\" class=\"dataframe\">\n  <thead>\n    <tr style=\"text-align: right;\">\n      <th></th>\n      <th>Name</th>\n      <th>Gender</th>\n      <th>Age</th>\n      <th>Degree</th>\n      <th>Female</th>\n      <th>Male</th>\n      <th>Degree_Encoded</th>\n    </tr>\n  </thead>\n  <tbody>\n    <tr>\n      <th>0</th>\n      <td>Eduard</td>\n      <td>Male</td>\n      <td>23</td>\n      <td>Bachelors</td>\n      <td>0</td>\n      <td>1</td>\n      <td>1</td>\n    </tr>\n    <tr>\n      <th>1</th>\n      <td>Arnav</td>\n      <td>Male</td>\n      <td>26</td>\n      <td>Masters</td>\n      <td>0</td>\n      <td>1</td>\n      <td>2</td>\n    </tr>\n    <tr>\n      <th>2</th>\n      <td>Sophia</td>\n      <td>Female</td>\n      <td>19</td>\n      <td>High School</td>\n      <td>1</td>\n      <td>0</td>\n      <td>0</td>\n    </tr>\n    <tr>\n      <th>3</th>\n      <td>Jordan</td>\n      <td>Male</td>\n      <td>29</td>\n      <td>Doctoral</td>\n      <td>0</td>\n      <td>1</td>\n      <td>3</td>\n    </tr>\n  </tbody>\n</table>\n</div>"
     },
     "execution_count": 6,
     "metadata": {},
     "output_type": "execute_result"
    }
   ],
   "source": [
    "df"
   ],
   "metadata": {
    "collapsed": false,
    "pycharm": {
     "name": "#%%\n"
    }
   }
  },
  {
   "cell_type": "code",
   "execution_count": 8,
   "outputs": [
    {
     "data": {
      "text/plain": "array([['Bachelors'],\n       ['Masters'],\n       ['High School'],\n       ['Doctoral']], dtype=object)"
     },
     "execution_count": 8,
     "metadata": {},
     "output_type": "execute_result"
    }
   ],
   "source": [
    "x = Encoder_Degree.inverse_transform(df[['Degree_Encoded']])\n",
    "x"
   ],
   "metadata": {
    "collapsed": false,
    "pycharm": {
     "name": "#%%\n"
    }
   }
  },
  {
   "cell_type": "code",
   "execution_count": null,
   "outputs": [],
   "source": [],
   "metadata": {
    "collapsed": false,
    "pycharm": {
     "name": "#%%\n"
    }
   }
  }
 ],
 "metadata": {
  "kernelspec": {
   "display_name": "Python 3",
   "language": "python",
   "name": "python3"
  },
  "language_info": {
   "codemirror_mode": {
    "name": "ipython",
    "version": 2
   },
   "file_extension": ".py",
   "mimetype": "text/x-python",
   "name": "python",
   "nbconvert_exporter": "python",
   "pygments_lexer": "ipython2",
   "version": "2.7.6"
  }
 },
 "nbformat": 4,
 "nbformat_minor": 0
}