{
 "cells": [
  {
   "cell_type": "code",
   "execution_count": 1,
   "outputs": [],
   "source": [
    "import pandas as pd\n",
    "import numpy as np\n",
    "import matplotlib.pyplot as plt\n",
    "from sklearn.datasets import load_iris\n",
    "from sklearn.linear_model import LogisticRegression\n",
    "from sklearn.preprocessing import StandardScaler\n",
    "from sklearn.decomposition import PCA"
   ],
   "metadata": {
    "collapsed": false,
    "pycharm": {
     "name": "#%%\n"
    }
   }
  },
  {
   "cell_type": "code",
   "execution_count": 2,
   "outputs": [
    {
     "data": {
      "text/plain": "     sepal length (cm)  sepal width (cm)  petal length (cm)  petal width (cm)  \\\n0                  5.1               3.5                1.4               0.2   \n1                  4.9               3.0                1.4               0.2   \n2                  4.7               3.2                1.3               0.2   \n3                  4.6               3.1                1.5               0.2   \n4                  5.0               3.6                1.4               0.2   \n..                 ...               ...                ...               ...   \n145                6.7               3.0                5.2               2.3   \n146                6.3               2.5                5.0               1.9   \n147                6.5               3.0                5.2               2.0   \n148                6.2               3.4                5.4               2.3   \n149                5.9               3.0                5.1               1.8   \n\n     target  \n0       0.0  \n1       0.0  \n2       0.0  \n3       0.0  \n4       0.0  \n..      ...  \n145     2.0  \n146     2.0  \n147     2.0  \n148     2.0  \n149     2.0  \n\n[150 rows x 5 columns]",
      "text/html": "<div>\n<style scoped>\n    .dataframe tbody tr th:only-of-type {\n        vertical-align: middle;\n    }\n\n    .dataframe tbody tr th {\n        vertical-align: top;\n    }\n\n    .dataframe thead th {\n        text-align: right;\n    }\n</style>\n<table border=\"1\" class=\"dataframe\">\n  <thead>\n    <tr style=\"text-align: right;\">\n      <th></th>\n      <th>sepal length (cm)</th>\n      <th>sepal width (cm)</th>\n      <th>petal length (cm)</th>\n      <th>petal width (cm)</th>\n      <th>target</th>\n    </tr>\n  </thead>\n  <tbody>\n    <tr>\n      <th>0</th>\n      <td>5.1</td>\n      <td>3.5</td>\n      <td>1.4</td>\n      <td>0.2</td>\n      <td>0.0</td>\n    </tr>\n    <tr>\n      <th>1</th>\n      <td>4.9</td>\n      <td>3.0</td>\n      <td>1.4</td>\n      <td>0.2</td>\n      <td>0.0</td>\n    </tr>\n    <tr>\n      <th>2</th>\n      <td>4.7</td>\n      <td>3.2</td>\n      <td>1.3</td>\n      <td>0.2</td>\n      <td>0.0</td>\n    </tr>\n    <tr>\n      <th>3</th>\n      <td>4.6</td>\n      <td>3.1</td>\n      <td>1.5</td>\n      <td>0.2</td>\n      <td>0.0</td>\n    </tr>\n    <tr>\n      <th>4</th>\n      <td>5.0</td>\n      <td>3.6</td>\n      <td>1.4</td>\n      <td>0.2</td>\n      <td>0.0</td>\n    </tr>\n    <tr>\n      <th>...</th>\n      <td>...</td>\n      <td>...</td>\n      <td>...</td>\n      <td>...</td>\n      <td>...</td>\n    </tr>\n    <tr>\n      <th>145</th>\n      <td>6.7</td>\n      <td>3.0</td>\n      <td>5.2</td>\n      <td>2.3</td>\n      <td>2.0</td>\n    </tr>\n    <tr>\n      <th>146</th>\n      <td>6.3</td>\n      <td>2.5</td>\n      <td>5.0</td>\n      <td>1.9</td>\n      <td>2.0</td>\n    </tr>\n    <tr>\n      <th>147</th>\n      <td>6.5</td>\n      <td>3.0</td>\n      <td>5.2</td>\n      <td>2.0</td>\n      <td>2.0</td>\n    </tr>\n    <tr>\n      <th>148</th>\n      <td>6.2</td>\n      <td>3.4</td>\n      <td>5.4</td>\n      <td>2.3</td>\n      <td>2.0</td>\n    </tr>\n    <tr>\n      <th>149</th>\n      <td>5.9</td>\n      <td>3.0</td>\n      <td>5.1</td>\n      <td>1.8</td>\n      <td>2.0</td>\n    </tr>\n  </tbody>\n</table>\n<p>150 rows × 5 columns</p>\n</div>"
     },
     "execution_count": 2,
     "metadata": {},
     "output_type": "execute_result"
    }
   ],
   "source": [
    "iris = load_iris()\n",
    "\n",
    "# Convert dataset to Dataframe\n",
    "df = pd.DataFrame(data= np.c_[iris['data'], iris['target']],\n",
    "                    columns= iris['feature_names'] + ['target'])\n",
    "df"
   ],
   "metadata": {
    "collapsed": false,
    "pycharm": {
     "name": "#%%\n"
    }
   }
  },
  {
   "cell_type": "code",
   "execution_count": 3,
   "outputs": [],
   "source": [
    "X = df.drop(columns=['target'], axis=1)  # Dataframe type\n",
    "y = df[['target']].astype(int)           # Dataframe type"
   ],
   "metadata": {
    "collapsed": false,
    "pycharm": {
     "name": "#%%\n"
    }
   }
  },
  {
   "cell_type": "code",
   "execution_count": 4,
   "outputs": [
    {
     "data": {
      "text/plain": "array([[-9.00681170e-01,  1.01900435e+00, -1.34022653e+00,\n        -1.31544430e+00],\n       [-1.14301691e+00, -1.31979479e-01, -1.34022653e+00,\n        -1.31544430e+00],\n       [-1.38535265e+00,  3.28414053e-01, -1.39706395e+00,\n        -1.31544430e+00],\n       [-1.50652052e+00,  9.82172869e-02, -1.28338910e+00,\n        -1.31544430e+00],\n       [-1.02184904e+00,  1.24920112e+00, -1.34022653e+00,\n        -1.31544430e+00],\n       [-5.37177559e-01,  1.93979142e+00, -1.16971425e+00,\n        -1.05217993e+00],\n       [-1.50652052e+00,  7.88807586e-01, -1.34022653e+00,\n        -1.18381211e+00],\n       [-1.02184904e+00,  7.88807586e-01, -1.28338910e+00,\n        -1.31544430e+00],\n       [-1.74885626e+00, -3.62176246e-01, -1.34022653e+00,\n        -1.31544430e+00],\n       [-1.14301691e+00,  9.82172869e-02, -1.28338910e+00,\n        -1.44707648e+00],\n       [-5.37177559e-01,  1.47939788e+00, -1.28338910e+00,\n        -1.31544430e+00],\n       [-1.26418478e+00,  7.88807586e-01, -1.22655167e+00,\n        -1.31544430e+00],\n       [-1.26418478e+00, -1.31979479e-01, -1.34022653e+00,\n        -1.44707648e+00],\n       [-1.87002413e+00, -1.31979479e-01, -1.51073881e+00,\n        -1.44707648e+00],\n       [-5.25060772e-02,  2.16998818e+00, -1.45390138e+00,\n        -1.31544430e+00],\n       [-1.73673948e-01,  3.09077525e+00, -1.28338910e+00,\n        -1.05217993e+00],\n       [-5.37177559e-01,  1.93979142e+00, -1.39706395e+00,\n        -1.05217993e+00],\n       [-9.00681170e-01,  1.01900435e+00, -1.34022653e+00,\n        -1.18381211e+00],\n       [-1.73673948e-01,  1.70959465e+00, -1.16971425e+00,\n        -1.18381211e+00],\n       [-9.00681170e-01,  1.70959465e+00, -1.28338910e+00,\n        -1.18381211e+00],\n       [-5.37177559e-01,  7.88807586e-01, -1.16971425e+00,\n        -1.31544430e+00],\n       [-9.00681170e-01,  1.47939788e+00, -1.28338910e+00,\n        -1.05217993e+00],\n       [-1.50652052e+00,  1.24920112e+00, -1.56757623e+00,\n        -1.31544430e+00],\n       [-9.00681170e-01,  5.58610819e-01, -1.16971425e+00,\n        -9.20547742e-01],\n       [-1.26418478e+00,  7.88807586e-01, -1.05603939e+00,\n        -1.31544430e+00],\n       [-1.02184904e+00, -1.31979479e-01, -1.22655167e+00,\n        -1.31544430e+00],\n       [-1.02184904e+00,  7.88807586e-01, -1.22655167e+00,\n        -1.05217993e+00],\n       [-7.79513300e-01,  1.01900435e+00, -1.28338910e+00,\n        -1.31544430e+00],\n       [-7.79513300e-01,  7.88807586e-01, -1.34022653e+00,\n        -1.31544430e+00],\n       [-1.38535265e+00,  3.28414053e-01, -1.22655167e+00,\n        -1.31544430e+00],\n       [-1.26418478e+00,  9.82172869e-02, -1.22655167e+00,\n        -1.31544430e+00],\n       [-5.37177559e-01,  7.88807586e-01, -1.28338910e+00,\n        -1.05217993e+00],\n       [-7.79513300e-01,  2.40018495e+00, -1.28338910e+00,\n        -1.44707648e+00],\n       [-4.16009689e-01,  2.63038172e+00, -1.34022653e+00,\n        -1.31544430e+00],\n       [-1.14301691e+00,  9.82172869e-02, -1.28338910e+00,\n        -1.31544430e+00],\n       [-1.02184904e+00,  3.28414053e-01, -1.45390138e+00,\n        -1.31544430e+00],\n       [-4.16009689e-01,  1.01900435e+00, -1.39706395e+00,\n        -1.31544430e+00],\n       [-1.14301691e+00,  1.24920112e+00, -1.34022653e+00,\n        -1.44707648e+00],\n       [-1.74885626e+00, -1.31979479e-01, -1.39706395e+00,\n        -1.31544430e+00],\n       [-9.00681170e-01,  7.88807586e-01, -1.28338910e+00,\n        -1.31544430e+00],\n       [-1.02184904e+00,  1.01900435e+00, -1.39706395e+00,\n        -1.18381211e+00],\n       [-1.62768839e+00, -1.74335684e+00, -1.39706395e+00,\n        -1.18381211e+00],\n       [-1.74885626e+00,  3.28414053e-01, -1.39706395e+00,\n        -1.31544430e+00],\n       [-1.02184904e+00,  1.01900435e+00, -1.22655167e+00,\n        -7.88915558e-01],\n       [-9.00681170e-01,  1.70959465e+00, -1.05603939e+00,\n        -1.05217993e+00],\n       [-1.26418478e+00, -1.31979479e-01, -1.34022653e+00,\n        -1.18381211e+00],\n       [-9.00681170e-01,  1.70959465e+00, -1.22655167e+00,\n        -1.31544430e+00],\n       [-1.50652052e+00,  3.28414053e-01, -1.34022653e+00,\n        -1.31544430e+00],\n       [-6.58345429e-01,  1.47939788e+00, -1.28338910e+00,\n        -1.31544430e+00],\n       [-1.02184904e+00,  5.58610819e-01, -1.34022653e+00,\n        -1.31544430e+00],\n       [ 1.40150837e+00,  3.28414053e-01,  5.35408562e-01,\n         2.64141916e-01],\n       [ 6.74501145e-01,  3.28414053e-01,  4.21733708e-01,\n         3.95774101e-01],\n       [ 1.28034050e+00,  9.82172869e-02,  6.49083415e-01,\n         3.95774101e-01],\n       [-4.16009689e-01, -1.74335684e+00,  1.37546573e-01,\n         1.32509732e-01],\n       [ 7.95669016e-01, -5.92373012e-01,  4.78571135e-01,\n         3.95774101e-01],\n       [-1.73673948e-01, -5.92373012e-01,  4.21733708e-01,\n         1.32509732e-01],\n       [ 5.53333275e-01,  5.58610819e-01,  5.35408562e-01,\n         5.27406285e-01],\n       [-1.14301691e+00, -1.51316008e+00, -2.60315415e-01,\n        -2.62386821e-01],\n       [ 9.16836886e-01, -3.62176246e-01,  4.78571135e-01,\n         1.32509732e-01],\n       [-7.79513300e-01, -8.22569778e-01,  8.07091462e-02,\n         2.64141916e-01],\n       [-1.02184904e+00, -2.43394714e+00, -1.46640561e-01,\n        -2.62386821e-01],\n       [ 6.86617933e-02, -1.31979479e-01,  2.51221427e-01,\n         3.95774101e-01],\n       [ 1.89829664e-01, -1.97355361e+00,  1.37546573e-01,\n        -2.62386821e-01],\n       [ 3.10997534e-01, -3.62176246e-01,  5.35408562e-01,\n         2.64141916e-01],\n       [-2.94841818e-01, -3.62176246e-01, -8.98031345e-02,\n         1.32509732e-01],\n       [ 1.03800476e+00,  9.82172869e-02,  3.64896281e-01,\n         2.64141916e-01],\n       [-2.94841818e-01, -1.31979479e-01,  4.21733708e-01,\n         3.95774101e-01],\n       [-5.25060772e-02, -8.22569778e-01,  1.94384000e-01,\n        -2.62386821e-01],\n       [ 4.32165405e-01, -1.97355361e+00,  4.21733708e-01,\n         3.95774101e-01],\n       [-2.94841818e-01, -1.28296331e+00,  8.07091462e-02,\n        -1.30754636e-01],\n       [ 6.86617933e-02,  3.28414053e-01,  5.92245988e-01,\n         7.90670654e-01],\n       [ 3.10997534e-01, -5.92373012e-01,  1.37546573e-01,\n         1.32509732e-01],\n       [ 5.53333275e-01, -1.28296331e+00,  6.49083415e-01,\n         3.95774101e-01],\n       [ 3.10997534e-01, -5.92373012e-01,  5.35408562e-01,\n         8.77547895e-04],\n       [ 6.74501145e-01, -3.62176246e-01,  3.08058854e-01,\n         1.32509732e-01],\n       [ 9.16836886e-01, -1.31979479e-01,  3.64896281e-01,\n         2.64141916e-01],\n       [ 1.15917263e+00, -5.92373012e-01,  5.92245988e-01,\n         2.64141916e-01],\n       [ 1.03800476e+00, -1.31979479e-01,  7.05920842e-01,\n         6.59038469e-01],\n       [ 1.89829664e-01, -3.62176246e-01,  4.21733708e-01,\n         3.95774101e-01],\n       [-1.73673948e-01, -1.05276654e+00, -1.46640561e-01,\n        -2.62386821e-01],\n       [-4.16009689e-01, -1.51316008e+00,  2.38717193e-02,\n        -1.30754636e-01],\n       [-4.16009689e-01, -1.51316008e+00, -3.29657076e-02,\n        -2.62386821e-01],\n       [-5.25060772e-02, -8.22569778e-01,  8.07091462e-02,\n         8.77547895e-04],\n       [ 1.89829664e-01, -8.22569778e-01,  7.62758269e-01,\n         5.27406285e-01],\n       [-5.37177559e-01, -1.31979479e-01,  4.21733708e-01,\n         3.95774101e-01],\n       [ 1.89829664e-01,  7.88807586e-01,  4.21733708e-01,\n         5.27406285e-01],\n       [ 1.03800476e+00,  9.82172869e-02,  5.35408562e-01,\n         3.95774101e-01],\n       [ 5.53333275e-01, -1.74335684e+00,  3.64896281e-01,\n         1.32509732e-01],\n       [-2.94841818e-01, -1.31979479e-01,  1.94384000e-01,\n         1.32509732e-01],\n       [-4.16009689e-01, -1.28296331e+00,  1.37546573e-01,\n         1.32509732e-01],\n       [-4.16009689e-01, -1.05276654e+00,  3.64896281e-01,\n         8.77547895e-04],\n       [ 3.10997534e-01, -1.31979479e-01,  4.78571135e-01,\n         2.64141916e-01],\n       [-5.25060772e-02, -1.05276654e+00,  1.37546573e-01,\n         8.77547895e-04],\n       [-1.02184904e+00, -1.74335684e+00, -2.60315415e-01,\n        -2.62386821e-01],\n       [-2.94841818e-01, -8.22569778e-01,  2.51221427e-01,\n         1.32509732e-01],\n       [-1.73673948e-01, -1.31979479e-01,  2.51221427e-01,\n         8.77547895e-04],\n       [-1.73673948e-01, -3.62176246e-01,  2.51221427e-01,\n         1.32509732e-01],\n       [ 4.32165405e-01, -3.62176246e-01,  3.08058854e-01,\n         1.32509732e-01],\n       [-9.00681170e-01, -1.28296331e+00, -4.30827696e-01,\n        -1.30754636e-01],\n       [-1.73673948e-01, -5.92373012e-01,  1.94384000e-01,\n         1.32509732e-01],\n       [ 5.53333275e-01,  5.58610819e-01,  1.27429511e+00,\n         1.71209594e+00],\n       [-5.25060772e-02, -8.22569778e-01,  7.62758269e-01,\n         9.22302838e-01],\n       [ 1.52267624e+00, -1.31979479e-01,  1.21745768e+00,\n         1.18556721e+00],\n       [ 5.53333275e-01, -3.62176246e-01,  1.04694540e+00,\n         7.90670654e-01],\n       [ 7.95669016e-01, -1.31979479e-01,  1.16062026e+00,\n         1.31719939e+00],\n       [ 2.12851559e+00, -1.31979479e-01,  1.61531967e+00,\n         1.18556721e+00],\n       [-1.14301691e+00, -1.28296331e+00,  4.21733708e-01,\n         6.59038469e-01],\n       [ 1.76501198e+00, -3.62176246e-01,  1.44480739e+00,\n         7.90670654e-01],\n       [ 1.03800476e+00, -1.28296331e+00,  1.16062026e+00,\n         7.90670654e-01],\n       [ 1.64384411e+00,  1.24920112e+00,  1.33113254e+00,\n         1.71209594e+00],\n       [ 7.95669016e-01,  3.28414053e-01,  7.62758269e-01,\n         1.05393502e+00],\n       [ 6.74501145e-01, -8.22569778e-01,  8.76433123e-01,\n         9.22302838e-01],\n       [ 1.15917263e+00, -1.31979479e-01,  9.90107977e-01,\n         1.18556721e+00],\n       [-1.73673948e-01, -1.28296331e+00,  7.05920842e-01,\n         1.05393502e+00],\n       [-5.25060772e-02, -5.92373012e-01,  7.62758269e-01,\n         1.58046376e+00],\n       [ 6.74501145e-01,  3.28414053e-01,  8.76433123e-01,\n         1.44883158e+00],\n       [ 7.95669016e-01, -1.31979479e-01,  9.90107977e-01,\n         7.90670654e-01],\n       [ 2.24968346e+00,  1.70959465e+00,  1.67215710e+00,\n         1.31719939e+00],\n       [ 2.24968346e+00, -1.05276654e+00,  1.78583195e+00,\n         1.44883158e+00],\n       [ 1.89829664e-01, -1.97355361e+00,  7.05920842e-01,\n         3.95774101e-01],\n       [ 1.28034050e+00,  3.28414053e-01,  1.10378283e+00,\n         1.44883158e+00],\n       [-2.94841818e-01, -5.92373012e-01,  6.49083415e-01,\n         1.05393502e+00],\n       [ 2.24968346e+00, -5.92373012e-01,  1.67215710e+00,\n         1.05393502e+00],\n       [ 5.53333275e-01, -8.22569778e-01,  6.49083415e-01,\n         7.90670654e-01],\n       [ 1.03800476e+00,  5.58610819e-01,  1.10378283e+00,\n         1.18556721e+00],\n       [ 1.64384411e+00,  3.28414053e-01,  1.27429511e+00,\n         7.90670654e-01],\n       [ 4.32165405e-01, -5.92373012e-01,  5.92245988e-01,\n         7.90670654e-01],\n       [ 3.10997534e-01, -1.31979479e-01,  6.49083415e-01,\n         7.90670654e-01],\n       [ 6.74501145e-01, -5.92373012e-01,  1.04694540e+00,\n         1.18556721e+00],\n       [ 1.64384411e+00, -1.31979479e-01,  1.16062026e+00,\n         5.27406285e-01],\n       [ 1.88617985e+00, -5.92373012e-01,  1.33113254e+00,\n         9.22302838e-01],\n       [ 2.49201920e+00,  1.70959465e+00,  1.50164482e+00,\n         1.05393502e+00],\n       [ 6.74501145e-01, -5.92373012e-01,  1.04694540e+00,\n         1.31719939e+00],\n       [ 5.53333275e-01, -5.92373012e-01,  7.62758269e-01,\n         3.95774101e-01],\n       [ 3.10997534e-01, -1.05276654e+00,  1.04694540e+00,\n         2.64141916e-01],\n       [ 2.24968346e+00, -1.31979479e-01,  1.33113254e+00,\n         1.44883158e+00],\n       [ 5.53333275e-01,  7.88807586e-01,  1.04694540e+00,\n         1.58046376e+00],\n       [ 6.74501145e-01,  9.82172869e-02,  9.90107977e-01,\n         7.90670654e-01],\n       [ 1.89829664e-01, -1.31979479e-01,  5.92245988e-01,\n         7.90670654e-01],\n       [ 1.28034050e+00,  9.82172869e-02,  9.33270550e-01,\n         1.18556721e+00],\n       [ 1.03800476e+00,  9.82172869e-02,  1.04694540e+00,\n         1.58046376e+00],\n       [ 1.28034050e+00,  9.82172869e-02,  7.62758269e-01,\n         1.44883158e+00],\n       [-5.25060772e-02, -8.22569778e-01,  7.62758269e-01,\n         9.22302838e-01],\n       [ 1.15917263e+00,  3.28414053e-01,  1.21745768e+00,\n         1.44883158e+00],\n       [ 1.03800476e+00,  5.58610819e-01,  1.10378283e+00,\n         1.71209594e+00],\n       [ 1.03800476e+00, -1.31979479e-01,  8.19595696e-01,\n         1.44883158e+00],\n       [ 5.53333275e-01, -1.28296331e+00,  7.05920842e-01,\n         9.22302838e-01],\n       [ 7.95669016e-01, -1.31979479e-01,  8.19595696e-01,\n         1.05393502e+00],\n       [ 4.32165405e-01,  7.88807586e-01,  9.33270550e-01,\n         1.44883158e+00],\n       [ 6.86617933e-02, -1.31979479e-01,  7.62758269e-01,\n         7.90670654e-01]])"
     },
     "execution_count": 4,
     "metadata": {},
     "output_type": "execute_result"
    }
   ],
   "source": [
    "# Standardize the features\n",
    "scaler = StandardScaler()\n",
    "X_scaled = scaler.fit_transform(X) # This is now a numpy ndarray. The first time is used fit_transform(), but later, only transform()\n",
    "X_scaled"
   ],
   "metadata": {
    "collapsed": false,
    "pycharm": {
     "name": "#%%\n"
    }
   }
  },
  {
   "cell_type": "code",
   "execution_count": 5,
   "outputs": [
    {
     "data": {
      "text/plain": "array([[5.1, 3.5, 1.4, 0.2],\n       [4.9, 3. , 1.4, 0.2],\n       [4.7, 3.2, 1.3, 0.2],\n       [4.6, 3.1, 1.5, 0.2],\n       [5. , 3.6, 1.4, 0.2],\n       [5.4, 3.9, 1.7, 0.4],\n       [4.6, 3.4, 1.4, 0.3],\n       [5. , 3.4, 1.5, 0.2],\n       [4.4, 2.9, 1.4, 0.2],\n       [4.9, 3.1, 1.5, 0.1]])"
     },
     "execution_count": 5,
     "metadata": {},
     "output_type": "execute_result"
    }
   ],
   "source": [
    "piece = X_scaled[:10, :] # This is a ndarray, a piece of X_scaled\n",
    "original = scaler.inverse_transform(piece)\n",
    "original # The inverse transform is working well and precisely"
   ],
   "metadata": {
    "collapsed": false,
    "pycharm": {
     "name": "#%%\n"
    }
   }
  },
  {
   "cell_type": "code",
   "execution_count": 6,
   "outputs": [
    {
     "data": {
      "text/plain": "LogisticRegression(n_jobs=-1)",
      "text/html": "<style>#sk-container-id-1 {color: black;}#sk-container-id-1 pre{padding: 0;}#sk-container-id-1 div.sk-toggleable {background-color: white;}#sk-container-id-1 label.sk-toggleable__label {cursor: pointer;display: block;width: 100%;margin-bottom: 0;padding: 0.3em;box-sizing: border-box;text-align: center;}#sk-container-id-1 label.sk-toggleable__label-arrow:before {content: \"▸\";float: left;margin-right: 0.25em;color: #696969;}#sk-container-id-1 label.sk-toggleable__label-arrow:hover:before {color: black;}#sk-container-id-1 div.sk-estimator:hover label.sk-toggleable__label-arrow:before {color: black;}#sk-container-id-1 div.sk-toggleable__content {max-height: 0;max-width: 0;overflow: hidden;text-align: left;background-color: #f0f8ff;}#sk-container-id-1 div.sk-toggleable__content pre {margin: 0.2em;color: black;border-radius: 0.25em;background-color: #f0f8ff;}#sk-container-id-1 input.sk-toggleable__control:checked~div.sk-toggleable__content {max-height: 200px;max-width: 100%;overflow: auto;}#sk-container-id-1 input.sk-toggleable__control:checked~label.sk-toggleable__label-arrow:before {content: \"▾\";}#sk-container-id-1 div.sk-estimator input.sk-toggleable__control:checked~label.sk-toggleable__label {background-color: #d4ebff;}#sk-container-id-1 div.sk-label input.sk-toggleable__control:checked~label.sk-toggleable__label {background-color: #d4ebff;}#sk-container-id-1 input.sk-hidden--visually {border: 0;clip: rect(1px 1px 1px 1px);clip: rect(1px, 1px, 1px, 1px);height: 1px;margin: -1px;overflow: hidden;padding: 0;position: absolute;width: 1px;}#sk-container-id-1 div.sk-estimator {font-family: monospace;background-color: #f0f8ff;border: 1px dotted black;border-radius: 0.25em;box-sizing: border-box;margin-bottom: 0.5em;}#sk-container-id-1 div.sk-estimator:hover {background-color: #d4ebff;}#sk-container-id-1 div.sk-parallel-item::after {content: \"\";width: 100%;border-bottom: 1px solid gray;flex-grow: 1;}#sk-container-id-1 div.sk-label:hover label.sk-toggleable__label {background-color: #d4ebff;}#sk-container-id-1 div.sk-serial::before {content: \"\";position: absolute;border-left: 1px solid gray;box-sizing: border-box;top: 0;bottom: 0;left: 50%;z-index: 0;}#sk-container-id-1 div.sk-serial {display: flex;flex-direction: column;align-items: center;background-color: white;padding-right: 0.2em;padding-left: 0.2em;position: relative;}#sk-container-id-1 div.sk-item {position: relative;z-index: 1;}#sk-container-id-1 div.sk-parallel {display: flex;align-items: stretch;justify-content: center;background-color: white;position: relative;}#sk-container-id-1 div.sk-item::before, #sk-container-id-1 div.sk-parallel-item::before {content: \"\";position: absolute;border-left: 1px solid gray;box-sizing: border-box;top: 0;bottom: 0;left: 50%;z-index: -1;}#sk-container-id-1 div.sk-parallel-item {display: flex;flex-direction: column;z-index: 1;position: relative;background-color: white;}#sk-container-id-1 div.sk-parallel-item:first-child::after {align-self: flex-end;width: 50%;}#sk-container-id-1 div.sk-parallel-item:last-child::after {align-self: flex-start;width: 50%;}#sk-container-id-1 div.sk-parallel-item:only-child::after {width: 0;}#sk-container-id-1 div.sk-dashed-wrapped {border: 1px dashed gray;margin: 0 0.4em 0.5em 0.4em;box-sizing: border-box;padding-bottom: 0.4em;background-color: white;}#sk-container-id-1 div.sk-label label {font-family: monospace;font-weight: bold;display: inline-block;line-height: 1.2em;}#sk-container-id-1 div.sk-label-container {text-align: center;}#sk-container-id-1 div.sk-container {/* jupyter's `normalize.less` sets `[hidden] { display: none; }` but bootstrap.min.css set `[hidden] { display: none !important; }` so we also need the `!important` here to be able to override the default hidden behavior on the sphinx rendered scikit-learn.org. See: https://github.com/scikit-learn/scikit-learn/issues/21755 */display: inline-block !important;position: relative;}#sk-container-id-1 div.sk-text-repr-fallback {display: none;}</style><div id=\"sk-container-id-1\" class=\"sk-top-container\"><div class=\"sk-text-repr-fallback\"><pre>LogisticRegression(n_jobs=-1)</pre><b>In a Jupyter environment, please rerun this cell to show the HTML representation or trust the notebook. <br />On GitHub, the HTML representation is unable to render, please try loading this page with nbviewer.org.</b></div><div class=\"sk-container\" hidden><div class=\"sk-item\"><div class=\"sk-estimator sk-toggleable\"><input class=\"sk-toggleable__control sk-hidden--visually\" id=\"sk-estimator-id-1\" type=\"checkbox\" checked><label for=\"sk-estimator-id-1\" class=\"sk-toggleable__label sk-toggleable__label-arrow\">LogisticRegression</label><div class=\"sk-toggleable__content\"><pre>LogisticRegression(n_jobs=-1)</pre></div></div></div></div></div>"
     },
     "execution_count": 6,
     "metadata": {},
     "output_type": "execute_result"
    }
   ],
   "source": [
    "model = LogisticRegression(n_jobs=-1)\n",
    "model.fit(X_scaled, y.values.ravel())"
   ],
   "metadata": {
    "collapsed": false,
    "pycharm": {
     "name": "#%%\n"
    }
   }
  },
  {
   "cell_type": "code",
   "execution_count": 7,
   "outputs": [],
   "source": [
    "def predicting(input_X):\n",
    "    \"\"\"\n",
    "    :param input_X: np array with like-original values\n",
    "    :return: prediction column\n",
    "    \"\"\"\n",
    "    scaled_input_X = scaler.transform(input_X)\n",
    "    return model.predict(scaled_input_X)"
   ],
   "metadata": {
    "collapsed": false,
    "pycharm": {
     "name": "#%%\n"
    }
   }
  },
  {
   "cell_type": "code",
   "execution_count": 8,
   "outputs": [
    {
     "name": "stderr",
     "output_type": "stream",
     "text": [
      "/home/jordan/Desktop/Python_examples/scikit-learn/venv/lib/python3.10/site-packages/sklearn/base.py:464: UserWarning: X does not have valid feature names, but StandardScaler was fitted with feature names\n",
      "  warnings.warn(\n"
     ]
    },
    {
     "data": {
      "text/plain": "array([0, 0])"
     },
     "execution_count": 8,
     "metadata": {},
     "output_type": "execute_result"
    }
   ],
   "source": [
    "test = np.array([[5.1, 3.5, 1.4, 0.2],\n",
    "                 [4.9, 3.0, 1.4, 0.2]])\n",
    "\n",
    "pred = predicting(input_X=test)\n",
    "pred"
   ],
   "metadata": {
    "collapsed": false,
    "pycharm": {
     "name": "#%%\n"
    }
   }
  },
  {
   "cell_type": "code",
   "execution_count": 9,
   "outputs": [
    {
     "name": "stdout",
     "output_type": "stream",
     "text": [
      "97.3%\n"
     ]
    }
   ],
   "source": [
    "# Printing the model score (how well the model fit data)\n",
    "model_score = model.score(X_scaled, y)\n",
    "print(f'{round(model_score*100, 1)}%')"
   ],
   "metadata": {
    "collapsed": false,
    "pycharm": {
     "name": "#%%\n"
    }
   }
  },
  {
   "cell_type": "code",
   "execution_count": 10,
   "outputs": [
    {
     "name": "stdout",
     "output_type": "stream",
     "text": [
      "(96.0 +- 3.9)%\n"
     ]
    }
   ],
   "source": [
    "# Performing cross validation for obtaining a more confidence value for model score\n",
    "\n",
    "from sklearn.model_selection import cross_val_score\n",
    "\n",
    "# The cross validation is applied on the whole sample.\n",
    "cv_score = cross_val_score(estimator=model,\n",
    "                           X=X_scaled, y=y.values.ravel(), cv=5, n_jobs=-1)\n",
    "\n",
    "cv_score_mean = round( cv_score.mean()*100, 1 )\n",
    "cv_score_std  = round( cv_score.std()*100, 1 )\n",
    "\n",
    "print(f'({cv_score_mean} +- {cv_score_std})%')"
   ],
   "metadata": {
    "collapsed": false,
    "pycharm": {
     "name": "#%%\n"
    }
   }
  },
  {
   "cell_type": "code",
   "execution_count": 11,
   "outputs": [],
   "source": [
    "# Applying PCA to scaled X data. (Here, we reduce/remove only one dimension)\n",
    "\n",
    "pca = PCA(n_components=3)\n",
    "X_pca_reduced = pca.fit_transform(X_scaled)\n",
    "\n",
    "A = pca.inverse_transform(X_pca_reduced)  # Here, applying inverse of PCA application\n",
    "B = scaler.inverse_transform(A)           # Here, applying inverse of Scaling application"
   ],
   "metadata": {
    "collapsed": false,
    "pycharm": {
     "name": "#%%\n"
    }
   }
  },
  {
   "cell_type": "markdown",
   "source": [
    "Let's compare the original X dataframe and B ndarray.\n",
    "We can observe that this two dataset are not equal. This is because PCA produces loss of information"
   ],
   "metadata": {
    "collapsed": false,
    "pycharm": {
     "name": "#%% md\n"
    }
   }
  },
  {
   "cell_type": "code",
   "execution_count": 12,
   "outputs": [
    {
     "data": {
      "text/plain": "     sepal length (cm)  sepal width (cm)  petal length (cm)  petal width (cm)\n0                  5.1               3.5                1.4               0.2\n1                  4.9               3.0                1.4               0.2\n2                  4.7               3.2                1.3               0.2\n3                  4.6               3.1                1.5               0.2\n4                  5.0               3.6                1.4               0.2\n..                 ...               ...                ...               ...\n145                6.7               3.0                5.2               2.3\n146                6.3               2.5                5.0               1.9\n147                6.5               3.0                5.2               2.0\n148                6.2               3.4                5.4               2.3\n149                5.9               3.0                5.1               1.8\n\n[150 rows x 4 columns]",
      "text/html": "<div>\n<style scoped>\n    .dataframe tbody tr th:only-of-type {\n        vertical-align: middle;\n    }\n\n    .dataframe tbody tr th {\n        vertical-align: top;\n    }\n\n    .dataframe thead th {\n        text-align: right;\n    }\n</style>\n<table border=\"1\" class=\"dataframe\">\n  <thead>\n    <tr style=\"text-align: right;\">\n      <th></th>\n      <th>sepal length (cm)</th>\n      <th>sepal width (cm)</th>\n      <th>petal length (cm)</th>\n      <th>petal width (cm)</th>\n    </tr>\n  </thead>\n  <tbody>\n    <tr>\n      <th>0</th>\n      <td>5.1</td>\n      <td>3.5</td>\n      <td>1.4</td>\n      <td>0.2</td>\n    </tr>\n    <tr>\n      <th>1</th>\n      <td>4.9</td>\n      <td>3.0</td>\n      <td>1.4</td>\n      <td>0.2</td>\n    </tr>\n    <tr>\n      <th>2</th>\n      <td>4.7</td>\n      <td>3.2</td>\n      <td>1.3</td>\n      <td>0.2</td>\n    </tr>\n    <tr>\n      <th>3</th>\n      <td>4.6</td>\n      <td>3.1</td>\n      <td>1.5</td>\n      <td>0.2</td>\n    </tr>\n    <tr>\n      <th>4</th>\n      <td>5.0</td>\n      <td>3.6</td>\n      <td>1.4</td>\n      <td>0.2</td>\n    </tr>\n    <tr>\n      <th>...</th>\n      <td>...</td>\n      <td>...</td>\n      <td>...</td>\n      <td>...</td>\n    </tr>\n    <tr>\n      <th>145</th>\n      <td>6.7</td>\n      <td>3.0</td>\n      <td>5.2</td>\n      <td>2.3</td>\n    </tr>\n    <tr>\n      <th>146</th>\n      <td>6.3</td>\n      <td>2.5</td>\n      <td>5.0</td>\n      <td>1.9</td>\n    </tr>\n    <tr>\n      <th>147</th>\n      <td>6.5</td>\n      <td>3.0</td>\n      <td>5.2</td>\n      <td>2.0</td>\n    </tr>\n    <tr>\n      <th>148</th>\n      <td>6.2</td>\n      <td>3.4</td>\n      <td>5.4</td>\n      <td>2.3</td>\n    </tr>\n    <tr>\n      <th>149</th>\n      <td>5.9</td>\n      <td>3.0</td>\n      <td>5.1</td>\n      <td>1.8</td>\n    </tr>\n  </tbody>\n</table>\n<p>150 rows × 4 columns</p>\n</div>"
     },
     "execution_count": 12,
     "metadata": {},
     "output_type": "execute_result"
    }
   ],
   "source": [
    "X"
   ],
   "metadata": {
    "collapsed": false,
    "pycharm": {
     "name": "#%%\n"
    }
   }
  },
  {
   "cell_type": "code",
   "execution_count": 13,
   "outputs": [
    {
     "data": {
      "text/plain": "array([[5.09478837, 3.50129672, 1.43407893, 0.19038654],\n       [4.87778763, 3.00552672, 1.54524708, 0.1590267 ],\n       [4.69388077, 3.20152254, 1.34001372, 0.18871238],\n       [4.61422265, 3.09646122, 1.40699784, 0.22623533],\n       [5.00774639, 3.5980726 , 1.34934621, 0.21428912],\n       [5.39857501, 3.90035455, 1.70931802, 0.39737145],\n       [4.60793028, 3.39802685, 1.34814378, 0.31462832],\n       [5.00530735, 3.39867946, 1.46529515, 0.20979002],\n       [4.40579192, 2.8985589 , 1.36212654, 0.21068387],\n       [4.90860388, 3.09785925, 1.44373909, 0.11587085],\n       [5.39639205, 3.7008977 , 1.52359245, 0.19334472],\n       [4.82878435, 3.39283809, 1.41177863, 0.25309608],\n       [4.79947707, 3.00013011, 1.40341948, 0.09903539],\n       [4.30414364, 2.99896901, 1.07290469, 0.10764342],\n       [5.75800806, 4.01044813, 1.47458602, 0.12254098],\n       [5.68910291, 4.40271133, 1.57125626, 0.37989905],\n       [5.35928343, 3.9101308 , 1.56624637, 0.32489355],\n       [5.07992599, 3.50499467, 1.53126432, 0.26297115],\n       [5.68682527, 3.80327804, 1.78614978, 0.27569768],\n       [5.10814179, 3.79797422, 1.44676069, 0.31501848],\n       [5.39764493, 3.40058597, 1.71539981, 0.19565581],\n       [5.08714844, 3.70319763, 1.58403659, 0.3762938 ],\n       [4.59576301, 3.60105422, 1.02770572, 0.19218439],\n       [5.06740797, 3.30810931, 1.91311985, 0.43988021],\n       [4.85825304, 3.38550591, 1.51908237, 0.30745451],\n       [4.99060637, 3.00233725, 1.66142511, 0.18267236],\n       [4.98540548, 3.4036313 , 1.69543383, 0.37307871],\n       [5.19778422, 3.50055132, 1.51448905, 0.19591273],\n       [5.18183035, 3.40452084, 1.51881166, 0.16648397],\n       [4.72334946, 3.19419036, 1.44731745, 0.2430708 ],\n       [4.81039144, 3.09741448, 1.53205017, 0.21916823],\n       [5.34827437, 3.41286999, 1.83823476, 0.30458607],\n       [5.24943241, 4.08770059, 1.17676059, 0.19118384],\n       [5.51039695, 4.19741311, 1.33201418, 0.21917838],\n       [4.89374149, 3.1015572 , 1.54092448, 0.18845546],\n       [4.96357672, 3.20906257, 1.43817244, 0.13281303],\n       [5.45765727, 3.51053541, 1.57687987, 0.1218939 ],\n       [4.92943583, 3.59267599, 1.20751861, 0.15429781],\n       [4.40209999, 2.9994775 , 1.28626811, 0.20387368],\n       [5.0984803 , 3.40037812, 1.50993736, 0.19719673],\n       [4.97693014, 3.50574007, 1.4508542 , 0.25744496],\n       [4.43749377, 2.31555234, 1.7087293 , 0.18469999],\n       [4.41436193, 3.19642657, 1.20608709, 0.22649225],\n       [4.96181168, 3.50950174, 1.84971409, 0.5295572 ],\n       [5.13257099, 3.79189593, 1.68701772, 0.46008098],\n       [4.7697523 , 3.00752601, 1.59779025, 0.24420459],\n       [5.13282707, 3.79183221, 1.38534321, 0.26055335],\n       [4.61053072, 3.19737982, 1.33113942, 0.21942514],\n       [5.3032191 , 3.69919905, 1.47895024, 0.20593801],\n       [4.98935348, 3.30264899, 1.46961775, 0.18036126],\n       [6.99248845, 3.20186897, 4.74911817, 1.38614407],\n       [6.39894258, 3.2002631 , 4.50691447, 1.49804947],\n       [6.89796794, 3.1005056 , 4.91328768, 1.49625163],\n       [5.48581761, 2.30352876, 4.09273886, 1.27383894],\n       [6.47741455, 2.80561955, 4.74768664, 1.45833851],\n       [5.75193284, 2.78707845, 4.16041027, 1.39579616],\n       [6.31668401, 3.29584881, 4.59090295, 1.6307756 ],\n       [4.90873777, 2.39782593, 3.24286355, 1.01611784],\n       [6.60644324, 2.89839684, 4.55786757, 1.3118853 ],\n       [5.20613737, 2.69847295, 3.85986765, 1.41132109],\n       [4.99703264, 2.00073832, 3.51940364, 0.99452635],\n       [5.89134722, 3.00215292, 4.25658071, 1.48403893],\n       [5.99013854, 2.20245366, 4.06448427, 0.98180939],\n       [6.13553901, 2.89115745, 4.46760981, 1.46555583],\n       [5.57648479, 2.90585088, 3.75376635, 1.25662346],\n       [6.67736995, 3.10563064, 4.54797832, 1.35825623],\n       [5.64129706, 2.98972477, 4.22995781, 1.57617723],\n       [5.84427038, 2.68898497, 3.81051519, 1.08166187],\n       [6.151287  , 2.21212041, 4.81853518, 1.4101432 ],\n       [5.61115437, 2.49722465, 3.82706136, 1.12057554],\n       [5.91795938, 3.19553148, 4.6825633 , 1.83312817],\n       [6.07551015, 2.80609338, 4.16013956, 1.25482562],\n       [6.30214444, 2.49946644, 4.88597749, 1.50395566],\n       [6.15913281, 2.78528701, 4.31332955, 1.30907734],\n       [6.39062865, 2.90233171, 4.36127941, 1.28271346],\n       [6.57806603, 3.00545745, 4.54342662, 1.35954024],\n       [6.79144157, 2.80212945, 4.85596371, 1.38421298],\n       [6.6855892 , 3.00358559, 5.09423245, 1.67341761],\n       [6.00785788, 2.89804486, 4.44861716, 1.51449478],\n       [5.68602909, 2.60347614, 3.59135603, 0.97422903],\n       [5.50202756, 2.39949552, 3.78674176, 1.10374007],\n       [5.50706705, 2.39824163, 3.65378846, 1.01303599],\n       [5.79489982, 2.70126899, 3.93335015, 1.19059213],\n       [6.03967094, 2.69012937, 4.84059104, 1.67317766],\n       [5.45495116, 2.98632746, 4.14067338, 1.60136381],\n       [6.02365035, 3.3941155 , 4.34534998, 1.64362581],\n       [6.69197625, 3.10199641, 4.75246743, 1.48519926],\n       [6.27049278, 2.30734177, 4.59294819, 1.24557051],\n       [5.63173024, 2.99210511, 3.89251539, 1.35853012],\n       [5.49807955, 2.50047783, 4.01255784, 1.29645751],\n       [5.55836449, 2.58547818, 4.01835358, 1.30766009],\n       [6.13184708, 2.99207604, 4.39175138, 1.45874565],\n       [5.79859175, 2.60035039, 4.00920857, 1.19740232],\n       [4.99577975, 2.30105005, 3.32759627, 0.99221526],\n       [5.62316023, 2.69423744, 4.04855484, 1.34272174],\n       [5.74958847, 2.98766176, 3.87574013, 1.2914717 ],\n       [5.72859512, 2.89288517, 4.01301603, 1.35274702],\n       [6.20428275, 2.8989344 , 4.27199499, 1.30790004],\n       [5.05688357, 2.51072791, 3.28193911, 1.02046672],\n       [5.71264125, 2.7968547 , 4.01733863, 1.32331826],\n       [6.31062021, 3.29735756, 5.93055426, 2.51959021],\n       [5.80873789, 2.6978259 , 5.04286278, 1.91611806],\n       [7.08723753, 3.00317546, 5.98345404, 2.07645813],\n       [6.35084144, 2.88735001, 5.26754697, 1.89378294],\n       [6.50351456, 2.99912553, 5.77701825, 2.20648301],\n       [7.62186254, 2.99456032, 6.45704047, 2.140328  ],\n       [4.92870681, 2.49285738, 4.31228567, 1.75295305],\n       [7.35133119, 2.88722815, 5.96434446, 1.89468635],\n       [6.71865514, 2.49535836, 5.67801369, 1.83441158],\n       [7.17739255, 3.60562502, 6.24783053, 2.45829792],\n       [6.47674099, 3.20578714, 5.25209107, 1.95709605],\n       [6.38742137, 2.70312972, 5.38225186, 1.87679726],\n       [6.7684271 , 3.00785574, 5.70645576, 2.04176011],\n       [5.67861772, 2.50532018, 5.13981907, 1.96055791],\n       [5.74055694, 2.81479018, 5.48869919, 2.29035036],\n       [6.35862668, 3.2102942 , 5.57054084, 2.2236821 ],\n       [6.5334954 , 2.99166592, 5.28097297, 1.86178617],\n       [7.75904375, 3.78530917, 6.31391187, 2.30891307],\n       [7.69025553, 2.60242455, 6.96371924, 2.2820252 ],\n       [6.01405558, 2.19650279, 4.90809031, 1.52592715],\n       [6.86378301, 3.20901125, 5.93682354, 2.23319355],\n       [5.59401479, 2.8014892 , 4.93913741, 1.98895958],\n       [7.72745883, 2.7931679 , 6.52044623, 2.05065101],\n       [6.26981922, 2.70750936, 5.09735262, 1.74432805],\n       [6.71329285, 3.29669257, 5.61307783, 2.12452021],\n       [7.24708246, 3.18828529, 5.69212697, 1.88684908],\n       [6.17295435, 2.8067293 , 4.97685199, 1.75011115],\n       [6.10186623, 2.99953566, 4.88779666, 1.80344249],\n       [6.39329626, 2.80166797, 5.64383585, 2.08763418],\n       [7.2448995 , 2.98882844, 5.50640141, 1.68282235],\n       [7.40386499, 2.79903834, 6.07472675, 1.90712943],\n       [7.94564573, 3.78864277, 6.10152178, 2.08419886],\n       [6.37843388, 2.80536592, 5.74102124, 2.16021878],\n       [6.34018314, 2.79000193, 4.83724177, 1.57412247],\n       [6.20555217, 2.57373729, 4.90979254, 1.59470325],\n       [7.63619624, 3.01587518, 6.5172139 , 2.18230654],\n       [6.29232198, 3.40191039, 5.65020672, 2.38583699],\n       [6.44645343, 3.0884418 , 5.19624024, 1.88568875],\n       [5.99887039, 3.00028106, 4.80738654, 1.7979163 ],\n       [6.85790812, 3.11047299, 5.67523955, 2.02235663],\n       [6.64662086, 3.1132814 , 5.94904711, 2.30153597],\n       [6.79871466, 3.12520107, 5.76230659, 2.11316741],\n       [5.80873789, 2.6978259 , 5.04286278, 1.91611806],\n       [6.79025585, 3.20242447, 5.96371715, 2.28202579],\n       [6.65384331, 3.31148437, 6.00181938, 2.41485862],\n       [6.61606069, 3.02088516, 5.74888059, 2.14516418],\n       [6.2525178 , 2.51181417, 5.31048695, 1.81241355],\n       [6.47430195, 3.006394  , 5.36804001, 1.95259695],\n       [6.19436562, 3.4014019 , 5.4368433 , 2.28960673],\n       [5.93516613, 2.99125022, 4.87004806, 1.86486802]])"
     },
     "execution_count": 13,
     "metadata": {},
     "output_type": "execute_result"
    }
   ],
   "source": [
    "B"
   ],
   "metadata": {
    "collapsed": false,
    "pycharm": {
     "name": "#%%\n"
    }
   }
  },
  {
   "cell_type": "code",
   "execution_count": 14,
   "outputs": [
    {
     "data": {
      "text/plain": "array([2.93808505, 0.9201649 , 0.14774182])"
     },
     "execution_count": 14,
     "metadata": {},
     "output_type": "execute_result"
    }
   ],
   "source": [
    "# Eigenvalues (magnitude of eigenvectors) of the three eigenvectors that maximize the variance (keeps the most information)\n",
    "pca.explained_variance_"
   ],
   "metadata": {
    "collapsed": false,
    "pycharm": {
     "name": "#%%\n"
    }
   }
  },
  {
   "cell_type": "code",
   "execution_count": 15,
   "outputs": [
    {
     "data": {
      "text/plain": "array([0.72962445, 0.22850762, 0.03668922])"
     },
     "execution_count": 15,
     "metadata": {},
     "output_type": "execute_result"
    }
   ],
   "source": [
    "# Percentage/ratio in between the eigenvalues (the sum is < 1.0)\n",
    "pca.explained_variance_ratio_"
   ],
   "metadata": {
    "collapsed": false,
    "pycharm": {
     "name": "#%%\n"
    }
   }
  },
  {
   "cell_type": "code",
   "execution_count": 16,
   "outputs": [
    {
     "data": {
      "text/plain": "array([[ 0.52106591, -0.26934744,  0.5804131 ,  0.56485654],\n       [ 0.37741762,  0.92329566,  0.02449161,  0.06694199],\n       [-0.71956635,  0.24438178,  0.14212637,  0.63427274]])"
     },
     "execution_count": 16,
     "metadata": {},
     "output_type": "execute_result"
    }
   ],
   "source": [
    "# Components of the three normalized eigenvectors which are 4-dimensional.\n",
    "# The euclidean norm is set to 1.0 here (e.g.: sqrt(sum(components^2)) = 1.0)\n",
    "pca.components_"
   ],
   "metadata": {
    "collapsed": false,
    "pycharm": {
     "name": "#%%\n"
    }
   }
  }
 ],
 "metadata": {
  "kernelspec": {
   "display_name": "Python 3",
   "language": "python",
   "name": "python3"
  },
  "language_info": {
   "codemirror_mode": {
    "name": "ipython",
    "version": 2
   },
   "file_extension": ".py",
   "mimetype": "text/x-python",
   "name": "python",
   "nbconvert_exporter": "python",
   "pygments_lexer": "ipython2",
   "version": "2.7.6"
  }
 },
 "nbformat": 4,
 "nbformat_minor": 0
}